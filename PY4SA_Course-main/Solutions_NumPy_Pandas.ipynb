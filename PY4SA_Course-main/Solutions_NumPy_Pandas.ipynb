{
 "cells": [
  {
   "cell_type": "markdown",
   "id": "22251e58-78c4-44bf-b39e-a3e7619120ee",
   "metadata": {},
   "source": [
    "# Python for Spatial Analysis\n",
    "## Second part of the module of GG3209 Spatial Analysis with GIS.\n",
    "### Notebook to practice NumPy and Pandas - Exercises\n",
    "\n",
    "---\n",
    "Dr Fernando Benitez -  University of St Andrews - School of Geography and Sustainable Development - First Iteration 2023 v.1.0 "
   ]
  },
  {
   "cell_type": "markdown",
   "id": "eaf0b951",
   "metadata": {},
   "source": [
    "# Practicing NumPy"
   ]
  },
  {
   "cell_type": "markdown",
   "id": "36aaf97a",
   "metadata": {},
   "source": [
    "## 2.0 \n",
    "Import numpy under the alias `np`."
   ]
  },
  {
   "cell_type": "code",
   "execution_count": 1,
   "id": "51aa53cd",
   "metadata": {},
   "outputs": [],
   "source": [
    "# The code goes here\n",
    "import numpy as np"
   ]
  },
  {
   "cell_type": "markdown",
   "id": "10df0fb9",
   "metadata": {},
   "source": [
    "## 2.1 \n",
    "\n",
    "Create the following arrays:\n",
    "\n",
    "* Create an array of 10 ones.\n",
    "\n",
    "* Create an array of the integers 1 to 20.\n",
    "\n",
    "* Create a 5 x 5 matrix of ones with a dtype int."
   ]
  },
  {
   "cell_type": "code",
   "execution_count": 2,
   "id": "5a1b83d1",
   "metadata": {},
   "outputs": [
    {
     "name": "stdout",
     "output_type": "stream",
     "text": [
      "[1. 1. 1. 1. 1. 1. 1. 1. 1. 1.]\n",
      "[ 0  1  2  3  4  5  6  7  8  9 10 11 12 13 14 15 16 17 18 19 20]\n",
      "[[1 1 1 1 1]\n",
      " [1 1 1 1 1]\n",
      " [1 1 1 1 1]\n",
      " [1 1 1 1 1]\n",
      " [1 1 1 1 1]]\n"
     ]
    }
   ],
   "source": [
    "#Code comes here\n",
    "print(np.ones(10))\n",
    "print(np.array(range(21)))\n",
    "print(np.ones((5, 5), dtype=int))"
   ]
  },
  {
   "cell_type": "markdown",
   "id": "f4d5f95c",
   "metadata": {},
   "source": [
    "## 2.2 \n",
    "Use numpy to:\n",
    "1. Create an 3D matrix of 3 x 3 x 3 full of random numbers drawn from a standard normal distribution (hint: `np.random.randn()`)\n",
    "2. Reshape the above array into shape (27,)"
   ]
  },
  {
   "cell_type": "code",
   "execution_count": 3,
   "id": "ac3df66e",
   "metadata": {},
   "outputs": [
    {
     "data": {
      "text/plain": [
       "array([[[ 0.50944983, -2.1001048 ,  0.91593417],\n",
       "        [-0.06520726, -0.09726439,  1.17376087],\n",
       "        [-0.26802875, -0.89915788, -0.99123731]],\n",
       "\n",
       "       [[-1.73099672,  0.75048942, -0.23939129],\n",
       "        [ 1.12578247,  1.11395834, -0.57069618],\n",
       "        [ 1.07124979,  0.33892289, -0.08500897]],\n",
       "\n",
       "       [[-0.91209935, -0.59969583,  0.89194771],\n",
       "        [ 0.53817051,  0.5575103 ,  0.05442166],\n",
       "        [-1.72321492,  1.2588049 , -0.13014682]]])"
      ]
     },
     "execution_count": 3,
     "metadata": {},
     "output_type": "execute_result"
    }
   ],
   "source": [
    "# Code comes here\n",
    "x = np.random.randn(3, 3, 3)\n",
    "x"
   ]
  },
  {
   "cell_type": "code",
   "execution_count": 4,
   "id": "e2b16afd",
   "metadata": {},
   "outputs": [
    {
     "data": {
      "text/plain": [
       "array([ 0.50944983, -2.1001048 ,  0.91593417, -0.06520726, -0.09726439,\n",
       "        1.17376087, -0.26802875, -0.89915788, -0.99123731, -1.73099672,\n",
       "        0.75048942, -0.23939129,  1.12578247,  1.11395834, -0.57069618,\n",
       "        1.07124979,  0.33892289, -0.08500897, -0.91209935, -0.59969583,\n",
       "        0.89194771,  0.53817051,  0.5575103 ,  0.05442166, -1.72321492,\n",
       "        1.2588049 , -0.13014682])"
      ]
     },
     "execution_count": 4,
     "metadata": {},
     "output_type": "execute_result"
    }
   ],
   "source": [
    "x.reshape(-1) # or x.reshape(27)"
   ]
  },
  {
   "cell_type": "markdown",
   "id": "5bbbbc97",
   "metadata": {},
   "source": [
    "# 2.3 \n",
    "\n",
    "Create an array of 20 linearly spaced numbers between 1 and 10."
   ]
  },
  {
   "cell_type": "code",
   "execution_count": 5,
   "id": "3304c495",
   "metadata": {},
   "outputs": [
    {
     "data": {
      "text/plain": [
       "array([ 1.        ,  1.47368421,  1.94736842,  2.42105263,  2.89473684,\n",
       "        3.36842105,  3.84210526,  4.31578947,  4.78947368,  5.26315789,\n",
       "        5.73684211,  6.21052632,  6.68421053,  7.15789474,  7.63157895,\n",
       "        8.10526316,  8.57894737,  9.05263158,  9.52631579, 10.        ])"
      ]
     },
     "execution_count": 5,
     "metadata": {},
     "output_type": "execute_result"
    }
   ],
   "source": [
    "# Code comes here\n",
    "np.linspace(1, 10, 20)"
   ]
  },
  {
   "cell_type": "markdown",
   "id": "fee4622b",
   "metadata": {},
   "source": [
    "## 2.4\n",
    "\n",
    "Run the following code to create an array of shape 4 x 4 and then use indexing to produce the outputs shown below."
   ]
  },
  {
   "cell_type": "code",
   "execution_count": 7,
   "id": "ce54aa24",
   "metadata": {},
   "outputs": [
    {
     "data": {
      "text/plain": [
       "array([[ 1,  2,  3,  4,  5],\n",
       "       [ 6,  7,  8,  9, 10],\n",
       "       [11, 12, 13, 14, 15],\n",
       "       [16, 17, 18, 19, 20],\n",
       "       [21, 22, 23, 24, 25]])"
      ]
     },
     "execution_count": 7,
     "metadata": {},
     "output_type": "execute_result"
    }
   ],
   "source": [
    "import numpy as np\n",
    "a = np.arange(1, 26).reshape(5, -1)\n",
    "a"
   ]
  },
  {
   "cell_type": "code",
   "execution_count": null,
   "id": "9fb30ef8",
   "metadata": {},
   "outputs": [],
   "source": [
    "20"
   ]
  },
  {
   "cell_type": "code",
   "execution_count": 8,
   "id": "e752079a",
   "metadata": {},
   "outputs": [
    {
     "data": {
      "text/plain": [
       "20"
      ]
     },
     "execution_count": 8,
     "metadata": {},
     "output_type": "execute_result"
    }
   ],
   "source": [
    "#Code goes here\n",
    "a[3,4]"
   ]
  },
  {
   "cell_type": "markdown",
   "id": "24c2d6c3",
   "metadata": {},
   "source": [
    "```python\n",
    "array([[ 9, 10],\n",
    "       [14, 15],\n",
    "       [19, 20],\n",
    "       [24, 25]])\n",
    "```"
   ]
  },
  {
   "cell_type": "code",
   "execution_count": 9,
   "id": "d86f1c2f",
   "metadata": {},
   "outputs": [
    {
     "data": {
      "text/plain": [
       "array([[ 9, 10],\n",
       "       [14, 15],\n",
       "       [19, 20],\n",
       "       [24, 25]])"
      ]
     },
     "execution_count": 9,
     "metadata": {},
     "output_type": "execute_result"
    }
   ],
   "source": [
    "# Code come here\n",
    "a[1:,3:]"
   ]
  },
  {
   "cell_type": "markdown",
   "id": "984bb786",
   "metadata": {},
   "source": [
    "```python\n",
    "array([ 6,  7,  8,  9, 10])\n",
    "```"
   ]
  },
  {
   "cell_type": "code",
   "execution_count": 10,
   "id": "943ec85c",
   "metadata": {},
   "outputs": [
    {
     "data": {
      "text/plain": [
       "array([ 6,  7,  8,  9, 10])"
      ]
     },
     "execution_count": 10,
     "metadata": {},
     "output_type": "execute_result"
    }
   ],
   "source": [
    "# Code comes here\n",
    "a[1,:]"
   ]
  },
  {
   "cell_type": "markdown",
   "id": "a8e576e0",
   "metadata": {},
   "source": [
    "## 2.5 \n",
    "\n",
    "Calculate the sum of all the numbers in `a`."
   ]
  },
  {
   "cell_type": "code",
   "execution_count": null,
   "id": "bd34b207",
   "metadata": {},
   "outputs": [],
   "source": [
    "# Code comes here"
   ]
  },
  {
   "cell_type": "markdown",
   "id": "50c3950b",
   "metadata": {},
   "source": [
    "## 2.6 \n",
    "\n",
    "Calculate the sum of each row in `a`."
   ]
  },
  {
   "cell_type": "code",
   "execution_count": 11,
   "id": "de620d7d",
   "metadata": {},
   "outputs": [
    {
     "data": {
      "text/plain": [
       "array([ 15,  40,  65,  90, 115])"
      ]
     },
     "execution_count": 11,
     "metadata": {},
     "output_type": "execute_result"
    }
   ],
   "source": [
    "# Code comes here\n",
    "a.sum(axis=1)"
   ]
  },
  {
   "cell_type": "markdown",
   "id": "ea9b2c11",
   "metadata": {},
   "source": [
    "## 2.7 \n",
    "\n",
    "Extract all values of `a` greater than the mean of `a` (hint: use a boolean mask)."
   ]
  },
  {
   "cell_type": "code",
   "execution_count": 12,
   "id": "aef9b210",
   "metadata": {},
   "outputs": [
    {
     "data": {
      "text/plain": [
       "array([14, 15, 16, 17, 18, 19, 20, 21, 22, 23, 24, 25])"
      ]
     },
     "execution_count": 12,
     "metadata": {},
     "output_type": "execute_result"
    }
   ],
   "source": [
    "# Code comes here\n",
    "a[a > a.mean()]"
   ]
  },
  {
   "cell_type": "markdown",
   "id": "9c31a0e1",
   "metadata": {},
   "source": [
    "# Practicing Pandas"
   ]
  },
  {
   "cell_type": "markdown",
   "id": "61c04b0c",
   "metadata": {},
   "source": [
    "## 2.8\n",
    "\n",
    "In this set of practice exercises we'll be investigating the carbon footprint of different foods. \n",
    "\n",
    "We'll be leveraging a dataset compiled by [Kasia Kulma](https://r-tastic.co.uk/post/from-messy-to-tidy/) and contributed to [R's Tidy Tuesday project](https://github.com/rfordatascience/tidytuesday).\n",
    "\n",
    "Start by importing pandas with the alias `pd`."
   ]
  },
  {
   "cell_type": "code",
   "execution_count": 14,
   "id": "8b9ede0d",
   "metadata": {},
   "outputs": [],
   "source": [
    "# Codes comes here\n",
    "import pandas as pd"
   ]
  },
  {
   "cell_type": "markdown",
   "id": "3d39a2d7",
   "metadata": {},
   "source": [
    "## 2.9 \n",
    "\n",
    "The dataset we'll be working with has the following columns:\n",
    "\n",
    "|column      |description |\n",
    "|:-------------|:-----------|\n",
    "|country       | Country Name |\n",
    "|food_category | Food Category |\n",
    "|consumption   | Consumption (kg/person/year) |\n",
    "|co2_emmission | Co2 Emission (Kg CO2/person/year) |\n",
    "\n",
    "\n",
    "Import the dataset as a dataframe named `df` from this url: <https://raw.githubusercontent.com/rfordatascience/tidytuesday/master/data/2020/2020-02-18/food_consumption.csv>"
   ]
  },
  {
   "cell_type": "code",
   "execution_count": 15,
   "id": "b39d8ebb",
   "metadata": {},
   "outputs": [
    {
     "data": {
      "text/html": [
       "<div>\n",
       "<style scoped>\n",
       "    .dataframe tbody tr th:only-of-type {\n",
       "        vertical-align: middle;\n",
       "    }\n",
       "\n",
       "    .dataframe tbody tr th {\n",
       "        vertical-align: top;\n",
       "    }\n",
       "\n",
       "    .dataframe thead th {\n",
       "        text-align: right;\n",
       "    }\n",
       "</style>\n",
       "<table border=\"1\" class=\"dataframe\">\n",
       "  <thead>\n",
       "    <tr style=\"text-align: right;\">\n",
       "      <th></th>\n",
       "      <th>country</th>\n",
       "      <th>food_category</th>\n",
       "      <th>consumption</th>\n",
       "      <th>co2_emmission</th>\n",
       "    </tr>\n",
       "  </thead>\n",
       "  <tbody>\n",
       "    <tr>\n",
       "      <th>0</th>\n",
       "      <td>Argentina</td>\n",
       "      <td>Pork</td>\n",
       "      <td>10.51</td>\n",
       "      <td>37.20</td>\n",
       "    </tr>\n",
       "    <tr>\n",
       "      <th>1</th>\n",
       "      <td>Argentina</td>\n",
       "      <td>Poultry</td>\n",
       "      <td>38.66</td>\n",
       "      <td>41.53</td>\n",
       "    </tr>\n",
       "    <tr>\n",
       "      <th>2</th>\n",
       "      <td>Argentina</td>\n",
       "      <td>Beef</td>\n",
       "      <td>55.48</td>\n",
       "      <td>1712.00</td>\n",
       "    </tr>\n",
       "    <tr>\n",
       "      <th>3</th>\n",
       "      <td>Argentina</td>\n",
       "      <td>Lamb &amp; Goat</td>\n",
       "      <td>1.56</td>\n",
       "      <td>54.63</td>\n",
       "    </tr>\n",
       "    <tr>\n",
       "      <th>4</th>\n",
       "      <td>Argentina</td>\n",
       "      <td>Fish</td>\n",
       "      <td>4.36</td>\n",
       "      <td>6.96</td>\n",
       "    </tr>\n",
       "    <tr>\n",
       "      <th>...</th>\n",
       "      <td>...</td>\n",
       "      <td>...</td>\n",
       "      <td>...</td>\n",
       "      <td>...</td>\n",
       "    </tr>\n",
       "    <tr>\n",
       "      <th>1425</th>\n",
       "      <td>Bangladesh</td>\n",
       "      <td>Milk - inc. cheese</td>\n",
       "      <td>21.91</td>\n",
       "      <td>31.21</td>\n",
       "    </tr>\n",
       "    <tr>\n",
       "      <th>1426</th>\n",
       "      <td>Bangladesh</td>\n",
       "      <td>Wheat and Wheat Products</td>\n",
       "      <td>17.47</td>\n",
       "      <td>3.33</td>\n",
       "    </tr>\n",
       "    <tr>\n",
       "      <th>1427</th>\n",
       "      <td>Bangladesh</td>\n",
       "      <td>Rice</td>\n",
       "      <td>171.73</td>\n",
       "      <td>219.76</td>\n",
       "    </tr>\n",
       "    <tr>\n",
       "      <th>1428</th>\n",
       "      <td>Bangladesh</td>\n",
       "      <td>Soybeans</td>\n",
       "      <td>0.61</td>\n",
       "      <td>0.27</td>\n",
       "    </tr>\n",
       "    <tr>\n",
       "      <th>1429</th>\n",
       "      <td>Bangladesh</td>\n",
       "      <td>Nuts inc. Peanut Butter</td>\n",
       "      <td>0.72</td>\n",
       "      <td>1.27</td>\n",
       "    </tr>\n",
       "  </tbody>\n",
       "</table>\n",
       "<p>1430 rows × 4 columns</p>\n",
       "</div>"
      ],
      "text/plain": [
       "         country             food_category  consumption  co2_emmission\n",
       "0      Argentina                      Pork        10.51          37.20\n",
       "1      Argentina                   Poultry        38.66          41.53\n",
       "2      Argentina                      Beef        55.48        1712.00\n",
       "3      Argentina               Lamb & Goat         1.56          54.63\n",
       "4      Argentina                      Fish         4.36           6.96\n",
       "...          ...                       ...          ...            ...\n",
       "1425  Bangladesh        Milk - inc. cheese        21.91          31.21\n",
       "1426  Bangladesh  Wheat and Wheat Products        17.47           3.33\n",
       "1427  Bangladesh                      Rice       171.73         219.76\n",
       "1428  Bangladesh                  Soybeans         0.61           0.27\n",
       "1429  Bangladesh   Nuts inc. Peanut Butter         0.72           1.27\n",
       "\n",
       "[1430 rows x 4 columns]"
      ]
     },
     "execution_count": 15,
     "metadata": {},
     "output_type": "execute_result"
    }
   ],
   "source": [
    "# Code comes here\n",
    "url = \"https://raw.githubusercontent.com/rfordatascience/tidytuesday/master/data/2020/2020-02-18/food_consumption.csv\"\n",
    "df = pd.read_csv(url)\n",
    "df"
   ]
  },
  {
   "cell_type": "markdown",
   "id": "f903c8a1",
   "metadata": {},
   "source": [
    "## 2.10 \n",
    "\n",
    "How many rows and columns are there in the dataframe?"
   ]
  },
  {
   "cell_type": "code",
   "execution_count": 16,
   "id": "39cd4f89",
   "metadata": {},
   "outputs": [
    {
     "data": {
      "text/plain": [
       "(1430, 4)"
      ]
     },
     "execution_count": 16,
     "metadata": {},
     "output_type": "execute_result"
    }
   ],
   "source": [
    "#Code comes here\n",
    "df.shape"
   ]
  },
  {
   "cell_type": "markdown",
   "id": "8f0b87b0",
   "metadata": {},
   "source": [
    "## 2.11\n",
    "\n",
    "What is the mean `co2_emission` of the whole dataset?"
   ]
  },
  {
   "cell_type": "code",
   "execution_count": 17,
   "id": "8a8b3edc",
   "metadata": {},
   "outputs": [
    {
     "data": {
      "text/plain": [
       "74.383993006993"
      ]
     },
     "execution_count": 17,
     "metadata": {},
     "output_type": "execute_result"
    }
   ],
   "source": [
    "# Code comes here\n",
    "df[\"co2_emmission\"].mean()"
   ]
  },
  {
   "cell_type": "markdown",
   "id": "1acb3cc5",
   "metadata": {},
   "source": [
    "## 2.12\n",
    "\n",
    "What is the maximum `co2_emmission` in the dataset and which food type and country does it belong to?"
   ]
  },
  {
   "cell_type": "code",
   "execution_count": 18,
   "id": "04f58ddd",
   "metadata": {},
   "outputs": [
    {
     "data": {
      "text/plain": [
       "country          Argentina\n",
       "food_category         Beef\n",
       "consumption          55.48\n",
       "co2_emmission       1712.0\n",
       "Name: 2, dtype: object"
      ]
     },
     "execution_count": 18,
     "metadata": {},
     "output_type": "execute_result"
    }
   ],
   "source": [
    "# Code comes here\n",
    "df.iloc[df['co2_emmission'].idxmax()]"
   ]
  },
  {
   "cell_type": "markdown",
   "id": "68ba75e4",
   "metadata": {},
   "source": [
    "## 2.13\n",
    "\n",
    "How many countries produce more than 1000 Kg CO2/person/year for at least one food type?"
   ]
  },
  {
   "cell_type": "code",
   "execution_count": 19,
   "id": "0dac7b68",
   "metadata": {},
   "outputs": [
    {
     "data": {
      "text/html": [
       "<div>\n",
       "<style scoped>\n",
       "    .dataframe tbody tr th:only-of-type {\n",
       "        vertical-align: middle;\n",
       "    }\n",
       "\n",
       "    .dataframe tbody tr th {\n",
       "        vertical-align: top;\n",
       "    }\n",
       "\n",
       "    .dataframe thead th {\n",
       "        text-align: right;\n",
       "    }\n",
       "</style>\n",
       "<table border=\"1\" class=\"dataframe\">\n",
       "  <thead>\n",
       "    <tr style=\"text-align: right;\">\n",
       "      <th></th>\n",
       "      <th>country</th>\n",
       "      <th>food_category</th>\n",
       "      <th>consumption</th>\n",
       "      <th>co2_emmission</th>\n",
       "    </tr>\n",
       "  </thead>\n",
       "  <tbody>\n",
       "    <tr>\n",
       "      <th>2</th>\n",
       "      <td>Argentina</td>\n",
       "      <td>Beef</td>\n",
       "      <td>55.48</td>\n",
       "      <td>1712.00</td>\n",
       "    </tr>\n",
       "    <tr>\n",
       "      <th>13</th>\n",
       "      <td>Australia</td>\n",
       "      <td>Beef</td>\n",
       "      <td>33.86</td>\n",
       "      <td>1044.85</td>\n",
       "    </tr>\n",
       "    <tr>\n",
       "      <th>57</th>\n",
       "      <td>USA</td>\n",
       "      <td>Beef</td>\n",
       "      <td>36.24</td>\n",
       "      <td>1118.29</td>\n",
       "    </tr>\n",
       "    <tr>\n",
       "      <th>90</th>\n",
       "      <td>Brazil</td>\n",
       "      <td>Beef</td>\n",
       "      <td>39.25</td>\n",
       "      <td>1211.17</td>\n",
       "    </tr>\n",
       "    <tr>\n",
       "      <th>123</th>\n",
       "      <td>Bermuda</td>\n",
       "      <td>Beef</td>\n",
       "      <td>33.15</td>\n",
       "      <td>1022.94</td>\n",
       "    </tr>\n",
       "  </tbody>\n",
       "</table>\n",
       "</div>"
      ],
      "text/plain": [
       "       country food_category  consumption  co2_emmission\n",
       "2    Argentina          Beef        55.48        1712.00\n",
       "13   Australia          Beef        33.86        1044.85\n",
       "57         USA          Beef        36.24        1118.29\n",
       "90      Brazil          Beef        39.25        1211.17\n",
       "123    Bermuda          Beef        33.15        1022.94"
      ]
     },
     "execution_count": 19,
     "metadata": {},
     "output_type": "execute_result"
    }
   ],
   "source": [
    "#code comes here\n",
    "df.query(\"co2_emmission > 1000\")"
   ]
  },
  {
   "cell_type": "markdown",
   "id": "507fe1cd",
   "metadata": {},
   "source": [
    "## 2.14\n",
    "\n",
    "Which country consumes the least amount of beef per person per year?\n"
   ]
  },
  {
   "cell_type": "code",
   "execution_count": 20,
   "id": "e4bf7f60",
   "metadata": {},
   "outputs": [
    {
     "data": {
      "text/html": [
       "<div>\n",
       "<style scoped>\n",
       "    .dataframe tbody tr th:only-of-type {\n",
       "        vertical-align: middle;\n",
       "    }\n",
       "\n",
       "    .dataframe tbody tr th {\n",
       "        vertical-align: top;\n",
       "    }\n",
       "\n",
       "    .dataframe thead th {\n",
       "        text-align: right;\n",
       "    }\n",
       "</style>\n",
       "<table border=\"1\" class=\"dataframe\">\n",
       "  <thead>\n",
       "    <tr style=\"text-align: right;\">\n",
       "      <th></th>\n",
       "      <th>country</th>\n",
       "      <th>food_category</th>\n",
       "      <th>consumption</th>\n",
       "      <th>co2_emmission</th>\n",
       "    </tr>\n",
       "  </thead>\n",
       "  <tbody>\n",
       "    <tr>\n",
       "      <th>1410</th>\n",
       "      <td>Liberia</td>\n",
       "      <td>Beef</td>\n",
       "      <td>0.78</td>\n",
       "      <td>24.07</td>\n",
       "    </tr>\n",
       "  </tbody>\n",
       "</table>\n",
       "</div>"
      ],
      "text/plain": [
       "      country food_category  consumption  co2_emmission\n",
       "1410  Liberia          Beef         0.78          24.07"
      ]
     },
     "execution_count": 20,
     "metadata": {},
     "output_type": "execute_result"
    }
   ],
   "source": [
    "# code comes here\n",
    "(df.query(\"food_category == 'Beef'\")\n",
    "   .sort_values(by=\"consumption\")\n",
    "   .head(1))"
   ]
  },
  {
   "cell_type": "markdown",
   "id": "e40cbc79",
   "metadata": {},
   "source": [
    "## 2.15\n",
    "\n",
    "What is the total emissions of all the meat products (Pork, Poultry, Fish, Lamb & Goat, Beef) in the dataset combined?"
   ]
  },
  {
   "cell_type": "code",
   "execution_count": 22,
   "id": "932f7976",
   "metadata": {},
   "outputs": [
    {
     "data": {
      "text/plain": [
       "74441.13"
      ]
     },
     "execution_count": 22,
     "metadata": {},
     "output_type": "execute_result"
    }
   ],
   "source": [
    "# code comes here\n",
    "meat = ['Poultry', 'Pork', 'Fish', 'Lamb & Goat', 'Beef']\n",
    "df[\"co2_emmission\"][df['food_category'].isin(meat)].sum()"
   ]
  },
  {
   "cell_type": "markdown",
   "id": "2e01f760",
   "metadata": {},
   "source": [
    "# 2.16 \n",
    "\n",
    "What is the total emissions of all other (non-meat) products in the dataset combined?"
   ]
  },
  {
   "cell_type": "code",
   "execution_count": 24,
   "id": "6d0c8ac4",
   "metadata": {},
   "outputs": [
    {
     "data": {
      "text/plain": [
       "31927.98"
      ]
     },
     "execution_count": 24,
     "metadata": {},
     "output_type": "execute_result"
    }
   ],
   "source": [
    "# code comes here\n",
    "meat = ['Poultry', 'Pork', 'Fish', 'Lamb & Goat', 'Beef']\n",
    "df[\"co2_emmission\"][~df['food_category'].isin(meat)].sum() #check the use of ~"
   ]
  }
 ],
 "metadata": {
  "kernelspec": {
   "display_name": "py4sa",
   "language": "python",
   "name": "python3"
  },
  "language_info": {
   "codemirror_mode": {
    "name": "ipython",
    "version": 3
   },
   "file_extension": ".py",
   "mimetype": "text/x-python",
   "name": "python",
   "nbconvert_exporter": "python",
   "pygments_lexer": "ipython3",
   "version": "3.10.9"
  },
  "vscode": {
   "interpreter": {
    "hash": "a62a218f45948969006c944db2ca1c519af623da5e08f864ae6aafcacb945df1"
   }
  }
 },
 "nbformat": 4,
 "nbformat_minor": 5
}
