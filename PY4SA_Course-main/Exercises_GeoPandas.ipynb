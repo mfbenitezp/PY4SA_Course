{
 "cells": [
  {
   "attachments": {},
   "cell_type": "markdown",
   "id": "22251e58-78c4-44bf-b39e-a3e7619120ee",
   "metadata": {},
   "source": [
    "# Python for Spatial Analysis\n",
    "## Second part of the module of GG3209 Spatial Analysis with GIS.\n",
    "### Notebook to practice GeoPandas - Exercises\n",
    "\n",
    "---\n",
    "Dr Fernando Benitez -  University of St Andrews - School of Geography and Sustainable Development - First Iteration 2023 v.1.0 "
   ]
  },
  {
   "attachments": {},
   "cell_type": "markdown",
   "id": "af5c7966",
   "metadata": {},
   "source": [
    "## 3.1 Practicing GeoPandas \n",
    "\n",
    "In the folder London Data you will find a shapefile representing the LSOA polygns with the population from the latest census 2021,  **data\\london_data\\Census2o_LSOA.shp** . For example, the column \"Pop20\" contains population counts for each LSOA area. For this excersice you need to create and wirte the code for the following challenges.\n",
    "\n",
    "Read the **Census2o_LSOA.shp** layer into a GeoDataFrame.\n",
    "\n",
    "- Subset the following columns (plus the geometry!):\n",
    "\n",
    "    * LSOA11CD --> LSOA area code\n",
    "    * LSOA11NM --> LSOA area name \n",
    "    * LSOA11NMW --> LSOA bigger area\n",
    "    * Pop20 -->  Population counts\n",
    "\n",
    "- What is the Coordinate Reference System of the layer? \n",
    "\n",
    "- How many features does the layer contain? Write an expression that returns the result as int.\n",
    "\n",
    "- The values in the \"LSOA11CD\" column (code area ID) should all be unique. How can you make sure? Either use one of the methods we learned earlier, or search online (e.g., google “pandas check for duplicates”).\n",
    "\n",
    "- Plot the layer using the .plot method\n",
    "\n",
    "- Plot the layer using the .explorer method\n",
    "\n",
    "- Subset just the LSOA areas with Pop20 counts greater than 1500.\n",
    "\n",
    "- Plot the resulting subset, using symbology according to total population size, i.e., the \"Pop_Total\" column, and using a sequentual color map such as \"Reds\".\n",
    "\n",
    "- How many areas are there with the requested population? (hint: shape)\n",
    "\n",
    "- What is the total population of the subset layer? (hint: sum)"
   ]
  },
  {
   "attachments": {},
   "cell_type": "markdown",
   "id": "48ec6fda",
   "metadata": {},
   "source": [
    "## 3.2 Practicing Rasterio\n",
    "\n",
    "Import rasterio under the alias `rio`.\n"
   ]
  },
  {
   "cell_type": "code",
   "execution_count": 1,
   "id": "fe06f9b6",
   "metadata": {},
   "outputs": [],
   "source": [
    "# codes goes here"
   ]
  },
  {
   "attachments": {},
   "cell_type": "markdown",
   "id": "f1a0864a",
   "metadata": {},
   "source": [
    "Download the following raster image, and then write the required code to accomplish the following challenges.\n",
    "\n",
    "https://storage.googleapis.com/gcp-public-data-landsat/LC08/01/046/027/LC08_L1TP_046027_20181224_20190129_01_T1/LC08_L1TP_046027_20181224_20190129_01_T1_B8.TIF\n",
    "\n",
    "- Read the file as a rasterio dataset\n",
    "- What is the CRS of the dataset?\n",
    "- What is the raster extent (bounds) of the dataset in projected coordinates?\n",
    "- How many bands are there in this dataset?\n",
    "- Create a plot of the image\n",
    "- Create a Histograms from the raster\n",
    "- Using EarthPy create a plot of false color\n",
    "\n"
   ]
  },
  {
   "attachments": {},
   "cell_type": "markdown",
   "id": "18dc76aa",
   "metadata": {},
   "source": [
    "## Well done!\n",
    "\n",
    "If you have finished **Python_DataViz, Python_GeoPandas and the Exercises**, make sure you commit and push all changes to your cloned repository in GutHub. That will ensure all your practice is secure in the cloud."
   ]
  }
 ],
 "metadata": {
  "kernelspec": {
   "display_name": "Python 3 (ipykernel)",
   "language": "python",
   "name": "python3"
  },
  "language_info": {
   "codemirror_mode": {
    "name": "ipython",
    "version": 3
   },
   "file_extension": ".py",
   "mimetype": "text/x-python",
   "name": "python",
   "nbconvert_exporter": "python",
   "pygments_lexer": "ipython3",
   "version": "3.10.9"
  },
  "vscode": {
   "interpreter": {
    "hash": "3f407111c129f019f2340fe5f9de2048ab167daf9d5431fe44f2b7f9a5a6e947"
   }
  }
 },
 "nbformat": 4,
 "nbformat_minor": 5
}
