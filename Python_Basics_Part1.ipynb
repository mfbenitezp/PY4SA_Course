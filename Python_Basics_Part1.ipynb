{
 "cells": [
  {
   "cell_type": "markdown",
   "metadata": {
    "tags": []
   },
   "source": [
    "# Python for Spatial Analysis\n",
    "## Second part of the module of GG3209 Spatial Analysis with GIS.\n",
    "### Notebook to learn and practice the python Basics - Part 1\n",
    "\n",
    "---\n",
    "Dr Fernando Benitez -  University of St Andrews - School of Geography and Sustainable Development - First Iteration 2023 v.1.0"
   ]
  },
  {
   "cell_type": "markdown",
   "metadata": {},
   "source": [
    "### Introduction \n",
    "\n",
    "Now you have acquired some basic skill of creating new notebooks, run your python environment, the next step and certainty long process is to learn the python basics of this programming language. This will give you an initial idea og the 'grammar' rules python includes.\n",
    "\n",
    "Please go to each cell and address the challenges/question when is required. You must have forked and cloned this repository that includes the notebook you need to execute, once you have resolven the challenges included please commit and push your changes to your repository.\n",
    "\n",
    "### Content:\n",
    "\n",
    "1. How to deal with **variables**.\n",
    "2. Explain the difference between **Python data types**.\n",
    "3. Perform mathematical and logical operations. \n",
    "4. Work with **lists**, **tuples**, **sets**, and **dictionaries**.\n",
    "5. Apply appropriate **methods** to different data types. \n",
    "\n",
    "If you need more information, examples there is a great resource in [w3school.com](https://www.w3schools.com/python/).\n"
   ]
  },
  {
   "cell_type": "markdown",
   "metadata": {},
   "source": [
    "## Variables"
   ]
  },
  {
   "cell_type": "markdown",
   "metadata": {},
   "source": [
    "You can think of a **Variable** as anything that related to information or data. A Variable can be a file path on your local machine, could be also a path to a shapefile, could be just a number or letter. Once you create a variable you are assigning a certain space of memory on your computer to storage that information. So you could use it or call it to reference the associated data or object for use in processes and analyses. Note that there are some rules for variable names:\n",
    "\n",
    "There are certain considerations:\n",
    "\n",
    "* cannot start with a number or special character (or, can only start with a letter or an underscore) (for example, x1 is valid while 1x is not.).\n",
    "* can only contain letters, numbers, or underscores. No other special characters are allowed (for example, x, x1, \\_x, and x1_ are all valid. x$ is not valid.).\n",
    "* are case-sensitive (for example, x1 and X1 are two separate variables).\n",
    "\n",
    "Since Python is an object-based language, you will primarily interact with your data using variables. The *print()* function is used to print the data referenced by the variable."
   ]
  },
  {
   "cell_type": "code",
   "execution_count": 1,
   "metadata": {},
   "outputs": [
    {
     "name": "stdout",
     "output_type": "stream",
     "text": [
      "1\n",
      "Python\n",
      "2\n",
      "Spatial Data\n",
      "3\n",
      "Web GIS\n"
     ]
    }
   ],
   "source": [
    "x = 1\n",
    "y = \"Python\"\n",
    "x1 = 2\n",
    "y1 = \"Spatial Data\"\n",
    "_x = 3\n",
    "_y = \"Web GIS\"\n",
    "print(x)\n",
    "print(y)\n",
    "print(x1)\n",
    "print(y1)\n",
    "print(_x)\n",
    "print(_y)"
   ]
  },
  {
   "cell_type": "markdown",
   "metadata": {},
   "source": [
    "You can also assign data to multiple variables as a single line of code as demonstrated below. In Python variable names are dynamic, so you can overwrite them. This can, however, be problematic if you overwrite a variable name accidentally. So, use unique names if you do not want to overwrite prior variable."
   ]
  },
  {
   "cell_type": "code",
   "execution_count": 2,
   "metadata": {},
   "outputs": [
    {
     "name": "stdout",
     "output_type": "stream",
     "text": [
      "1\n",
      "2\n",
      "3\n"
     ]
    }
   ],
   "source": [
    "x, x1, _x = 1, 2, 3\n",
    "print(x)\n",
    "print(x1)\n",
    "print(_x)"
   ]
  },
  {
   "cell_type": "markdown",
   "metadata": {},
   "source": [
    "**Assignment Operators** are used to assign values or data to variables. The most commonly used operator is *=*. However, there are some other options that allow variables to be manipulated mathematically with the resulting value saved back to the original data object that the variable references. These additional assignment operators can be useful, but you will use the *=* operator most of the time. \n",
    "\n",
    "For example, *+=* will add a value to the current value and assign the result back to the original variable. In the first example below, *x* references the value 2. The *+=* assignment operator is then used to add 3 to *x* and save the result back to *x*. Work through the provided examples and make sure you understand the use of each operator. "
   ]
  },
  {
   "cell_type": "code",
   "execution_count": 2,
   "metadata": {},
   "outputs": [
    {
     "name": "stdout",
     "output_type": "stream",
     "text": [
      "2\n",
      "5\n",
      "2\n",
      "-1\n",
      "2\n",
      "6\n",
      "2\n",
      "0.6666666666666666\n",
      "2\n",
      "8\n"
     ]
    }
   ],
   "source": [
    "x = 2\n",
    "print(x)\n",
    "x += 3\n",
    "print(x)\n",
    "\n",
    "x = 2\n",
    "print(x)\n",
    "x -= 3\n",
    "print(x)\n",
    "\n",
    "x = 2\n",
    "print(x)\n",
    "x *= 3\n",
    "print(x)\n",
    "\n",
    "x = 2\n",
    "print(x)\n",
    "x /= 3\n",
    "print(x)\n",
    "\n",
    "x = 2\n",
    "print(x)\n",
    "x **= 3\n",
    "print(x)"
   ]
  },
  {
   "cell_type": "markdown",
   "metadata": {},
   "source": [
    "#### Important Note:\n",
    "\n",
    "In the cell bellow, you will run small experiment that explains some important behavior of Python. You have defined a variable *a* that holds a **list** of three values. We will discuss **lists** later in this section. Now, you create a new variable *b* and assign it to be equal to *a*. Layer you edit the variable *a* by appending a new value to the list (You will see how this is done later, so don't worry if you don't understand how this works yet). When you print *a* and *b*, you can see that both variables contain the same set of numbers in the list even though you added 8 to *a* after setting *b* equal to *a*. Or, the change that you made to *a* was also applied to *b*. \n",
    "\n",
    "In Python, certain types of objects, such as lists, are **mutable**. This means that it is possible to change the data stored in memory and referenced to the variable. When a mutable object is altered, all variables that point to it will reflect this change. What this means practically is that setting *b* equal to *a* results in *a* and *b* pointing to the same object or data in memory. So, changes to *a* or *b* will be reflected in both variables since the data being referenced by both have been updated. \n",
    "\n",
    "If you have  experience in **R**, and I guess you do, you will see how Python is different, as in R, setting a variable equal to another variable would make a copy that was not linked and could be altered without changing the original variable. \n",
    "\n",
    "To test whether two variables reference the same object in memory, you can use the *is* keyword. if *True* is returned, then they reference the same object. You can also print the object ID, which represents the memory address for the object, using the *id()* function. Using both methods below, you can see that *a* and *b* reference the same object. "
   ]
  },
  {
   "cell_type": "code",
   "execution_count": 4,
   "metadata": {},
   "outputs": [
    {
     "name": "stdout",
     "output_type": "stream",
     "text": [
      "[5, 6, 7, 8]\n",
      "[5, 6, 7, 8]\n",
      "True\n",
      "2348394568512\n",
      "2348394568512\n"
     ]
    }
   ],
   "source": [
    "a = [5, 6, 7]\n",
    "b = a\n",
    "a.append(8)\n",
    "print(a)\n",
    "print(b)\n",
    "\n",
    "print(a is b)\n",
    "print(id(a))\n",
    "print(id(b))"
   ]
  },
  {
   "cell_type": "markdown",
   "metadata": {},
   "source": [
    "What if you wanted to make a copy of a variable referencing mutable data that does not reference the same object?\n",
    "\n",
    "For example, you may want to be able to make changes to *a* that do not impact *b*. This can be accomplished using the *copy()* or *deepcopy()* functions from the **copy** module.\n",
    "\n",
    "Check how now we import a new package, module or library to get new functionalities.\n",
    "\n",
    "In the experiment below, You have defined *b* as a deep copy of *a*. Now, changes made to *a* do not impact *b*. This is because they do not reference the same object in memory since *deepcopy()* makes a copy of the object or data to a new location in memory. This is confirmed using *is* and *id()*."
   ]
  },
  {
   "cell_type": "code",
   "execution_count": 3,
   "metadata": {},
   "outputs": [
    {
     "name": "stdout",
     "output_type": "stream",
     "text": [
      "[5, 6, 7, 8]\n",
      "[5, 6, 7]\n",
      "False\n",
      "2198180632320\n",
      "2198181000128\n"
     ]
    }
   ],
   "source": [
    "import copy\n",
    "a = [5, 6, 7]\n",
    "b = copy.deepcopy(a)\n",
    "a.append(8)\n",
    "print(a)\n",
    "print(b)\n",
    "\n",
    "print(a is b)\n",
    "print(id(a))\n",
    "print(id(b))"
   ]
  },
  {
   "cell_type": "markdown",
   "metadata": {},
   "source": [
    "## Comments (Important for clear and scalable coding)"
   ]
  },
  {
   "cell_type": "markdown",
   "metadata": {},
   "source": [
    "Now please pay attention as this is the key of many developers and analysts, you need to learn how to commenting your code. **Comments** are used to make your code more readable and are not interpreted by the computer. Instead, they are skipped and meant for humans. Different languages use different syntax to denote comments. Python uses the hashtag or pound sign. You can add comments as new lines or following code on the same line. \n",
    "\n",
    "**Unfortunately**, Python does not have specific syntax for multi-line comments. However, this can be accomplished by adding hashtags before each separate line or using a multi-line string that is not assigned to a variable. Examples are shown below. \n",
    "\n",
    "It is generally a good idea to comment your code for later use and for use by others. In fact you need to comment your code for all assignments and exercises you run in this part of the course."
   ]
  },
  {
   "cell_type": "code",
   "execution_count": null,
   "metadata": {},
   "outputs": [],
   "source": [
    "#Single-line comment\n",
    "x = 1\n",
    "y = 2 #Another single-line comment\n",
    "#A\n",
    "#multi-line\n",
    "#comment\n",
    "z = 3\n",
    "\"\"\"\n",
    "Another multi-line comment\n",
    "\"\"\"\n",
    "w = 4"
   ]
  },
  {
   "cell_type": "markdown",
   "metadata": {},
   "source": [
    "## Data Types"
   ]
  },
  {
   "cell_type": "markdown",
   "metadata": {},
   "source": [
    "A variety of **data types** are available in Python to store and work with a variety of input. Below are explanations of the data types which you will use most often. There are additional types that we will not discuss. \n",
    "\n",
    "When creating a variable, it is not generally necessary to explicitly define the data type. However, this can be accomplished using **constructor functions** if so desired. Constructor functions can also be used to change the data type of a variable, a process known as **casting**. \n",
    "\n",
    "Available constructor methods include *str()*, *int()*, *float()*, *complex()*, *list()*, *tuple()*, *dict()*, *set()*, and *bool()*. \n",
    "\n",
    "To determine the data type, you can use the *type()* function. See the examples below where I convert an integer to a float and then a float to a string. \n",
    "\n",
    "* **Numeric**\n",
    "    * **Int** = whole numbers\n",
    "    * **Float** = numbers with decimal values\n",
    "    * **Complex** = can include imaginary numbers\n",
    "* **Text**\n",
    "    * **String** = characters or numbers treated as characters\n",
    "* **Boolean**\n",
    "    * **Boolean** = logical *True* or *False*\n",
    "* **Sequence**\n",
    "    * **List** = list of features that can be re-ordered, allows for duplicates, and is indexed\n",
    "    * **Tuple** = list of features that cannot be re-ordered, allows for duplicates, and is indexed\n",
    "* **Mapping** \n",
    "    * **Dictionary** = list of features that can be re-ordered, does not allow duplicates, is indexed, and contains **key** and **value** pairs\n",
    "* **Set**\n",
    "    * **Set** = list of features that are unordered, not indexed, and does not allow for duplicates"
   ]
  },
  {
   "cell_type": "code",
   "execution_count": 4,
   "metadata": {},
   "outputs": [
    {
     "name": "stdout",
     "output_type": "stream",
     "text": [
      "<class 'int'>\n",
      "<class 'float'>\n",
      "<class 'str'>\n"
     ]
    }
   ],
   "source": [
    "#Create a variable and check the data type\n",
    "x = 1\n",
    "print(type(x))\n",
    "#Change the data type\n",
    "x = float(x)\n",
    "print(type(x))\n",
    "x= str(x)\n",
    "print(type(x))"
   ]
  },
  {
   "cell_type": "markdown",
   "metadata": {},
   "source": [
    "### Numbers"
   ]
  },
  {
   "cell_type": "markdown",
   "metadata": {},
   "source": [
    "Regardless of the the type (integer, float, or complex), numbers are defined without using quotes. If a number is placed in quotes it will be treated as a string as demonstrated below. This is important, since the behavior of the data is altered. In the example, *x* represents 1 as a number while *y* represents \"1\" as a string (note the quotes). Adding *x* to itself will yield 2 (1 + 1). Adding *y* to itself will yield \"11\", or the two strings are combined or **concatenated**. "
   ]
  },
  {
   "cell_type": "code",
   "execution_count": 5,
   "metadata": {},
   "outputs": [
    {
     "name": "stdout",
     "output_type": "stream",
     "text": [
      "2\n",
      "11\n"
     ]
    }
   ],
   "source": [
    "#Create variables\n",
    "x = 1\n",
    "y = \"1\"\n",
    "print(x + x)\n",
    "print(y + y)"
   ]
  },
  {
   "cell_type": "markdown",
   "metadata": {},
   "source": [
    "**Numbers** support mathematical operations, as demonstrated below. If you are not familiar with these concepts, **modulus** will return the remainder after division while **floor division** will round down to the nearest whole number after division. \n",
    "\n",
    "If a whole number has no decimal values included or no period (1 vs. 1. or 1.0), this implies that the output is in the integer data type as opposed to float type. "
   ]
  },
  {
   "cell_type": "code",
   "execution_count": 6,
   "metadata": {},
   "outputs": [
    {
     "name": "stdout",
     "output_type": "stream",
     "text": [
      "7\n",
      "1\n",
      "12\n",
      "1.3333333333333333\n",
      "1\n",
      "64\n",
      "1\n"
     ]
    }
   ],
   "source": [
    "x = 4\n",
    "y = 3\n",
    "print(x + y) #Addition\n",
    "print(x - y) #Subtraction\n",
    "print(x * y) #Multiplication\n",
    "print(x / y) #Division\n",
    "print(x % y) #Modulus\n",
    "print(x ** y) #Exponentiation\n",
    "print(x // y) #Floor Division\n"
   ]
  },
  {
   "cell_type": "markdown",
   "metadata": {},
   "source": [
    "### Strings"
   ]
  },
  {
   "cell_type": "markdown",
   "metadata": {},
   "source": [
    "**Strings** are defined using single or double quotes. If quotes are included as part of the text or string, then you can use the other type to define the data as text. Again, numbers placed in quotes will be treated as strings."
   ]
  },
  {
   "cell_type": "code",
   "execution_count": 7,
   "metadata": {},
   "outputs": [
    {
     "name": "stdout",
     "output_type": "stream",
     "text": [
      "Python is great 2\n"
     ]
    }
   ],
   "source": [
    "x = \"Python\"\n",
    "y = \"is great\" #Must use double quotes since a single quote is use in the string\n",
    "z = \"2\" #Number treated as a string\n",
    "print (x,y,z)"
   ]
  },
  {
   "cell_type": "markdown",
   "metadata": {},
   "source": [
    "Portions of a string can be sliced out using **indexes**. \n",
    "\n",
    "**Very important note**: In Python the indexing starts at 0 as opposed to 1., like in **R** So, the first character is at index 0 as opposed to index 1. Negative indexes can be used to index relative to the end of the string. In this case, the last character has an index of -1. \n",
    "\n",
    "Indexes combined with square brackets can be used to slice strings. Note that the last index specified in the selection or range will not be included and that spaces are counted in the indexing. "
   ]
  },
  {
   "cell_type": "code",
   "execution_count": 8,
   "metadata": {},
   "outputs": [
    {
     "name": "stdout",
     "output_type": "stream",
     "text": [
      "GG3209\n",
      "Spatial\n",
      "Analysis\n",
      "GIS\n"
     ]
    }
   ],
   "source": [
    "x = \"GG3209 Spatial Analysis with GIS\"\n",
    "print(x[0:6])\n",
    "print(x[7:14])\n",
    "print(x[15:23])\n",
    "print(x[-3:])"
   ]
  },
  {
   "cell_type": "markdown",
   "metadata": {},
   "source": [
    "Strings can be combined or **concatenated** using the addition sign. If you want to include a number in the string output, you can **cast** it to a string using *str()*. In the example below, note the use of blank spaces so that the strings are not ran together. \n",
    "\n",
    "The *len()* function can be used to return the length of the string, which will count blank spaces along with characters. "
   ]
  },
  {
   "cell_type": "code",
   "execution_count": 9,
   "metadata": {},
   "outputs": [
    {
     "name": "stdout",
     "output_type": "stream",
     "text": [
      "GG3209 Spatial Analysis With Python\n",
      "35\n"
     ]
    }
   ],
   "source": [
    "x = \"Spatial\"\n",
    "xx=\"GG\"\n",
    "y = 3209\n",
    "z = \"Analysis\"\n",
    "w = \"With Python\"\n",
    "strng1 = xx + str(y) + \" \"+ x + \" \" + z + \" \" + w\n",
    "print(strng1)\n",
    "print(len(strng1))"
   ]
  },
  {
   "cell_type": "markdown",
   "metadata": {},
   "source": [
    "\n",
    "### Method\n",
    "\n",
    "A **method** is a function that belongs to or is associated with an object. Or, it allows you to work with or manipulate the object and its associated properties in some way. Data types have default methods that can be applied to them. \n",
    "\n",
    "Methods applicable to strings are demonstrated below. Specifically, methods are being used to change the case and split the string at each space to save each component to a list. "
   ]
  },
  {
   "cell_type": "code",
   "execution_count": 10,
   "metadata": {},
   "outputs": [
    {
     "name": "stdout",
     "output_type": "stream",
     "text": [
      "GG3209 SPATIAL ANALYSIS WITH GIS\n",
      "gg3209 spatial analysis with gis\n",
      "['GG3209', 'Spatial', 'Analysis', 'with', 'GIS']\n"
     ]
    }
   ],
   "source": [
    "x = \"GG3209 Spatial Analysis with GIS\"\n",
    "print(x.upper())\n",
    "print(x.lower())\n",
    "lst1 = x.split(\" \")\n",
    "print(lst1)"
   ]
  },
  {
   "cell_type": "markdown",
   "metadata": {},
   "source": [
    "When generating strings, issues arise when you use characters that have special uses or meaning in Python. These issues can be alleviated by including an **escape character** or backslash as demonstrated below. "
   ]
  },
  {
   "cell_type": "code",
   "execution_count": 11,
   "metadata": {},
   "outputs": [
    {
     "name": "stdout",
     "output_type": "stream",
     "text": [
      "Issue with \"quotes\" in the string.\n",
      "C:\\data\\project_1\n",
      "Add a new line \n",
      "to text string\n"
     ]
    }
   ],
   "source": [
    "s1 = \"Issue with \\\"quotes\\\" in the string.\"\n",
    "s2 = \"C:\\\\data\\\\project_1\" #Issue with file paths. \n",
    "s3 = \"Add a new line \\nto text string\"\n",
    "print(s1)\n",
    "print(s2)\n",
    "print(s3)"
   ]
  },
  {
   "cell_type": "markdown",
   "metadata": {},
   "source": [
    "### Booleans"
   ]
  },
  {
   "cell_type": "markdown",
   "metadata": {},
   "source": [
    "**Booleans** can only be *True* or *False* and are often returned when an expression is logically evaluated. \n",
    "\n",
    "A variety of **comparison operators** are available. Note the use of double equals; a single equals cannot be used since it is already used for variable assignment, or is an assignment operator, and would thus be ambiguous. \n",
    "\n",
    "* **Comparison Operators**\n",
    "    * **Equal**: ==\n",
    "    * **Not Equal**: !=\n",
    "    * **Greater Than**: >\n",
    "    * **Greater Than or Equal To**: >=\n",
    "    * **Less Than**: <\n",
    "    * **Less Than or Equal To**: <=\n",
    "\n",
    "Logical statements or multiple expressions can be combined using **Logical Operators**.\n",
    "\n",
    "* **Logical Operators**:\n",
    "    * A AND B: **and**\n",
    "    * A OR B: **or**\n",
    "    * A NOT B: **not**"
   ]
  },
  {
   "cell_type": "code",
   "execution_count": 12,
   "metadata": {},
   "outputs": [
    {
     "name": "stdout",
     "output_type": "stream",
     "text": [
      "False\n",
      "False\n",
      "True\n",
      "True\n",
      "False\n",
      "True\n"
     ]
    }
   ],
   "source": [
    "x = 3\n",
    "y = 7\n",
    "z = 2\n",
    "print(x == 7)\n",
    "print(x > y)\n",
    "print(x < y)\n",
    "\n",
    "print(x < y and x > z)\n",
    "print(x < y and x < z)\n",
    "print(x < y or x < z)"
   ]
  },
  {
   "cell_type": "markdown",
   "metadata": {},
   "source": [
    "You can also assign Booleans to a variable. Note that you do not use quotes, as that would cause the text to be treated as a string instead of a Boolean. "
   ]
  },
  {
   "cell_type": "code",
   "execution_count": 13,
   "metadata": {},
   "outputs": [
    {
     "name": "stdout",
     "output_type": "stream",
     "text": [
      "<class 'str'>\n",
      "<class 'bool'>\n"
     ]
    }
   ],
   "source": [
    "x = \"True\"\n",
    "y = True\n",
    "print(type(x))\n",
    "print(type(y))"
   ]
  },
  {
   "cell_type": "markdown",
   "metadata": {},
   "source": [
    "### Lists"
   ]
  },
  {
   "cell_type": "markdown",
   "metadata": {},
   "source": [
    "Now one of the very relevant type of objects in Python. **Lists** allow you to store multiple numbers, strings, or Booleans in a single variable. Square brackets are used to denote lists.\n",
    "\n",
    "Items in a **list** are ordered, indexed, and allow for duplicate members. Indexing starts at 0. If counting from the end, you start at -1 and subtract as you move left. A colon can be used to denote a range of indexes, and an empty argument before the colon indicates to select all elements up to the element following the colon while an empty argument after the colon indicates to select the element at the index specified before the colon and all features up to the end of the list. The element at the last index is not included in the selection. \n",
    "\n",
    "Python lists can contain elements of different data types."
   ]
  },
  {
   "cell_type": "code",
   "execution_count": 14,
   "metadata": {},
   "outputs": [
    {
     "name": "stdout",
     "output_type": "stream",
     "text": [
      "6\n",
      "[6, 7, 8]\n",
      "['B', 'C', 'D']\n",
      "['A', 'B', 'C']\n",
      "['D', 'E']\n",
      "<class 'int'>\n",
      "<class 'str'>\n",
      "<class 'bool'>\n"
     ]
    }
   ],
   "source": [
    "lst1 = [6, 7, 8, 9, 11, 2, 0]\n",
    "lst2 = [\"A\", \"B\", \"C\", \"D\", \"E\"]\n",
    "lst3 = [True, False, True, True, True, False]\n",
    "print(lst1[0])\n",
    "print(lst1[0:3])\n",
    "print(lst2[-4:-1])\n",
    "print(lst2[:3])\n",
    "print(lst2[3:])\n",
    "lst4 = [1, 2, \"A\", \"B\", True]\n",
    "print(type(lst4[0]))\n",
    "print(type(lst4[2]))\n",
    "print(type(lst4[4]))"
   ]
  },
  {
   "cell_type": "markdown",
   "metadata": {},
   "source": [
    "When the *len()* function is applied to a list, it will return the number of items or elements in the list as opposed to the number of characters. When applied to a string item in a list, this function will return the length of the string. "
   ]
  },
  {
   "cell_type": "code",
   "execution_count": 15,
   "metadata": {},
   "outputs": [
    {
     "name": "stdout",
     "output_type": "stream",
     "text": [
      "5\n",
      "1\n"
     ]
    }
   ],
   "source": [
    "lst1 = [\"A\", \"B\", \"C\", \"D\", \"E\"]\n",
    "print(len(lst1))\n",
    "print(len(lst1[0]))"
   ]
  },
  {
   "cell_type": "markdown",
   "metadata": {},
   "source": [
    "The code below shows some example methods for strings."
   ]
  },
  {
   "cell_type": "code",
   "execution_count": 16,
   "metadata": {},
   "outputs": [
    {
     "name": "stdout",
     "output_type": "stream",
     "text": [
      "['A', 'B', 'C', 'D', 'E', 'F']\n",
      "['A', 'B', 'C', 'D', 'E']\n",
      "['A', 'B', 'ADD', 'C', 'D', 'E']\n",
      "['A', 'B', 'C', 'D', 'E']\n"
     ]
    }
   ],
   "source": [
    "lst1 = [\"A\", \"B\", \"C\", \"D\", \"E\"]\n",
    "lst1.append(\"F\") #Add item to list\n",
    "print(lst1)\n",
    "lst1.remove(\"F\") #Remove item from a list\n",
    "print(lst1) \n",
    "lst1.insert(2, \"ADD\") #Add item to list at defined position \n",
    "print(lst1)\n",
    "lst1.pop(2) #Remove item at specified index or the last item if no index is provided\n",
    "print(lst1)"
   ]
  },
  {
   "cell_type": "markdown",
   "metadata": {},
   "source": [
    "As explained above, in order to copy a list and not just reference the original data object, you must use the *copy()* or *deepcopy()* method. Simply setting a new variable equal to the original list will cause it to reference the original data object, so changes made to the old list will update to the new list. This is demonstrated in the example below. "
   ]
  },
  {
   "cell_type": "code",
   "execution_count": null,
   "metadata": {},
   "outputs": [],
   "source": [
    "lst1 = [\"A\", \"B\", \"C\", \"D\", \"E\"]\n",
    "lst2 = lst1\n",
    "lst3 = lst1.copy()\n",
    "print(lst2)\n",
    "print(lst3)\n",
    "lst1.append(\"F\")\n",
    "print(lst2)\n",
    "print(lst3)"
   ]
  },
  {
   "cell_type": "markdown",
   "metadata": {},
   "source": [
    "Lists can be concatenated together, or a list can be appended to another list, using the methods demonstrated below. "
   ]
  },
  {
   "cell_type": "code",
   "execution_count": null,
   "metadata": {},
   "outputs": [],
   "source": [
    "lst1 = [\"A\", \"B\", \"C\"]\n",
    "lst2 = [\"D\", \"E\", \"F\"]\n",
    "lst3 = lst1 + lst2\n",
    "print(lst1)\n",
    "print(lst2)\n",
    "print(lst3)\n",
    "lst1.extend(lst2)\n",
    "print(lst1)"
   ]
  },
  {
   "cell_type": "markdown",
   "metadata": {},
   "source": [
    "Lastly, lists can contain other lists, tuples, or dictionaries, which will be discussed below. In the example, *lst2* contains four elements, the last of which is a list with three elements. "
   ]
  },
  {
   "cell_type": "code",
   "execution_count": null,
   "metadata": {},
   "outputs": [],
   "source": [
    "lst1 = [\"A\", \"B\", \"C\"]\n",
    "lst2 = [\"D\", \"E\", \"F\", lst1]\n",
    "print(lst2)"
   ]
  },
  {
   "cell_type": "markdown",
   "metadata": {},
   "source": [
    "### Tuples"
   ]
  },
  {
   "cell_type": "markdown",
   "metadata": {},
   "source": [
    "**Tuples** are similar to lists in that they are ordered and allow duplicate elements. However, they cannot be altered by adding items, removing items, or changing the order of items. To differentiate them from lists, parenthesis are used as opposed to square brackets. Think of tuples as lists that are protected from alteration, so you could use them when you want to make sure you don't accidentally make changes. \n",
    "\n",
    "If you need to change a tuple, it can be converted to a list, manipulated, then converted back to a tuple. "
   ]
  },
  {
   "cell_type": "code",
   "execution_count": 17,
   "metadata": {},
   "outputs": [
    {
     "name": "stdout",
     "output_type": "stream",
     "text": [
      "<class 'tuple'>\n"
     ]
    }
   ],
   "source": [
    "t1 = (1, 3, 4, 7)\n",
    "print(type(t1))"
   ]
  },
  {
   "cell_type": "markdown",
   "metadata": {},
   "source": [
    "### Dictionaries (not the one for spelling)"
   ]
  },
  {
   "cell_type": "markdown",
   "metadata": {},
   "source": [
    "**Dictionaries** are unordered, changeable, indexed, and do not allow for duplicate elements. In contrast to lists, tuples, each **value** is also assigned a **key**. \n",
    "\n",
    "And here is the key --> Values can be selected using the **associated key**. \n",
    "\n",
    "You can also use the key to define a value to change.\n",
    "\n",
    "Similar to lists, you must use the *copy()* or *deepcopy()* method to obtain a copy of the dictionary that will not reference the original data or memory object. "
   ]
  },
  {
   "cell_type": "code",
   "execution_count": 18,
   "metadata": {},
   "outputs": [
    {
     "name": "stdout",
     "output_type": "stream",
     "text": [
      "{'code': 'GG3209', 'Name': 'Spatial Analysis with Python'}\n",
      "Spatial Analysis with Python\n",
      "{'code': 'GG3209', 'Name': 'Spatial Analysis with Python', 'Code': 461}\n"
     ]
    }
   ],
   "source": [
    "\n",
    "cls = {\"code\": \"GG3209\", \"Name\":\"Spatial Analysis with Python\" }\n",
    "print(cls)\n",
    "print(cls[\"Name\"])\n",
    "cls[\"Code\"] = 461\n",
    "print(cls)"
   ]
  },
  {
   "cell_type": "markdown",
   "metadata": {},
   "source": [
    "Multiple dictionaries can be combined into a **nested dictionary**, as demonstrated below. \n",
    "\n",
    "The keys can then be used to extract a sub-dictionary or an individual element from a sub-dictionary. "
   ]
  },
  {
   "cell_type": "code",
   "execution_count": 19,
   "metadata": {},
   "outputs": [
    {
     "name": "stdout",
     "output_type": "stream",
     "text": [
      "{'class1': {'prefix': 'GG', 'Number': 3209, 'Name': 'Spatial Analysis with Python'}, 'class2': {'prefix': 'GG', 'Number': 3210, 'Name': 'Advanced Analysis with Python'}, 'class3': {'prefix': 'GG', 'Number': 3211, 'Name': 'Introduction to Remote Sensing'}, 'class4': {'prefix': 'GG', 'Number': 3212, 'Name': 'Web GIS'}}\n",
      "{'prefix': 'GG', 'Number': 3209, 'Name': 'Spatial Analysis with Python'}\n",
      "Spatial Analysis with Python\n"
     ]
    }
   ],
   "source": [
    "cls1 = {\"prefix\" : \"GG\", \"Number\" : 3209, \"Name\": \"Spatial Analysis with Python\"}\n",
    "cls2 = {\"prefix\" : \"GG\", \"Number\" : 3210, \"Name\": \"Advanced Analysis with Python\"}\n",
    "cls3 = {\"prefix\" : \"GG\", \"Number\" : 3211, \"Name\": \"Introduction to Remote Sensing\"}\n",
    "cls4 = {\"prefix\" : \"GG\", \"Number\" : 3212, \"Name\": \"Web GIS\"}\n",
    "clsT = {\n",
    "    \"class1\" : cls1,\n",
    "    \"class2\" : cls2,\n",
    "    \"class3\" : cls3,\n",
    "    \"class4\" : cls4\n",
    "}\n",
    "print(clsT)\n",
    "print(clsT[\"class1\"])\n",
    "print(clsT[\"class1\"][\"Name\"])"
   ]
  },
  {
   "cell_type": "markdown",
   "metadata": {},
   "source": [
    "## Additional Types"
   ]
  },
  {
   "cell_type": "markdown",
   "metadata": {},
   "source": [
    "### Arrays"
   ]
  },
  {
   "cell_type": "markdown",
   "metadata": {},
   "source": [
    "**Arrays** are similar to lists; however, they must be declared. \n",
    "\n",
    "They are sometimes used in place of lists as they can be very compact and easy to apply mathematical operations. However in this course, we will primarily work with **NumPy** arrays, which will be discussed in more detail in a later module.\n",
    "\n",
    "If you wanna know how an array looks like, here is an example"
   ]
  },
  {
   "cell_type": "code",
   "execution_count": null,
   "metadata": {},
   "outputs": [],
   "source": [
    "my_array = [1, 2, 3, 4, 5]\n",
    "print(my_array[0])   # Output: 1\n",
    "print(my_array[2])   # Output: 3"
   ]
  },
  {
   "cell_type": "markdown",
   "metadata": {},
   "source": [
    "You can also modify elements in the array by assigning a new value to a specific index:"
   ]
  },
  {
   "cell_type": "code",
   "execution_count": null,
   "metadata": {},
   "outputs": [],
   "source": [
    "my_array[1] = 7\n",
    "print(my_array)      # Output: [1, 7, 3, 4, 5]\n"
   ]
  },
  {
   "cell_type": "markdown",
   "metadata": {},
   "source": [
    "### Classes"
   ]
  },
  {
   "cell_type": "markdown",
   "metadata": {},
   "source": [
    "Now some a more complex type of object in Python: **Classes** are used to define specific types of objects in Python and are often described as templates.\n",
    "\n",
    "Once a class is defined, it can be copied and manipulated to create a **subclass**, which will inherit properties and methods from the parent class but can be altered for specific uses. You get more details in the next Notebook (Part 2). You will also see example uses of classes in futher examples. \n",
    "\n",
    "One use of classes is to define specialized data models and their associated methods and properties. For example, classes have been defined to work with geospatial data types. "
   ]
  },
  {
   "cell_type": "code",
   "execution_count": null,
   "metadata": {},
   "outputs": [],
   "source": [
    "class Dog:\n",
    "    def __init__(self, name, breed):\n",
    "        self.name = name\n",
    "        self.breed = breed\n",
    "    \n",
    "    def bark(self):\n",
    "        print(\"Woof!\")\n",
    "\n",
    "my_dog = Dog(\"Buddy\", \"Golden Retriever\")\n",
    "print(my_dog.name)    # Output: Buddy\n",
    "print(my_dog.breed)   # Output: Golden Retriever\n",
    "my_dog.bark()         # Output: Woof!\n"
   ]
  },
  {
   "cell_type": "markdown",
   "metadata": {},
   "source": [
    "In the example above, we've defined a class called **Dog** that has a constructor method  \"__init__ that takes two **parameters**, *name* and *breed*. \n",
    "\n",
    "Inside the constructor, we assign the passed-in values to *instance* (re-create the object) variables with the same names using the *self* keyword.\n",
    "\n",
    "We've also defined a method called bark that simply prints out \"Woof!\" when called. To call this method on *an instance* of the Dog class, we first create an instance of the class by calling the constructor and passing in the required parameters, and then we call the bark method on that instance."
   ]
  },
  {
   "cell_type": "markdown",
   "metadata": {},
   "source": [
    "### Final remarks\n",
    "\n",
    "Before moving on, I wanted to note which data types are **mutable** and which are **immutable**. \n",
    "\n",
    "Again, data or objects that are mutable can be altered after they are defined (such as adding a new element to a list).\n",
    "\n",
    "Mutable types include **lists**, **sets**, and **dictionaries**.\n",
    "\n",
    "Immutable types include **booleans**, **integers**, **float**, **complex**, **strings**, and **tuples**."
   ]
  },
  {
   "cell_type": "markdown",
   "metadata": {},
   "source": [
    "### Next Step\n",
    "\n",
    "Now, if you have executed all the code cells, please push your changes to your repository and make sure you have saved your work.\n",
    "\n",
    "Once that is done, **open Python_Basics_Part2.ipynb**, In that notebook, we will discuss more components of the Python languages including functions, control flow, loops, modules, and reading data from disk."
   ]
  },
  {
   "cell_type": "markdown",
   "metadata": {},
   "source": [
    "## References\n",
    "\n",
    "\n",
    "1. [PythonGIS](https://pythongis.org)\n",
    "2. [Python Data Spatial](https://ckan.americaview.org/data/usgs_workforce_development/python_ds)\n"
   ]
  }
 ],
 "metadata": {
  "celltoolbar": "Raw Cell Format",
  "kernelspec": {
   "display_name": "Python 3 (ipykernel)",
   "language": "python",
   "name": "python3"
  },
  "language_info": {
   "codemirror_mode": {
    "name": "ipython",
    "version": 3
   },
   "file_extension": ".py",
   "mimetype": "text/x-python",
   "name": "python",
   "nbconvert_exporter": "python",
   "pygments_lexer": "ipython3",
   "version": "3.10.9"
  },
  "vscode": {
   "interpreter": {
    "hash": "3f407111c129f019f2340fe5f9de2048ab167daf9d5431fe44f2b7f9a5a6e947"
   }
  }
 },
 "nbformat": 4,
 "nbformat_minor": 4
}
