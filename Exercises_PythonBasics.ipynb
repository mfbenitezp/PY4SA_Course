{
 "cells": [
  {
   "cell_type": "markdown",
   "id": "22251e58-78c4-44bf-b39e-a3e7619120ee",
   "metadata": {},
   "source": [
    "# Python for Spatial Analysis\n",
    "## Second part of the module of GG3209 Spatial Analysis with GIS.\n",
    "### Notebook to learn and practice the python Basics - Exercises\n",
    "\n",
    "---\n",
    "Dr Fernando Benitez -  University of St Andrews - School of Geography and Sustainable Development - First Iteration 2023 v.1.0 "
   ]
  },
  {
   "cell_type": "markdown",
   "id": "10df0fb9",
   "metadata": {
    "tags": []
   },
   "source": [
    "## 1.1. Testing Jupyter Notebooks\n",
    "\n",
    "* Create a Jupyter notebook and try the following operations based on the workbook:\n",
    "\n",
    "* Create two or more code cells, and two or more markdown cells\n",
    "\n",
    "* Type some code into the code cells, and execute it using **Ctrl+Enter**. You can try arithmetic expressions such as 10+5. \n",
    "\n",
    "* For the Markdown cells you can try different types the Heading, lists, bullet point, bold text, and so on. What's important is you get familiar with the interface.  \n",
    "\n",
    "* Delete one of the cells by pressing the D key twice."
   ]
  },
  {
   "cell_type": "markdown",
   "id": "09228f4b-6e09-422d-856f-a3d51f99c49a",
   "metadata": {},
   "source": [
    "## 1.2 Create a script that calculates the average of a list of numbers:\n",
    "\n",
    "* In a new cell, create a list of numbers, for example: [80, 90, 95, 87, 82]\n",
    "* Write a function that takes a list of numbers as input, calculates the average, and returns the result.\n",
    "* Call the function with your list of numbers and print the result."
   ]
  },
  {
   "cell_type": "code",
   "execution_count": null,
   "id": "998e826e-21d2-4b50-9283-6ef39c643883",
   "metadata": {},
   "outputs": [],
   "source": []
  },
  {
   "cell_type": "markdown",
   "id": "59e7cf61",
   "metadata": {},
   "source": [
    "## 1.3 What's the purpose\n",
    "\n",
    "Read the following code, and describe in the Markdown cell bellow, What is the purpose of the first two expressions. Explain what they do.\n",
    "\n",
    "```\n",
    "import pandas as pd\n",
    "import geopandas as gpd\n",
    "dat = pd.read_csv('data/world_cities.csv')  ## Import CSV file\n",
    "geom = gpd.points_from_xy(dat['lon'], dat['lat'])\n",
    "geom = gpd.GeoSeries(geom)\n",
    "dat = gpd.GeoDataFrame(dat, geometry = gpd.GeoSeries(geom), crs = 4326)\n",
    "dat.to_file('output/world_cities.shp')      ## Export Shapefile\n",
    "```"
   ]
  },
  {
   "cell_type": "markdown",
   "id": "ce62f8af",
   "metadata": {},
   "source": [
    "Write your response here: they import the modules that we need in the way that we can easily use them with just pd or gpd"
   ]
  },
  {
   "cell_type": "markdown",
   "id": "46d2ddd8",
   "metadata": {},
   "source": [
    "## 1.4 Indentation\n",
    "\n",
    "Python is sensitive when it comes to indentation. \n",
    "\n",
    "Lets try one example, run the following code cell and see what happens and then try to address the issue:\n"
   ]
  },
  {
   "cell_type": "code",
   "execution_count": 2,
   "id": "4c00cbf2",
   "metadata": {},
   "outputs": [
    {
     "name": "stdout",
     "output_type": "stream",
     "text": [
      "My name is Dave and I own 0 dogs.\n"
     ]
    }
   ],
   "source": [
    "name = 'Dave'\n",
    "dogs = 0\n",
    "print('My name is', name, 'and I own', dogs, 'dogs.')"
   ]
  },
  {
   "cell_type": "markdown",
   "id": "5194f90d",
   "metadata": {},
   "source": [
    "Describe here how you have addressed the issue: I deleted the indentation before 'dogs'"
   ]
  },
  {
   "cell_type": "markdown",
   "id": "f7d137b7",
   "metadata": {},
   "source": [
    "## 1.5 Strings\n",
    "\n",
    "Remember you can combine strings. Let's take a look at the following example:"
   ]
  },
  {
   "cell_type": "code",
   "execution_count": 3,
   "id": "cdc43557",
   "metadata": {},
   "outputs": [
    {
     "name": "stdout",
     "output_type": "stream",
     "text": [
      "Taco time\n"
     ]
    }
   ],
   "source": [
    "a = \"Taco \"\n",
    "b = \"time\"\n",
    "c = a + b\n",
    "print(c)"
   ]
  },
  {
   "cell_type": "markdown",
   "id": "8a181183",
   "metadata": {},
   "source": [
    "Now in the following code cell,  create a script where you print an string and integer variables. Remember that in Python you can cast the type of variable."
   ]
  },
  {
   "cell_type": "code",
   "execution_count": 6,
   "id": "264e84ec",
   "metadata": {},
   "outputs": [
    {
     "name": "stdout",
     "output_type": "stream",
     "text": [
      "3apples\n"
     ]
    }
   ],
   "source": [
    "a = 3\n",
    "b = \"apples\"\n",
    "c = str(a) + b \n",
    "print(c)"
   ]
  },
  {
   "cell_type": "markdown",
   "id": "b7e2e1fd",
   "metadata": {},
   "source": [
    "## 1. 6 Nested *if* conditions\n",
    "\n",
    "In some cases it might be useful to have nested *if* statements, meaning that you have another layer of conditions after the first condition resolves to True. \n",
    "\n",
    "The following example has some issues, address them and check the nested *if* conditional:"
   ]
  },
  {
   "cell_type": "code",
   "execution_count": 19,
   "id": "488b2437",
   "metadata": {},
   "outputs": [
    {
     "name": "stdout",
     "output_type": "stream",
     "text": [
      "No need for winter jacket!\n"
     ]
    }
   ],
   "source": [
    "season = \"Winter\"\n",
    "temperature = 10\n",
    "\n",
    "if season == \"Winter\":\n",
    "    if temperature > 7:\n",
    "         print(\"No need for winter jacket!\")\n",
    "    else:\n",
    "         print(\"It might be cold! Wear a proper jacket!\")\n",
    "elif season == \"Summer\":\n",
    "    if temperature > 20:\n",
    "        print(\"It's warm! Time to wear shorts!\")\n",
    "    else:\n",
    "         print(\"Well this is Finland, better wear long trousers!\")\n",
    "else:\n",
    "     print(\"Check the weather forecast!\")"
   ]
  },
  {
   "cell_type": "markdown",
   "id": "d02c1d17",
   "metadata": {},
   "source": [
    "Now in the following code cell, create a script with several nested *if* conditions similar than the example above."
   ]
  },
  {
   "cell_type": "code",
   "execution_count": 26,
   "id": "3304c495",
   "metadata": {},
   "outputs": [],
   "source": [
    "# This is a test of changes"
   ]
  },
  {
   "attachments": {
    "image.png": {
     "image/png": "[encoded data removed]"
    }
   },
   "cell_type": "markdown",
   "id": "177f55b1",
   "metadata": {},
   "source": [
    "## 1.7 Functions\n",
    "\n",
    "Here we have the anatomy of any function in Python\n",
    "\n",
    "![image.png](attachment:image.png)\n",
    "\n",
    "source: pythongis.com\n",
    "\n",
    "In the following example you can see how the function is being created and then we call it to get the returned value.\n",
    "\n"
   ]
  },
  {
   "cell_type": "code",
   "execution_count": 20,
   "id": "cb3695c8",
   "metadata": {},
   "outputs": [],
   "source": [
    "def celsius_to_fahr(temp):\n",
    "    return 9 / 5 * temp + 32"
   ]
  },
  {
   "cell_type": "markdown",
   "id": "258a358c",
   "metadata": {},
   "source": [
    "Now, create a function to **transform miles to kms** and call it using a 'print' function to show the results"
   ]
  },
  {
   "cell_type": "code",
   "execution_count": 22,
   "id": "afa7e89f",
   "metadata": {},
   "outputs": [
    {
     "name": "stdout",
     "output_type": "stream",
     "text": [
      "<function miles_to_kms at 0x104c25000>\n"
     ]
    }
   ],
   "source": [
    "def miles_to_kms(distance):\n",
    "    return 1.609347 * distance\n",
    "print(miles_to_kms)"
   ]
  },
  {
   "cell_type": "markdown",
   "id": "a46cf6ee",
   "metadata": {},
   "source": [
    "#### **Extra Note:** In some cases it might be useful to know how many times certain value exists in a list. Consider following example:"
   ]
  },
  {
   "cell_type": "code",
   "execution_count": 23,
   "id": "96a531c6",
   "metadata": {},
   "outputs": [
    {
     "name": "stdout",
     "output_type": "stream",
     "text": [
      "There are 3 cars in my list!\n"
     ]
    }
   ],
   "source": [
    "my_list = ['car', 'bus', 'bike', 'car', 'car', 'bike']\n",
    "car_count = my_list.count('car')\n",
    "print(\"There are\", car_count, \"cars in my list!\")"
   ]
  },
  {
   "cell_type": "markdown",
   "id": "2605da17-512d-4523-85bd-f971ee8e69be",
   "metadata": {},
   "source": [
    "## 1.8 Create a script that generates a multiplication table:\n",
    "\n",
    "* Write a function that takes an integer as input and generates a multiplication table for that number, from 1 to 10.\n",
    "* Call the function with a few different numbers and print the results.\n",
    "* Optionally, you can use Markdown to format the output as a table."
   ]
  },
  {
   "cell_type": "code",
   "execution_count": 24,
   "id": "1905caed",
   "metadata": {},
   "outputs": [
    {
     "name": "stdout",
     "output_type": "stream",
     "text": [
      "12 x 1 = 12\n",
      "12 x 2 = 24\n",
      "12 x 3 = 36\n",
      "12 x 4 = 48\n",
      "12 x 5 = 60\n",
      "12 x 6 = 72\n",
      "12 x 7 = 84\n",
      "12 x 8 = 96\n",
      "12 x 9 = 108\n",
      "12 x 10 = 120\n"
     ]
    }
   ],
   "source": [
    "num = 12\n",
    "for i in range(1, 11):\n",
    "    print(num, 'x', i, '=', num*i)\n",
    "\n"
   ]
  },
  {
   "cell_type": "markdown",
   "id": "eec1167f",
   "metadata": {},
   "source": [
    "## 1.9 Loops\n",
    "\n",
    "* Define a list named *lunch*, as shown below.\n",
    "\n",
    "* Use a **for loop** and **conditionals** to create a dictionary with the count of each item in lunch.\n",
    "\n",
    "* **Hint**: Create an empty dictionary, then use a *for* loop to go over the items, and *a conditional* to add a new item with count 1 (if it is not yet in the dictionary), or to increment an existing item count.\n",
    "* Write the code and print the result.\n"
   ]
  },
  {
   "cell_type": "code",
   "execution_count": 3,
   "id": "19ee9565",
   "metadata": {},
   "outputs": [],
   "source": [
    "lunch = [\n",
    "    'Salad', \n",
    "    'Salad', \n",
    "    'Egg', \n",
    "    'Beef', \n",
    "    'Potato', \n",
    "    'Tea', \n",
    "    'Potato', \n",
    "    'Potato', \n",
    "    'Coffee'\n",
    "]"
   ]
  },
  {
   "cell_type": "code",
   "execution_count": 11,
   "id": "a5bcfe70",
   "metadata": {},
   "outputs": [
    {
     "name": "stdout",
     "output_type": "stream",
     "text": [
      "{}\n"
     ]
    }
   ],
   "source": [
    "mydict = {}\n",
    "mydictcount = {}\n",
    "for i in lunch:\n",
    "    for j in mydict:\n",
    "        if lunch[i] == mydict[j]:\n",
    "            mydictcount[j] += 1\n",
    "        else:\n",
    "            mydict.append(lunch[i])\n",
    "            mydictcount.append(0)\n",
    "            \n",
    "print(mydict)\n",
    "            \n",
    "        \n",
    "        \n",
    "        \n",
    "    "
   ]
  },
  {
   "cell_type": "markdown",
   "id": "15636555",
   "metadata": {},
   "source": [
    "## 1.10 Read files\n",
    "\n",
    "* Write in the following code cell, a script that reads and prints the **latest_earthquake_world.csv** file, included in the **data** folder.\n",
    "* Use **pandas** module and print the first 30 rows.\n",
    "* Hint: Use the second part notebook to get the required help."
   ]
  },
  {
   "cell_type": "code",
   "execution_count": 2,
   "id": "ce9a0a90",
   "metadata": {
    "collapsed": true,
    "jupyter": {
     "outputs_hidden": true
    },
    "tags": []
   },
   "outputs": [
    {
     "name": "stdout",
     "output_type": "stream",
     "text": [
      "['time', 'latitude', 'longitude', 'depth', 'mag', 'magType', 'nst', 'gap', 'dmin', 'rms', 'net', 'id', 'updated', 'place', 'type', 'horizontalError', 'depthError', 'magError', 'magNst', 'status', 'locationSource', 'magSource']\n",
      "['2023-02-23T08:01:02.881Z', '38.128', '73.2184', '10', '4.7', 'mb', '75', '55', '1.745', '0.66', 'us', 'us6000jqzk', '2023-02-23T08:35:43.040Z', '65 km W of Murghob, Tajikistan', 'earthquake', '4', '1.907', '0.058', '91', 'reviewed', 'us', 'us']\n",
      "['2023-02-23T06:55:34.020Z', '18.7946', '-63.9205', '10', '3.67', 'md', '19', '228', '1.1264', '0.5', 'pr', 'pr2023054001', '2023-02-23T08:02:57.172Z', 'Leeward Islands', 'earthquake', '5.27', '4.42', '0.13', '14', 'reviewed', 'pr', 'pr']\n",
      "['2023-02-23T06:50:49.137Z', '38.4879', '72.8122', '10', '4.5', 'mb', '21', '171', '1.264', '0.56', 'us', 'us6000jqze', '2023-02-23T07:28:35.040Z', '106 km WNW of Murghob, Tajikistan', 'earthquake', '8', '2', '0.14', '15', 'reviewed', 'us', 'us']\n",
      "['2023-02-23T06:18:13.280Z', '-8.5483', '-77.6254', '66.54', '4.7', 'mb', '44', '154', '3.503', '0.47', 'us', 'us6000jqzb', '2023-02-23T07:15:40.040Z', '22 km SW of Quiches, Peru', 'earthquake', '8.1', '8.7', '0.064', '74', 'reviewed', 'us', 'us']\n",
      "['2023-02-23T03:36:09.429Z', '-18.287', '-177.8261', '524.983', '4.9', 'mb', '40', '63', '3.626', '0.67', 'us', 'us6000jqyg', '2023-02-23T03:50:54.040Z', '', 'earthquake', '13.43', '10.963', '0.108', '27', 'reviewed', 'us', 'us']\n",
      "['2023-02-23T03:18:57.663Z', '-30.3916', '-71.6856', '34.097', '4.4', 'ml', '33', '187', '0.285', '0.94', 'us', 'us6000jqyb', '2023-02-23T03:30:52.786Z', '52 km WNW of Ovalle, Chile', 'earthquake', '5.75', '5.597', '', '', 'reviewed', 'us', 'guc']\n",
      "['2023-02-23T02:18:00.671Z', '38.3362', '73.1067', '10', '4.7', 'mb', '52', '60', '1.529', '0.94', 'us', 'us6000jqxy', '2023-02-23T02:37:56.040Z', 'Tajikistan-Xinjiang border region', 'earthquake', '6.56', '1.897', '0.059', '87', 'reviewed', 'us', 'us']\n",
      "['2023-02-23T02:07:46.940Z', '38.1822', '73.2346', '10', '4.8', 'mb', '21', '180', '1.712', '0.81', 'us', 'us6000jqxx', '2023-02-23T02:22:17.040Z', '64 km W of Murghob, Tajikistan', 'earthquake', '6.8', '1.992', '0.226', '6', 'reviewed', 'us', 'us']\n",
      "['2023-02-23T02:03:42.690Z', '18.0793', '-68.0888', '78', '3.54', 'md', '14', '234', '0.1577', '0.2', 'pr', 'pr2023054000', '2023-02-23T02:42:39.960Z', '64 km ESE of Boca de Yuma, Dominican Republic', 'earthquake', '1.66', '1.34', '0.06', '6', 'reviewed', 'pr', 'pr']\n",
      "['2023-02-23T01:35:57.658Z', '38.1824', '73.2794', '10', '4.9', 'mb', '27', '166', '1.735', '0.7', 'us', 'us6000jqxr', '2023-02-23T01:49:27.040Z', '60 km W of Murghob, Tajikistan', 'earthquake', '7.86', '1.985', '0.177', '10', 'reviewed', 'us', 'us']\n",
      "['2023-02-23T01:33:25.965Z', '59.2615', '-153.1356', '77.4', '2.5', 'ml', '', '', '', '0.57', 'ak', 'ak0232hbtawk', '2023-02-23T01:35:49.711Z', '69 km W of Nanwalek, Alaska', 'earthquake', '', '0.7', '', '', 'automatic', 'ak', 'ak']\n",
      "['2023-02-23T01:06:05.337Z', '38.1804', '72.7829', '10', '4.6', 'mb', '20', '163', '1.506', '0.64', 'us', 'us6000jqxl', '2023-02-23T01:27:51.040Z', '103 km W of Murghob, Tajikistan', 'earthquake', '7.16', '1.772', '0.207', '7', 'reviewed', 'us', 'us']\n",
      "['2023-02-23T00:55:14.540Z', '38.1474', '72.9824', '10', '5', 'mb', '84', '80', '1.618', '0.84', 'us', 'us6000jqxg', '2023-02-23T01:13:06.040Z', 'Tajikistan', 'earthquake', '4.66', '1.768', '0.071', '63', 'reviewed', 'us', 'us']\n",
      "['2023-02-23T00:37:40.397Z', '38.0726', '73.2077', '20.522', '6.8', 'mww', '128', '20', '1.783', '0.96', 'us', 'us6000jqxc', '2023-02-23T05:49:51.952Z', '67 km W of Murghob, Tajikistan', 'earthquake', '6.93', '4.439', '0.065', '23', 'reviewed', 'us', 'us']\n",
      "['2023-02-22T23:44:02.170Z', '39.1451683', '-123.2600021', '1.87', '2.91', 'md', '26', '68', '0.06842', '0.08', 'nc', 'nc73850431', '2023-02-23T06:29:31.972Z', '4km W of Ukiah, CA', 'earthquake', '0.21', '8.33', '0.18', '32', 'automatic', 'nc', 'nc']\n",
      "['2023-02-22T23:14:55.147Z', '64.9318', '-147.252', '148.8', '2.9', 'ml', '', '', '', '1.29', 'ak', 'ak0232g19hd6', '2023-02-22T23:18:24.121Z', '12 km WNW of Two Rivers, Alaska', 'earthquake', '', '14.3', '', '', 'automatic', 'ak', 'ak']\n",
      "['2023-02-22T23:06:22.156Z', '53.6538', '98.4582', '9.707', '4.7', 'mb', '64', '68', '3.724', '0.67', 'us', 'us6000jqx2', '2023-02-23T00:02:22.040Z', '122 km WSW of Ikey, Russia', 'earthquake', '7.42', '4.501', '0.053', '106', 'reviewed', 'us', 'us']\n",
      "['2023-02-22T22:05:53.566Z', '10.1791', '125.0633', '10', '4.6', 'mb', '44', '120', '3.131', '0.46', 'us', 'us6000jqwn', '2023-02-23T04:25:16.518Z', '6 km WNW of Liloan, Philippines', 'earthquake', '10.85', '1.887', '0.077', '51', 'reviewed', 'us', 'us']\n",
      "['2023-02-22T21:39:43.663Z', '59.1843', '-151.5174', '2', '2.5', 'ml', '', '', '', '1.08', 'ak', 'ak0232g07y66', '2023-02-22T21:42:36.481Z', '25 km SE of Port Graham, Alaska', 'earthquake', '', '3.8', '', '', 'automatic', 'ak', 'ak']\n",
      "['2023-02-22T21:18:44.007Z', '23.9638', '121.7741', '8.774', '4.4', 'mb', '34', '83', '0.266', '0.51', 'us', 'us6000jqwd', '2023-02-22T23:06:06.040Z', '17 km E of Hualien City, Taiwan', 'earthquake', '2.29', '4.572', '0.126', '18', 'reviewed', 'us', 'us']\n",
      "['2023-02-22T20:01:57.120Z', '38.8209991', '-122.8539963', '2.64', '3.22', 'ml', '52', '49', '0.006912', '0.05', 'nc', 'nc73850276', '2023-02-23T03:23:48.835Z', '10km WNW of The Geysers, CA', 'earthquake', '0.15', '0.24', '0.445', '10', 'automatic', 'nc', 'nc']\n",
      "['2023-02-22T18:22:12.682Z', '38.1577', '-117.8891', '8.7', '3.5', 'ml', '13', '80.53', '0.059', '0.1197', 'nn', 'nn00856288', '2023-02-23T02:03:07.570Z', '32 km SE of Mina, Nevada', 'earthquake', '', '1.2', '0.21', '9', 'reviewed', 'nn', 'nn']\n",
      "['2023-02-22T18:18:25.802Z', '-35.7008', '-73.1617', '35', '4.3', 'mb', '39', '150', '1.045', '0.72', 'us', 'us6000jqvf', '2023-02-22T21:45:30.040Z', '', 'earthquake', '4.88', '1.955', '0.238', '7', 'reviewed', 'us', 'us']\n",
      "['2023-02-22T17:47:55.177Z', '-35.7487', '-73.1518', '35', '4', 'mb', '26', '198', '0.998', '0.66', 'us', 'us6000jqv1', '2023-02-22T21:40:26.040Z', '78 km WNW of Cauquenes, Chile', 'earthquake', '4.98', '2.007', '0.519', '1', 'reviewed', 'us', 'us']\n",
      "['2023-02-22T15:56:47.583Z', '61.257', '-150.3203', '250', '2.5', 'ml', '', '', '', '0.93', 'ak', 'ak0232fwr00m', '2023-02-22T21:02:30.323Z', '', 'earthquake', '', '5.1', '', '', 'automatic', 'ak', 'ak']\n",
      "['2023-02-22T15:51:39.859Z', '-30.0389', '-72.2035', '12.059', '4', 'mwr', '23', '179', '0.801', '1.16', 'us', 'us6000jqup', '2023-02-22T17:15:55.040Z', '83 km W of Coquimbo, Chile', 'earthquake', '2.83', '6.844', '0.05', '38', 'reviewed', 'us', 'us']\n",
      "['2023-02-22T15:48:21.690Z', '40.5558319', '-124.2126694', '14.43', '3.21', 'ml', '21', '177', '0.2341', '0.12', 'nc', 'nc73850141', '2023-02-23T00:44:05.211Z', '5km ESE of Ferndale, CA', 'earthquake', '0.78', '0.74', '0.302', '10', 'automatic', 'nc', 'nc']\n",
      "['2023-02-22T15:18:06.170Z', '18.231', '-68.2605', '96', '3.76', 'md', '15', '205', '0.3076', '0.27', 'pr', 'pr2023053000', '2023-02-22T15:54:41.369Z', 'Mona Passage', 'earthquake', '1.72', '1.08', '0.11', '11', 'reviewed', 'pr', 'pr']\n",
      "['2023-02-22T14:11:28.720Z', '19.9041666666667', '-155.158333333333', '43.59', '3.24', 'ml', '45', '256', '', '0.12', 'hv', 'hv73328927', '2023-02-23T08:07:59.549Z', '5 km NW of Honomu, Hawaii', 'earthquake', '0.59', '0.95', '0.127770204315516', '25', 'reviewed', 'hv', 'hv']\n",
      "['2023-02-22T13:12:26.230Z', '18.7986666666667', '-65.0575', '17.13', '3.09', 'md', '8', '259', '0.4541', '0.21', 'pr', 'pr71397073', '2023-02-22T13:35:31.700Z', 'Puerto Rico region', 'earthquake', '1.15', '1.64', '0.0374247857082639', '4', 'reviewed', 'pr', 'pr']\n",
      "['2023-02-22T12:01:40.820Z', '3.4998', '95.652', '37.581', '4.6', 'mb', '39', '146', '2.149', '0.61', 'us', 'us6000jqsz', '2023-02-22T12:38:20.040Z', '88 km SW of Meulaboh, Indonesia', 'earthquake', '8.43', '7.759', '0.112', '24', 'reviewed', 'us', 'us']\n",
      "['2023-02-22T11:49:48.645Z', '31.66921585', '-104.3657864', '6.620019531', '3.1', 'ml', '40', '46', '0.05796417111', '0.2', 'tx', 'tx2023drxo', '2023-02-22T20:18:44.568Z', '56 km S of Whites City, New Mexico', 'earthquake', '0.7434584312', '1.056199107', '0.2', '25', 'reviewed', 'tx', 'tx']\n",
      "['2023-02-22T11:31:42.840Z', '18.504', '-66.568', '95.91', '3.08', 'md', '10', '243', '0.04529', '0.28', 'pr', 'pr71397063', '2023-02-22T12:00:34.130Z', '5 km N of Garrochales, Puerto Rico', 'earthquake', '2.25', '1.35', '0.108107921514801', '6', 'reviewed', 'pr', 'pr']\n",
      "['2023-02-22T11:31:00.650Z', '31.66775369', '-104.414489', '4.897583008', '2.6', 'ml', '28', '45', '0.01891068981', '0.2', 'tx', 'tx2023drwz', '2023-02-22T21:01:01.121Z', '56 km S of Whites City, New Mexico', 'earthquake', '1.087391024', '1.287886703', '0.1', '16', 'reviewed', 'tx', 'tx']\n",
      "['2023-02-22T11:19:41.506Z', '31.674043', '-104.365559', '6.131567383', '3.2', 'ml', '37', '46', '0.05942307296', '0.2', 'tx', 'tx2023drwp', '2023-02-22T19:48:24.115Z', '55 km S of Whites City, New Mexico', 'earthquake', '0.6782351348', '0.7253531005', '0.1', '18', 'reviewed', 'tx', 'tx']\n",
      "['2023-02-22T11:18:37.118Z', '31.67358679', '-104.3650167', '6.131567383', '2.9', 'ml', '39', '46', '0.05972941695', '0.2', 'tx', 'tx2023drwo', '2023-02-22T20:39:27.344Z', '55 km S of Whites City, New Mexico', 'earthquake', '0.7359308613999999', '0.7023815649000001', '0.1', '24', 'reviewed', 'tx', 'tx']\n",
      "['2023-02-22T11:04:46.440Z', '51.7447', '-173.4568', '59.335', '4', 'mb', '57', '188', '1.649', '0.8', 'us', 'us6000jqsr', '2023-02-22T17:35:05.622Z', '71 km SE of Atka, Alaska', 'earthquake', '12.14', '11.804', '0.083', '39', 'reviewed', 'us', 'us']\n",
      "['2023-02-22T10:25:52.063Z', '41.8275', '82.1664', '10', '4.8', 'mb', '81', '103', '2.484', '0.54', 'us', 'us6000jqsi', '2023-02-22T10:45:47.040Z', '64 km W of Kuqa, China', 'earthquake', '8.41', '1.889', '0.069', '64', 'reviewed', 'us', 'us']\n",
      "['2023-02-22T09:41:16.274Z', '31.67355987', '-104.369323', '6.388647461', '2.9', 'ml', '40', '46', '0.0562193607', '0.2', 'tx', 'tx2023drti', '2023-02-22T20:31:00.913Z', '55 km S of Whites City, New Mexico', 'earthquake', '0.7887437063', '0.8696501855', '0.1', '24', 'reviewed', 'tx', 'tx']\n",
      "['2023-02-22T09:34:04.571Z', '-7.0608', '129.4568', '124.817', '5.6', 'mww', '114', '46', '2.561', '0.77', 'us', 'us6000jqrr', '2023-02-22T14:16:07.688Z', 'Kepulauan Babar, Indonesia', 'earthquake', '7.61', '4.744', '0.075', '17', 'reviewed', 'us', 'us']\n",
      "['2023-02-22T08:51:24.649Z', '31.6721879', '-104.3682345', '7.211303711', '4', 'ml', '45', '46', '0.05669957537', '0.2', 'tx', 'tx2023drrr', '2023-02-22T19:30:55.696Z', '55 km S of Whites City, New Mexico', 'earthquake', '0.7595570506', '0.8489505565', '0.2', '26', 'reviewed', 'tx', 'tx']\n",
      "['2023-02-22T08:04:14.054Z', '-20.4986', '-177.612', '520.122', '4.8', 'mb', '52', '122', '3.87', '0.9', 'us', 'us6000jqr1', '2023-02-22T08:18:56.040Z', 'Fiji region', 'earthquake', '4.93', '9.077', '0.09', '39', 'reviewed', 'us', 'us']\n",
      "['2023-02-22T08:00:23.770Z', '29.6819', '81.6462', '27.258', '4.8', 'mb', '57', '62', '3.7', '0.79', 'us', 'us6000jqqz', '2023-02-22T10:41:15.550Z', '68 km NW of Jumla, Nepal', 'earthquake', '10.01', '6.065', '0.07', '64', 'reviewed', 'us', 'us']\n",
      "['2023-02-22T07:56:55.958Z', '38.0724', '37.7836', '16.93', '4.1', 'mb', '33', '79', '0.9', '1.09', 'us', 'us6000jqqy', '2023-02-22T08:47:50.040Z', '7 km W of Do?an?ehir, Turkey', 'earthquake', '4.42', '6.177', '0.197', '7', 'reviewed', 'us', 'us']\n",
      "['2023-02-22T07:44:10.283Z', '31.67352601', '-104.374706', '6.645727539', '4.2', 'ml', '50', '45', '0.05186318022', '0.2', 'tx', 'tx2023drpm', '2023-02-23T07:50:17.020Z', 'western Texas', 'earthquake', '0.7295566402', '0.9313321991', '0.1', '29', 'reviewed', 'tx', 'tx']\n",
      "['2023-02-22T07:12:55.500Z', '19.1495', '-155.372', '29.67', '2.97', 'ml', '46', '180', '', '0.13', 'hv', 'hv73328827', '2023-02-23T05:53:15.040Z', '12 km ESE of P?hala, Hawaii', 'earthquake', '0.45', '0.66', '0.130847609173602', '28', 'reviewed', 'hv', 'hv']\n",
      "['2023-02-22T07:09:44.331Z', '38.4645', '40.3129', '13.705', '4.4', 'mb', '37', '99', '1.352', '0.69', 'us', 'us6000jqqq', '2023-02-22T07:39:55.040Z', '8 km NW of Hani, Turkey', 'earthquake', '4.15', '3.858', '0.144', '14', 'reviewed', 'us', 'us']\n",
      "['2023-02-22T07:01:42.280Z', '31.66798052', '-104.3795021', '7.93112793', '2.6', 'ml', '21', '57', '0.0463138002', '0.1', 'tx', 'tx2023drob', '2023-02-23T05:49:05.040Z', '56 km S of Whites City, New Mexico', 'earthquake', '0.7352520525', '1.120220635', '0.2', '25', 'reviewed', 'tx', 'tx']\n",
      "['2023-02-22T06:55:02.006Z', '31.67078894', '-104.3714522', '6.131567383', '3.1', 'ml', '35', '46', '0.0536754862', '0.2', 'tx', 'tx2023drnw', '2023-02-22T20:08:28.321Z', '55 km S of Whites City, New Mexico', 'earthquake', '0.7192811269', '0.716478516', '0.2', '26', 'reviewed', 'tx', 'tx']\n",
      "['2023-02-22T06:15:08.830Z', '19.4653333333333', '-155.438', '7.41', '2.74', 'ml', '40', '93', '', '0.14', 'hv', 'hv73328792', '2023-02-22T20:36:48.460Z', '21 km W of Volcano, Hawaii', 'earthquake', '0.29', '0.65', '0.13953311203913', '24', 'reviewed', 'hv', 'hv']\n",
      "['2023-02-22T06:13:41.560Z', '18.1658333333333', '-68.3693333333333', '80.57', '3.1', 'md', '9', '261', '0.3469', '0.09', 'pr', 'pr71397038', '2023-02-22T07:48:07.530Z', '34 km SE of Boca de Yuma, Dominican Republic', 'earthquake', '1.76', '1.07', '0.0922620413247057', '7', 'reviewed', 'pr', 'pr']\n",
      "['2023-02-22T06:01:20.362Z', '33.7409', '34.6135', '10', '4.4', 'mb', '55', '207', '1.615', '0.74', 'us', 'us6000jqqe', '2023-02-22T23:27:30.331Z', '73 km WNW of Sidon, Lebanon', 'earthquake', '8.13', '1.962', '0.085', '40', 'reviewed', 'us', 'us']\n",
      "['2023-02-22T04:31:42.408Z', '9.5452', '-84.7118', '12.582', '2.9', 'ml', '9', '200', '0.723', '0.25', 'us', 'us6000jqqc', '2023-02-22T14:42:31.958Z', '11 km SW of Jacó, Costa Rica', 'earthquake', '3.02', '10.923', '0.091', '16', 'reviewed', 'us', 'us']\n",
      "['2023-02-22T04:25:49.769Z', '13.3404', '-89.7407', '58.985', '4.3', 'mb', '27', '170', '0.422', '0.72', 'us', 'us6000jqpz', '2023-02-22T04:36:15.040Z', '29 km SSE of Acajutla, El Salvador', 'earthquake', '5.39', '7.291', '0.08', '44', 'reviewed', 'us', 'us']\n",
      "['2023-02-22T03:56:16.991Z', '17.6401', '-72.2878', '15.905', '4.3', 'mb', '39', '55', '1.638', '0.5', 'us', 'us6000jqps', '2023-02-23T00:34:02.331Z', 'Haiti region', 'earthquake', '5.21', '5.819', '0.217', '6', 'reviewed', 'us', 'us']\n",
      "['2023-02-22T01:17:51.210Z', '57.9138', '-157.1779', '93.4', '2.9', 'ml', '', '', '', '0.67', 'ak', 'ak0232fo6kwh', '2023-02-22T23:25:35.040Z', 'Alaska Peninsula', 'earthquake', '', '1.5', '', '', 'automatic', 'ak', 'ak']\n",
      "['2023-02-22T01:11:07.329Z', '27.7693', '55.2722', '10', '5', 'mww', '230', '29', '2.934', '0.63', 'us', 'us6000jqp6', '2023-02-22T23:05:10.040Z', '112 km E of Ger?sh, Iran', 'earthquake', '7.14', '1.782', '0.098', '10', 'reviewed', 'us', 'us']\n",
      "['2023-02-22T00:55:27.890Z', '27.1078', '143.413', '10', '4.9', 'mb', '67', '128', '6.75', '0.8', 'us', 'us6000jqp4', '2023-02-22T01:12:09.040Z', 'Bonin Islands, Japan region', 'earthquake', '11.46', '1.886', '0.064', '76', 'reviewed', 'us', 'us']\n",
      "['2023-02-21T23:38:16.412Z', '32.75299072', '-100.6594179', '6.920694987', '2.5', 'ml', '23', '48', '0.08061221256', '0.2', 'tx', 'tx2023dqzl', '2023-02-22T21:14:47.552Z', '16 km NE of Hermleigh, Texas', 'earthquake', '0.7769874533999999', '1.063867854', '0.1', '13', 'reviewed', 'tx', 'tx']\n",
      "['2023-02-21T23:22:31.583Z', '-22.0443', '-68.5956', '130.649', '4.1', 'mb', '12', '96', '0.649', '0.58', 'us', 'us6000jqnl', '2023-02-22T00:12:41.040Z', '56 km NE of Calama, Chile', 'earthquake', '6.89', '4.546', '0.261', '4', 'reviewed', 'us', 'us']\n",
      "['2023-02-21T21:11:18.771Z', '-41.5967', '173.5741', '57.489', '4.6', 'mb', '28', '64', '0.407', '0.86', 'us', 'us6000jqms', '2023-02-22T06:53:43.473Z', '', 'earthquake', '2.35', '4.828', '0.193', '8', 'reviewed', 'us', 'us']\n",
      "['2023-02-21T20:48:43.471Z', '31.6166812', '-104.2725287', '7.314135742', '2.5', 'ml', '38', '60', '0.05539547721', '0.2', 'tx', 'tx2023dqtv', '2023-02-22T10:55:13.345Z', '56 km NW of Toyah, Texas', 'earthquake', '1.06667937', '1.17132387', '0.2', '22', 'reviewed', 'tx', 'tx']\n",
      "['2023-02-21T20:10:47.100Z', '19.296', '-64.686', '37.16', '3.41', 'md', '8', '300', '0.9628', '0.25', 'pr', 'pr71396993', '2023-02-21T22:07:31.700Z', '107 km N of Cruz Bay, U.S. Virgin Islands', 'earthquake', '3.69', '17.64', '0.11409973922005', '5', 'reviewed', 'pr', 'pr']\n",
      "['2023-02-21T19:57:47.620Z', '19.322', '-64.4375', '30', '3.85', 'md', '15', '305', '1.0997', '0.21', 'pr', 'pr2023052000', '2023-02-21T20:32:14.528Z', '115 km NNE of Cruz Bay, U.S. Virgin Islands', 'earthquake', '1.84', '15.39', '0.11', '13', 'reviewed', 'pr', 'pr']\n",
      "['2023-02-21T19:29:49.325Z', '63.2094', '-144.3031', '0.3', '3.1', 'ml', '', '', '', '0.94', 'ak', 'ak0232ebflqz', '2023-02-21T19:32:19.345Z', '41 km NW of Mentasta Lake, Alaska', 'earthquake', '', '0.3', '', '', 'automatic', 'ak', 'ak']\n",
      "['2023-02-21T19:22:12.615Z', '1.8189', '93.9227', '10', '5', 'mb', '84', '62', '3.687', '0.89', 'us', 'us6000jqm1', '2023-02-21T19:42:07.040Z', '282 km WSW of Sinabang, Indonesia', 'earthquake', '6.31', '1.433', '0.071', '67', 'reviewed', 'us', 'us']\n",
      "['2023-02-21T19:21:37.002Z', '63.6212', '-150.7692', '4.3', '2.8', 'ml', '', '', '', '0.94', 'ak', 'ak0232ebdv2c', '2023-02-21T19:23:59.761Z', 'Central Alaska', 'earthquake', '', '0.3', '', '', 'automatic', 'ak', 'ak']\n",
      "['2023-02-21T18:51:02.502Z', '2.4043', '-100.8489', '10', '4.7', 'mb', '172', '186', '15.23', '0.68', 'us', 'us6000jqls', '2023-02-21T19:32:33.040Z', 'Galapagos Triple Junction region', 'earthquake', '14.8', '1.933', '0.042', '179', 'reviewed', 'us', 'us']\n",
      "['2023-02-21T18:05:33.663Z', '27.1278', '143.557', '11.894', '5.1', 'mb', '104', '129', '9.916', '0.5', 'us', 'us6000jqli', '2023-02-21T18:24:31.040Z', 'Bonin Islands, Japan region', 'earthquake', '11.15', '4.278', '0.038', '226', 'reviewed', 'us', 'us']\n",
      "['2023-02-21T16:15:52.372Z', '-6.2269', '130.104', '10.47', '5', 'mb', '83', '64', '1.705', '1.09', 'us', 'us6000jqku', '2023-02-21T16:35:43.040Z', 'Banda Sea', 'earthquake', '6.08', '4.62', '0.077', '54', 'reviewed', 'us', 'us']\n",
      "['2023-02-21T16:06:49.627Z', '36.2043', '36.0917', '10', '4.2', 'mb', '38', '218', '1.319', '0.77', 'us', 'us6000jqkr', '2023-02-21T17:13:49.085Z', '1 km ESE of Toygarl?, Turkey', 'earthquake', '4.28', '1.957', '0.146', '13', 'reviewed', 'us', 'us']\n",
      "['2023-02-21T12:04:24.640Z', '18.2168333333333', '-67.3665', '11.07', '3', 'md', '10', '201', '0.1634', '0.34', 'pr', 'pr71396968', '2023-02-21T12:31:32.710Z', '17 km SW of Stella, Puerto Rico', 'earthquake', '1.09', '1.43', '0.0787878994331708', '7', 'reviewed', 'pr', 'pr']\n",
      "['2023-02-21T11:40:30.949Z', '31.71768808', '-104.2910744', '7.57121582', '2.8', 'ml', '23', '67', '0.04931284233', '0.3', 'tx', 'tx2023dqbu', '2023-02-21T20:27:58.863Z', '51 km S of Whites City, New Mexico', 'earthquake', '0.7158135893', '0.761735277', '0.1', '14', 'reviewed', 'tx', 'tx']\n",
      "['2023-02-21T11:35:18.693Z', '36.2197', '69.9286', '174.4', '4.2', 'mb', '19', '130', '1.825', '0.44', 'us', 'us6000jqiw', '2023-02-21T16:40:33.040Z', '39 km S of Farkh?r, Afghanistan', 'earthquake', '8.64', '18.461', '0.304', '3', 'reviewed', 'us', 'us']\n",
      "['2023-02-21T11:01:41.148Z', '23.5196', '121.6889', '42.997', '4.5', 'mb', '46', '98', '0.381', '0.65', 'us', 'us6000jqis', '2023-02-21T16:32:53.040Z', '51 km S of Hualien City, Taiwan', 'earthquake', '3.95', '5.706', '0.097', '31', 'reviewed', 'us', 'us']\n",
      "['2023-02-21T10:09:37.306Z', '37.4007', '37.2639', '10', '4.2', 'mb', '15', '103', '0.232', '0.3', 'us', 'us6000jqim', '2023-02-21T16:10:53.040Z', '10 km SSW of Pazarc?k, Turkey', 'earthquake', '3.02', '1.957', '0.264', '4', 'reviewed', 'us', 'us']\n",
      "['2023-02-21T09:56:46.321Z', '38.2522', '38.6518', '10', '4.1', 'mb', '52', '56', '0.821', '1.31', 'us', 'us6000jqil', '2023-02-21T11:58:05.040Z', '24 km N of Sincik, Turkey', 'earthquake', '5.43', '1.941', '0.127', '18', 'reviewed', 'us', 'us']\n",
      "['2023-02-21T09:46:09.748Z', '38.0178', '-115.777', '4.1', '2.7', 'ml', '22', '138.03', '0.374', '0.1721', 'nn', 'nn00856256', '2023-02-21T17:01:32.640Z', 'Nevada', 'earthquake', '', '3.4', '0.21', '16', 'reviewed', 'nn', 'nn']\n",
      "['2023-02-21T09:04:39.030Z', '36.7861671', '-121.3761673', '3.8', '2.61', 'md', '45', '44', '0.06118', '0.17', 'nc', 'nc73849261', '2023-02-22T09:17:08.219Z', '3km SSW of Ridgemark, CA', 'earthquake', '0.23', '0.88', '0.1', '49', 'automatic', 'nc', 'nc']\n",
      "['2023-02-21T08:41:04.323Z', '64.7154', '-17.5759', '10', '5.1', 'mb', '77', '74', '1.61', '0.81', 'us', 'us6000jqie', '2023-02-21T08:58:57.040Z', 'Iceland', 'earthquake', '6.52', '1.767', '0.037', '237', 'reviewed', 'us', 'us']\n",
      "['2023-02-21T08:27:05.080Z', '35.96233333', '-96.75883333', '6.97', '2.56', 'ml', '100', '64', '0', '0.2', 'ok', 'ok2023dpvj', '2023-02-21T18:33:49.571Z', '2 km SSE of Cushing, Oklahoma', 'earthquake', '', '0.4', '0.2', '35', 'reviewed', 'ok', 'ok']\n",
      "['2023-02-21T07:33:26.184Z', '31.63830216', '-104.4201385', '6.080151367', '3.1', 'ml', '23', '65', '0.02059713232', '0.2', 'tx', 'tx2023dptp', '2023-02-21T19:48:49.644Z', '59 km S of Whites City, New Mexico', 'earthquake', '1.167501624', '0.7949665915', '0.1', '14', 'reviewed', 'tx', 'tx']\n",
      "['2023-02-21T07:27:59.730Z', '68.9582', '-145.6456', '0', '3.1', 'ml', '', '', '', '0.6', 'ak', 'ak0232e49zut', '2023-02-21T07:33:24.536Z', '92 km N of Arctic Village, Alaska', 'earthquake', '', '0.9', '', '', 'automatic', 'ak', 'ak']\n",
      "['2023-02-21T06:05:36.653Z', '27.7648', '55.3612', '21.285', '5.3', 'mb', '99', '25', '2.908', '0.74', 'us', 'us6000jqhr', '2023-02-21T11:16:51.828Z', '111 km NW of Bandar Abbas, Iran', 'earthquake', '7.25', '4.452', '0.04', '211', 'reviewed', 'us', 'us']\n",
      "['2023-02-21T05:35:23.601Z', '56.8447', '-153.074', '9.2', '5.4', 'mww', '', '', '', '0.57', 'ak', 'ak0232e34rrl', '2023-02-23T05:45:42.656Z', '42 km SSE of Old Harbor, Alaska', 'earthquake', '', '0.5', '', '', 'reviewed', 'ak', 'ak']\n",
      "['2023-02-21T03:51:28.839Z', '2.6069', '-84.434', '10', '4.9', 'mb', '162', '148', '5.453', '0.46', 'us', 'us6000jqhc', '2023-02-22T01:59:29.040Z', 'off the coast of Central America', 'earthquake', '7.59', '1.9', '0.049', '132', 'reviewed', 'us', 'us']\n",
      "['2023-02-21T03:50:57.370Z', '0.4262', '96.6403', '35', '4.5', 'mb', '32', '176', '1.278', '0.61', 'us', 'us6000jqhe', '2023-02-22T01:22:52.040Z', '228 km S of Sinabang, Indonesia', 'earthquake', '4.65', '1.946', '0.118', '21', 'reviewed', 'us', 'us']\n",
      "['2023-02-21T02:54:00.944Z', '-59.3726', '-23.9648', '10', '5', 'mb', '55', '64', '8.547', '0.96', 'us', 'us6000jqha', '2023-02-22T00:39:24.040Z', 'South Sandwich Islands region', 'earthquake', '10.94', '1.46', '0.089', '40', 'reviewed', 'us', 'us']\n",
      "['2023-02-21T02:40:17.949Z', '59.2556', '-152.8306', '71.1', '2.6', 'ml', '', '', '', '0.34', 'ak', 'ak0232e1divt', '2023-02-22T00:08:25.040Z', '', 'earthquake', '', '0.5', '', '', 'automatic', 'ak', 'ak']\n",
      "['2023-02-21T02:33:09.427Z', '52.8212', '156.0329', '271.672', '4.4', 'mb', '70', '103', '1.048', '0.77', 'us', 'us6000jqgw', '2023-02-22T01:02:39.040Z', '150 km W of Paratunka, Russia', 'earthquake', '9.54', '4.487', '0.03', '332', 'reviewed', 'us', 'us']\n",
      "['2023-02-21T01:14:00.196Z', '-19.0788', '-70.1529', '60.623', '4.2', 'mb', '20', '157', '0.491', '0.36', 'us', 'us6000jqgm', '2023-02-21T23:16:53.040Z', '68 km SSE of Arica, Chile', 'earthquake', '3.99', '8.941', '0.237', '5', 'reviewed', 'us', 'us']\n",
      "['2023-02-21T00:23:21.700Z', '19.1574993133545', '-155.363159179688', '30.3099994659424', '2.67', 'ml', '40', '210', '', '0.129999995', 'hv', 'hv73328282', '2023-02-21T19:04:49.115Z', '13 km ESE of P?hala, Hawaii', 'earthquake', '0.59', '0.810000002', '1.97', '19', 'automatic', 'hv', 'hv']\n",
      "['2023-02-20T23:21:14.375Z', '38.0082', '37.3722', '10', '4.3', 'mwr', '92', '36', '0.626', '0.81', 'us', 'us6000jqft', '2023-02-21T06:06:23.818Z', '7 km NW of Nurhak, Turkey', 'earthquake', '4.15', '1.898', '0.062', '25', 'reviewed', 'us', 'us']\n",
      "['2023-02-20T22:39:09.331Z', '-3.4817', '143.671', '10', '4.7', 'mb', '22', '126', '6.829', '0.59', 'us', 'us6000jqfg', '2023-02-20T23:08:44.040Z', '8 km NNE of Wewak, Papua New Guinea', 'earthquake', '10.2', '1.967', '0.126', '19', 'reviewed', 'us', 'us']\n",
      "['2023-02-20T22:21:19.174Z', '0.1342', '127.3092', '145.607', '4.3', 'mb', '22', '116', '0.636', '0.36', 'us', 'us6000jqfc', '2023-02-20T22:48:30.040Z', '72 km SSW of Sofifi, Indonesia', 'earthquake', '9.17', '7.269', '0.148', '13', 'reviewed', 'us', 'us']\n",
      "['2023-02-20T22:11:56.186Z', '26.0297', '125.7147', '115.322', '4.4', 'mb', '34', '105', '2.43', '1', 'us', 'us6000jqfh', '2023-02-20T23:24:58.040Z', '142 km NNE of Hirara, Japan', 'earthquake', '10.4', '9.506', '0.088', '37', 'reviewed', 'us', 'us']\n",
      "['2023-02-20T20:13:51.210Z', '-4.3832', '102.1932', '55.423', '4.9', 'mb', '70', '61', '0.761', '1.2', 'us', 'us6000jqe3', '2023-02-20T20:51:19.040Z', '64 km S of Bengkulu, Indonesia', 'earthquake', '7.48', '5.564', '0.065', '75', 'reviewed', 'us', 'us']\n",
      "['2023-02-20T19:19:22.838Z', '4.5817', '-82.8567', '10', '4.9', 'mb', '67', '149', '3.832', '1.11', 'us', 'us6000jqds', '2023-02-20T21:28:51.040Z', 'south of Panama', 'earthquake', '8.21', '1.904', '0.038', '218', 'reviewed', 'us', 'us']\n",
      "['2023-02-20T19:09:21.462Z', '36.2966', '36.1291', '10', '4.1', 'mb', '31', '194', '1.232', '0.91', 'us', 'us6000jqdp', '2023-02-21T12:46:56.718Z', '4 km NNW of Kuzeytepe, Turkey', 'earthquake', '7.06', '1.99', '0.197', '7', 'reviewed', 'us', 'us']\n",
      "['2023-02-20T19:00:14.022Z', '36.067', '35.9856', '10', '4.2', 'mb', '45', '99', '1.479', '1.06', 'us', 'us6000jqdn', '2023-02-20T21:43:23.040Z', '9 km SSW of Uzunba?, Turkey', 'earthquake', '6.55', '1.944', '0.121', '19', 'reviewed', 'us', 'us']\n",
      "['2023-02-20T18:42:29.241Z', '51.8765', '178.087', '154.978', '4.1', 'mb', '40', '167', '0.31', '0.74', 'us', 'us6000jqdl', '2023-02-20T22:02:12.040Z', 'Rat Islands, Aleutian Islands, Alaska', 'earthquake', '12.46', '9.21', '0.097', '29', 'reviewed', 'us', 'us']\n",
      "['2023-02-20T17:53:33.971Z', '-9.8286', '160.2368', '11.992', '5.1', 'mb', '43', '123', '0.481', '0.72', 'us', 'us6000jqdb', '2023-02-20T20:49:07.045Z', '53 km SE of Honiara, Solomon Islands', 'earthquake', '7.59', '4.375', '0.055', '106', 'reviewed', 'us', 'us']\n",
      "['2023-02-20T17:47:46.336Z', '17.6339', '145.5206', '336.653', '4.5', 'mb', '92', '101', '4.07', '0.72', 'us', 'us6000jqdg', '2023-02-20T21:47:12.040Z', '269 km N of Saipan, Northern Mariana Islands', 'earthquake', '12.01', '8.387', '0.046', '138', 'reviewed', 'us', 'us']\n",
      "['2023-02-20T17:07:35.745Z', '36.1491', '35.9086', '10', '5.5', 'mb', '37', '88', '1.462', '0.97', 'us', 'us6000jqjc', '2023-02-21T19:41:02.691Z', 'Central Turkey', 'earthquake', '5.55', '1.871', '0.128', '21', 'reviewed', 'us', 'us']\n",
      "['2023-02-20T17:04:29.441Z', '36.1094', '36.0165', '16', '6.3', 'mww', '140', '26', '1.43', '1.18', 'us', 'us6000jqcn', '2023-02-22T22:18:42.817Z', '3 km SSW of Uzunba?, Turkey', 'earthquake', '5.41', '1.504', '0.031', '97', 'reviewed', 'us', 'us']\n",
      "['2023-02-20T16:22:11.920Z', '18.3275', '-67.251', '15.47', '2.87', 'md', '13', '129', '0.01012', '0.43', 'pr', 'pr71396908', '2023-02-20T17:09:09.120Z', '0 km NW of Stella, Puerto Rico', 'earthquake', '0.85', '1.19', '0.107223062017609', '7', 'reviewed', 'pr', 'pr']\n",
      "['2023-02-20T15:58:02.862Z', '-20.7666', '-67.9306', '176.616', '4', 'mb', '20', '68', '1.481', '0.96', 'us', 'us6000jqb0', '2023-02-20T16:38:33.040Z', '116 km WSW of Colchani, Bolivia', 'earthquake', '5.91', '12.19', '0.231', '5', 'reviewed', 'us', 'us']\n",
      "['2023-02-20T15:01:41.005Z', '57.0044', '-153.9982', '0', '2.8', 'ml', '', '', '', '0.47', 'ak', 'ak0232clci50', '2023-02-20T16:32:26.040Z', 'Kodiak Island region, Alaska', 'earthquake', '', '2.1', '', '', 'automatic', 'ak', 'ak']\n",
      "['2023-02-20T14:53:07.742Z', '61.515', '-140.7064', '8.577', '2.6', 'ml', '19', '91', '0.65', '0.66', 'us', 'us6000jqah', '2023-02-20T16:28:54.040Z', '118 km E of McCarthy, Alaska', 'earthquake', '2.39', '4.004', '0.042', '74', 'reviewed', 'us', 'us']\n",
      "['2023-02-20T14:13:12.256Z', '-23.4178', '-69.1114', '103.452', '4.1', 'mb', '14', '104', '0.826', '0.79', 'us', 'us6000jqad', '2023-02-20T14:45:44.040Z', '108 km S of Calama, Chile', 'earthquake', '5.3', '5.364', '0.524', '1', 'reviewed', 'us', 'us']\n",
      "['2023-02-20T12:21:51.267Z', '-18.2777', '-178.0312', '561.902', '4.4', 'mb', '56', '69', '3.807', '0.59', 'us', 'us6000jqa0', '2023-02-20T12:38:04.040Z', '281 km E of Levuka, Fiji', 'earthquake', '9.65', '7.493', '0.034', '248', 'reviewed', 'us', 'us']\n",
      "['2023-02-20T11:15:15.835Z', '-3.8836', '133.4364', '10', '4.3', 'mb', '20', '137', '1.524', '0.29', 'us', 'us6000jq9x', '2023-02-20T11:45:05.040Z', '207 km NNE of Tual, Indonesia', 'earthquake', '5.97', '1.947', '0.148', '13', 'reviewed', 'us', 'us']\n",
      "['2023-02-20T10:50:10.340Z', '18.8493333333333', '-67.3056666666667', '10.4', '2.93', 'md', '12', '274', '0.4222', '0.22', 'pr', 'pr71396848', '2023-02-20T11:04:04.220Z', '45 km NNW of San Antonio, Puerto Rico', 'earthquake', '0.91', '1', '0.0829214822709696', '10', 'reviewed', 'pr', 'pr']\n",
      "['2023-02-20T09:47:26.864Z', '3.3125', '123.9156', '410.778', '4.6', 'mb', '116', '75', '4.084', '0.72', 'us', 'us6000jq9p', '2023-02-20T12:16:01.040Z', 'Celebes Sea', 'earthquake', '7.52', '7.058', '0.048', '132', 'reviewed', 'us', 'us']\n",
      "['2023-02-20T09:36:58.596Z', '63.5537', '-157.838', '10.9', '2.9', 'ml', '', '', '', '0.58', 'ak', 'ak0232chzfxd', '2023-02-20T17:47:01.040Z', '96 km SSE of Kaltag, Alaska', 'earthquake', '', '0.6', '', '', 'automatic', 'ak', 'ak']\n",
      "['2023-02-20T09:08:36.029Z', '48.74', '-128.9566', '10', '4.1', 'mb', '66', '128', '0.789', '0.36', 'us', 'us6000jq9j', '2023-02-22T08:17:22.332Z', '228 km WSW of Tofino, Canada', 'earthquake', '5.95', '1.945', '0.061', '74', 'reviewed', 'us', 'us']\n",
      "['2023-02-20T08:46:19.718Z', '-24.3502', '179.9311', '509.049', '4.5', 'mb', '80', '53', '5.237', '0.64', 'us', 'us6000jq9g', '2023-02-20T18:09:45.040Z', 'south of the Fiji Islands', 'earthquake', '11.33', '6.107', '0.047', '131', 'reviewed', 'us', 'us']\n",
      "['2023-02-20T07:13:47.370Z', '19.3275', '-155.133166666667', '5.57', '2.76', 'ml', '42', '104', '', '0.17', 'hv', 'hv73327742', '2023-02-22T04:15:40.680Z', '15 km S of Fern Forest, Hawaii', 'earthquake', '0.3', '0.46', '0.175519144180884', '27', 'reviewed', 'hv', 'hv']\n",
      "['2023-02-20T06:39:33.205Z', '-16.3366', '-72.6886', '116.082', '4.1', 'mb', '13', '175', '3.019', '0.43', 'us', 'us6000jq9a', '2023-02-21T13:24:15.040Z', '29 km N of El Cardo, Peru', 'earthquake', '11.6', '19.055', '0.214', '6', 'reviewed', 'us', 'us']\n",
      "['2023-02-20T06:30:27.760Z', '18.0858333333333', '-66.9715', '22.96', '2.7', 'md', '14', '70', '0.05668', '0.1', 'pr', 'pr71396823', '2023-02-20T06:48:01.730Z', '1 km NW of Sabana Grande, Puerto Rico', 'earthquake', '0.34', '0.62', '0.0893954203720111', '5', 'reviewed', 'pr', 'pr']\n",
      "['2023-02-20T06:03:28.350Z', '18.2466666666667', '-67.8421666666667', '105.07', '3.39', 'md', '8', '323', '0.7282', '0.16', 'pr', 'pr71396818', '2023-02-20T06:22:39.930Z', '63 km W of Rincón, Puerto Rico', 'earthquake', '1.89', '1.56', '0.0849718746627934', '8', 'reviewed', 'pr', 'pr']\n",
      "['2023-02-20T05:42:41.910Z', '17.9338333333333', '-66.8435', '12.1', '2.56', 'md', '8', '221', '0.05328', '0.08', 'pr', 'pr71396813', '2023-02-20T05:57:51.390Z', '6 km SE of Maria Antonia, Puerto Rico', 'earthquake', '0.68', '0.36', '0.00538615204246717', '3', 'reviewed', 'pr', 'pr']\n",
      "['2023-02-20T05:34:16.295Z', '58.93', '-154.5287', '130', '4.2', 'ml', '', '', '', '0.58', 'ak', 'ak0232cfl6rx', '2023-02-21T05:54:01.148Z', '58 km SSE of Kokhanok, Alaska', 'earthquake', '', '0.2', '', '', 'reviewed', 'ak', 'ak']\n",
      "['2023-02-20T04:05:03.974Z', '-22.4556', '-174.2759', '10', '5.1', 'mb', '71', '74', '2.619', '1.29', 'us', 'us6000jq88', '2023-02-20T04:25:37.040Z', '142 km SSE of ‘Ohonua, Tonga', 'earthquake', '9.35', '1.871', '0.054', '110', 'reviewed', 'us', 'us']\n",
      "['2023-02-20T03:45:38.572Z', '38.6708', '39.9482', '7.526', '4.3', 'mb', '47', '62', '1.327', '0.5', 'us', 'us6000jq85', '2023-02-20T22:14:02.364Z', '3 km SE of Palu, Turkey', 'earthquake', '3.47', '1.56', '0.095', '31', 'reviewed', 'us', 'us']\n",
      "['2023-02-20T03:09:47.719Z', '15.2128', '122.8285', '10', '5', 'mb', '89', '111', '8.264', '0.81', 'us', 'us6000jq7y', '2023-02-20T11:12:02.631Z', 'Philippine Islands region', 'earthquake', '10.19', '1.88', '0.056', '102', 'reviewed', 'us', 'us']\n",
      "['2023-02-20T03:07:29.481Z', '-5.405', '150.9071', '96.501', '4.3', 'mb', '20', '130', '1.738', '0.49', 'us', 'us6000jq7w', '2023-02-20T03:43:52.040Z', '86 km E of Kimbe, Papua New Guinea', 'earthquake', '12.23', '9.046', '0.132', '16', 'reviewed', 'us', 'us']\n",
      "['2023-02-20T02:17:35.059Z', '32.75299072', '-100.6551305', '7.947794596', '2.7', 'ml', '18', '62', '0.0777733927', '0.1', 'tx', 'tx2023dnnr', '2023-02-20T22:01:05.842Z', '16 km NE of Hermleigh, Texas', 'earthquake', '0.6675417334', '1.082287028', '0.1', '10', 'reviewed', 'tx', 'tx']\n",
      "['2023-02-20T01:48:59.785Z', '37.9658', '36.8106', '10', '4.3', 'mb', '64', '52', '0.465', '1.2', 'us', 'us6000jq7l', '2023-02-20T02:02:25.040Z', '28 km ESE of Göksun, Turkey', 'earthquake', '5.75', '1.922', '0.078', '47', 'reviewed', 'us', 'us']\n",
      "['2023-02-20T01:33:29.285Z', '1.8963', '96.6097', '21.712', '4.9', 'mb', '59', '145', '1.131', '0.63', 'us', 'us6000jq7k', '2023-02-20T01:49:08.040Z', 'Nias region, Indonesia', 'earthquake', '6.14', '5.749', '0.075', '56', 'reviewed', 'us', 'us']\n",
      "['2023-02-20T01:11:16.973Z', '38.6742', '14.1556', '10', '4.5', 'mb', '50', '56', '1.842', '0.73', 'us', 'us6000jq7g', '2023-02-23T01:13:00.627Z', '59 km WNW of Leni, Italy', 'earthquake', '5.32', '1.6', '0.085', '40', 'reviewed', 'us', 'us']\n",
      "['2023-02-20T01:07:38.336Z', '38.6477', '40.0047', '11.378', '4.4', 'mb', '48', '82', '1.377', '0.9', 'us', 'us6000jq7e', '2023-02-20T03:56:14.040Z', '8 km ESE of Palu, Turkey', 'earthquake', '3.79', '4.589', '0.088', '37', 'reviewed', 'us', 'us']\n",
      "['2023-02-20T00:58:49.293Z', '38.668', '39.9382', '14.809', '4.2', 'mb', '18', '74', '1.321', '0.72', 'us', 'us6000jq79', '2023-02-20T05:58:16.040Z', '3 km SSE of Palu, Turkey', 'earthquake', '3.75', '6.362', '0.372', '2', 'reviewed', 'us', 'us']\n",
      "['2023-02-20T00:39:03.271Z', '38.691', '39.978', '10', '4.5', 'mwr', '41', '57', '1.343', '0.58', 'us', 'us6000jq74', '2023-02-20T05:36:41.040Z', '5 km E of Palu, Turkey', 'earthquake', '2.58', '1.885', '0.071', '19', 'reviewed', 'us', 'us']\n",
      "['2023-02-20T00:37:30.257Z', '38.6413', '39.9166', '10', '4.7', 'mwr', '82', '41', '1.314', '0.82', 'us', 'us6000jq73', '2023-02-20T05:06:05.040Z', '5 km S of Palu, Turkey', 'earthquake', '3.19', '1.466', '0.048', '42', 'reviewed', 'us', 'us']\n",
      "['2023-02-20T00:28:09.850Z', '17.9933333333333', '-67.0228333333333', '10.13', '2.58', 'md', '12', '124', '0.0313', '0.15', 'pr', 'pr71396798', '2023-02-20T00:44:02.610Z', '3 km NE of La Parguera, Puerto Rico', 'earthquake', '0.42', '0.72', '0.235539167909739', '6', 'reviewed', 'pr', 'pr']\n",
      "['2023-02-20T00:01:18.919Z', '2.7272', '126.9831', '35', '4.7', 'mb', '68', '110', '1.98', '0.68', 'us', 'us6000jq6y', '2023-02-20T23:58:52.040Z', '158 km NW of Tobelo, Indonesia', 'earthquake', '9.23', '1.9', '0.075', '55', 'reviewed', 'us', 'us']\n",
      "['2023-02-19T23:57:26.573Z', '38.2671', '38.8204', '10', '4.2', 'mb', '55', '66', '0.825', '0.56', 'us', 'us6000jq6w', '2023-02-20T04:38:58.040Z', '19 km WSW of Do?anyol, Turkey', 'earthquake', '3.92', '1.949', '0.121', '19', 'reviewed', 'us', 'us']\n",
      "['2023-02-19T23:23:35.901Z', '-34.287', '-125.9946', '10', '5.3', 'mb', '35', '92', '15.997', '0.56', 'us', 'us6000jq6v', '2023-02-20T20:56:30.778Z', 'South Pacific Ocean', 'earthquake', '8.7', '1.888', '0.101', '33', 'reviewed', 'us', 'us']\n",
      "['2023-02-19T23:21:17.900Z', '-17.59', '-174.4615', '121.863', '4.5', 'mb', '26', '101', '1.141', '0.67', 'us', 'us6000jq6p', '2023-02-20T23:56:06.040Z', '127 km NNW of Neiafu, Tonga', 'earthquake', '9.92', '8.167', '0.11', '24', 'reviewed', 'us', 'us']\n",
      "['2023-02-19T23:13:06.675Z', '-5.9794', '129.1584', '10.013', '4.3', 'mb', '16', '115', '4.328', '1.1', 'us', 'us6000jq6l', '2023-02-20T23:53:24.040Z', '274 km SSE of Ambon, Indonesia', 'earthquake', '10.84', '6.46', '0.169', '10', 'reviewed', 'us', 'us']\n",
      "['2023-02-19T23:12:21.707Z', '2.7188', '126.9844', '35', '5', 'mb', '58', '109', '1.971', '0.88', 'us', 'us6000jq6k', '2023-02-20T23:49:19.040Z', '158 km NW of Tobelo, Indonesia', 'earthquake', '7.37', '1.877', '0.063', '81', 'reviewed', 'us', 'us']\n",
      "['2023-02-19T22:56:53.036Z', '10.0899', '-84.2877', '17.308', '4.5', 'mb', '22', '136', '0.194', '0.62', 'us', 'us6000jq6i', '2023-02-20T22:29:06.163Z', '3 km ESE of San Juan, Costa Rica', 'earthquake', '3.64', '5.014', '0.181', '9', 'reviewed', 'us', 'us']\n",
      "['2023-02-19T22:09:12.571Z', '2.8476', '128.5375', '226.644', '4.6', 'mb', '57', '105', '2.371', '0.71', 'us', 'us6000jq6e', '2023-02-20T23:46:43.040Z', '136 km NNE of Tobelo, Indonesia', 'earthquake', '9.34', '5.799', '0.055', '100', 'reviewed', 'us', 'us']\n",
      "['2023-02-19T21:30:30.207Z', '37.3597', '36.8864', '10', '3.9', 'mwr', '34', '105', '0.146', '0.68', 'us', 'us6000jq69', '2023-02-20T20:47:32.769Z', '25 km NNE of Nurda??, Turkey', 'earthquake', '3.8', '1.86', '0.058', '29', 'reviewed', 'us', 'us']\n",
      "['2023-02-19T21:28:19.169Z', '53.1914', '160.6941', '35', '4.3', 'mb', '33', '140', '1.244', '0.87', 'us', 'us6000jq6b', '2023-02-20T01:20:49.040Z', '139 km E of Petropavlovsk-Kamchatsky, Russia', 'earthquake', '10.48', '1.954', '0.111', '23', 'reviewed', 'us', 'us']\n",
      "['2023-02-19T20:55:44.750Z', '17.9301666666667', '-66.8401666666667', '11.11', '2.92', 'md', '13', '208', '0.05812', '0.19', 'pr', 'pr71396768', '2023-02-19T21:08:29.870Z', '7 km SSW of Indios, Puerto Rico', 'earthquake', '0.72', '0.56', '0.101044054455469', '6', 'reviewed', 'pr', 'pr']\n",
      "['2023-02-19T20:16:29.488Z', '-12.7247', '66.3437', '10', '4.9', 'mb', '103', '78', '8.002', '0.55', 'us', 'us6000jq5z', '2023-02-19T20:42:59.040Z', 'Mid-Indian Ridge', 'earthquake', '9.56', '1.788', '0.063', '79', 'reviewed', 'us', 'us']\n",
      "['2023-02-19T19:51:50.848Z', '63.5424', '-157.8976', '13.9', '3.4', 'ml', '', '', '', '0.82', 'ak', 'ak0232b0hmmh', '2023-02-19T22:37:42.040Z', 'Central Alaska', 'earthquake', '', '0.8', '', '', 'reviewed', 'ak', 'ak']\n",
      "['2023-02-19T19:11:02.151Z', '43.3965', '-127.3047', '10', '3.2', 'ml', '20', '296', '1.766', '0.93', 'us', 'us6000jq5f', '2023-02-19T20:49:29.040Z', '237 km W of Bandon, Oregon', 'earthquake', '4.88', '2.027', '0.038', '89', 'reviewed', 'us', 'us']\n",
      "['2023-02-19T18:55:42.802Z', '42.7977', '143.1312', '130.444', '5', 'mb', '144', '90', '0.782', '0.77', 'us', 'us6000jq5d', '2023-02-19T19:24:45.040Z', '14 km SSW of Obihiro, Japan', 'earthquake', '8.62', '5.526', '0.023', '599', 'reviewed', 'us', 'us']\n",
      "['2023-02-19T17:57:11.658Z', '56.5456', '-149.5057', '10', '2.6', 'ml', '12', '282', '2.085', '0.86', 'us', 'us6000jq62', '2023-02-20T17:01:09.040Z', '205 km SE of Chiniak, Alaska', 'earthquake', '10.22', '2.025', '0.052', '48', 'reviewed', 'us', 'us']\n",
      "['2023-02-19T16:12:34.567Z', '-5.3873', '146.6183', '131.524', '4.4', 'mb', '23', '94', '4.027', '0.79', 'us', 'us6000jq4t', '2023-02-19T17:19:00.040Z', '93 km E of Madang, Papua New Guinea', 'earthquake', '11.5', '5.897', '0.12', '20', 'reviewed', 'us', 'us']\n",
      "['2023-02-19T16:07:11.410Z', '-12.8199', '66.3708', '10', '5.3', 'mww', '25', '98', '7.474', '0.79', 'us', 'us6000jq4r', '2023-02-19T16:23:08.040Z', '', 'earthquake', '11.54', '1.922', '0.098', '10', 'reviewed', 'us', 'us']\n",
      "['2023-02-19T15:32:54.122Z', '63.2506', '-150.5554', '135.4', '3.7', 'ml', '', '', '', '0.41', 'ak', 'ak0232axzttx', '2023-02-19T15:43:21.040Z', '66 km ESE of Denali National Park, Alaska', 'earthquake', '', '0.7', '', '', 'automatic', 'ak', 'ak']\n",
      "['2023-02-19T15:17:04.737Z', '2.4267', '126.096', '76.725', '5', 'mb', '31', '108', '2.077', '0.54', 'us', 'us6000jq4h', '2023-02-19T15:33:59.040Z', '162 km NE of Laikit, Laikit II (Dimembe), Indonesia', 'earthquake', '10.2', '10.248', '0.063', '79', 'reviewed', 'us', 'us']\n",
      "['2023-02-19T14:26:20.836Z', '34.6284', '33.0052', '3.615', '3.6', 'ml', '7', '255', '0.427', '0.22', 'us', 'us6000jq4g', '2023-02-22T08:20:33.777Z', 'Cyprus region', 'earthquake', '6.29', '13.947', '0.105', '12', 'reviewed', 'us', 'us']\n",
      "['2023-02-19T14:21:37.207Z', '-10.3243', '161.0267', '62.347', '4.5', 'mb', '23', '104', '1.38', '0.57', 'us', 'us6000jq49', '2023-02-19T17:13:07.040Z', '98 km W of Kirakira, Solomon Islands', 'earthquake', '12.4', '6.951', '0.108', '25', 'reviewed', 'us', 'us']\n",
      "['2023-02-19T14:10:57.446Z', '-13.6013', '172.1246', '10', '4.9', 'mb', '34', '79', '7.04', '0.83', 'us', 'us6000jq41', '2023-02-19T14:28:38.040Z', 'Vanuatu region', 'earthquake', '9.6', '1.307', '0.062', '85', 'reviewed', 'us', 'us']\n",
      "['2023-02-19T14:05:22.670Z', '17.763', '-68.4881666666667', '10.42', '3.21', 'md', '11', '256', '0.7543', '0.34', 'pr', 'pr71396753', '2023-02-19T14:33:49.130Z', '69 km S of Boca de Yuma, Dominican Republic', 'earthquake', '4.61', '4.84', '0.0317041059481755', '3', 'reviewed', 'pr', 'pr']\n",
      "['2023-02-19T13:40:59.140Z', '18.5686666666667', '-65.6586666666667', '81.77', '3.2', 'md', '18', '198', '0.3133', '0.16', 'pr', 'pr71396743', '2023-02-19T15:02:18.350Z', '22 km NNE of Luquillo, Puerto Rico', 'earthquake', '1.36', '0.99', '0.075074240803255', '13', 'reviewed', 'pr', 'pr']\n",
      "['2023-02-19T13:08:13.712Z', '-58.4136', '-23.1988', '10', '5', 'mb', '37', '86', '8.457', '0.57', 'us', 'us6000jq3n', '2023-02-19T13:25:04.040Z', 'South Sandwich Islands region', 'earthquake', '6.43', '1.864', '0.085', '44', 'reviewed', 'us', 'us']\n",
      "['2023-02-19T12:21:05.619Z', '-12.7679', '66.3649', '10', '4.7', 'mb', '63', '60', '7.519', '0.37', 'us', 'us6000jq40', '2023-02-19T14:22:50.040Z', 'Mid-Indian Ridge', 'earthquake', '9.65', '1.855', '0.077', '52', 'reviewed', 'us', 'us']\n",
      "['2023-02-19T12:04:33.973Z', '38.2418', '38.1842', '5.478', '4.6', 'mwr', '76', '49', '0.858', '0.52', 'us', 'us6000jq3c', '2023-02-19T12:23:56.040Z', '8 km SW of Ye?ilyurt, Turkey', 'earthquake', '4.08', '3.971', '0.044', '49', 'reviewed', 'us', 'us']\n",
      "['2023-02-19T11:41:42.408Z', '32.7456665', '-100.6658489', '7.996704102', '2.9', 'ml', '26', '70', '0.089394826', '0.3', 'tx', 'tx2023dmku', '2023-02-20T05:54:01.663Z', '15 km NE of Hermleigh, Texas', 'earthquake', '1.165498798', '1.6901858940000003', '0.2', '19', 'reviewed', 'tx', 'tx']\n",
      "['2023-02-19T11:17:55.929Z', '64.7764', '-149.1548', '15.6', '2.5', 'ml', '', '', '', '1.07', 'ak', 'ak0232avivu0', '2023-02-19T11:24:11.040Z', '19 km N of Four Mile Road, Alaska', 'earthquake', '', '0.2', '', '', 'automatic', 'ak', 'ak']\n",
      "['2023-02-19T11:01:35.585Z', '61.763', '-150.322', '21.2', '2.7', 'ml', '', '', '', '0.63', 'ak', 'ak0232avfetm', '2023-02-19T11:19:24.040Z', '15 km W of Willow, Alaska', 'earthquake', '', '0.4', '', '', 'automatic', 'ak', 'ak']\n",
      "['2023-02-19T10:51:56.772Z', '61.4834', '-140.7405', '6.39', '2.7', 'ml', '31', '79', '0.616', '0.53', 'us', 'us6000jq33', '2023-02-19T11:13:48.040Z', '116 km E of McCarthy, Alaska', 'earthquake', '3.41', '7.079', '0.048', '56', 'reviewed', 'us', 'us']\n",
      "['2023-02-19T10:05:29.840Z', '-15.4427', '-71.5287', '142.092', '4.5', 'mb', '48', '112', '2.902', '0.63', 'us', 'us6000jq2z', '2023-02-19T10:23:29.040Z', 'southern Peru', 'earthquake', '9.2', '8.156', '0.061', '78', 'reviewed', 'us', 'us']\n",
      "['2023-02-19T10:03:33.580Z', '17.9198333333333', '-66.8466666666667', '11.54', '3.08', 'md', '34', '189', '0.06308', '0.2', 'pr', 'pr71396718', '2023-02-19T10:54:31.090Z', '7 km SE of Maria Antonia, Puerto Rico', 'earthquake', '0.49', '0.35', '0.199923328460038', '15', 'reviewed', 'pr', 'pr']\n",
      "['2023-02-19T07:54:32.421Z', '12.4349', '-87.5405', '69.968', '4.8', 'mb', '86', '140', '0.825', '0.61', 'us', 'us6000jq2k', '2023-02-19T14:45:13.943Z', 'near the coast of Nicaragua', 'earthquake', '5.96', '7.54', '0.028', '399', 'reviewed', 'us', 'us']\n",
      "['2023-02-19T07:30:11.460Z', '51.86', '-177.976833333333', '5.02', '2.93', 'ml', '14', '89', '', '0.16', 'av', 'av91766561', '2023-02-22T22:19:05.660Z', '92 km W of Adak, Alaska', 'earthquake', '0.52', '0.35', '0.193831584254065', '18', 'reviewed', 'av', 'av']\n",
      "['2023-02-19T07:27:04.901Z', '53.2183', '-165.452', '15.5', '2.5', 'ml', '', '', '', '0.25', 'ak', 'ak0232at72js', '2023-02-19T10:39:38.628Z', '102 km SE of Unalaska, Alaska', 'earthquake', '', '0.4', '', '', 'reviewed', 'ak', 'ak']\n",
      "['2023-02-19T07:21:55.344Z', '36.5116', '70.2282', '219.09', '4.2', 'mb', '22', '102', '2.191', '0.46', 'us', 'us6000jq2f', '2023-02-19T08:49:22.040Z', '33 km ESE of Farkh?r, Afghanistan', 'earthquake', '7.95', '12.991', '0.263', '4', 'reviewed', 'us', 'us']\n",
      "['2023-02-19T07:11:39.433Z', '47.3393', '152.1759', '130.756', '4.6', 'mb', '123', '115', '6.434', '0.83', 'us', 'us6000jq2b', '2023-02-19T08:06:23.040Z', 'Kuril Islands', 'earthquake', '10.35', '7.064', '0.04', '211', 'reviewed', 'us', 'us']\n",
      "['2023-02-19T06:55:40.260Z', '17.9461666666667', '-66.8423333333333', '10.71', '2.54', 'md', '15', '176', '0.0454', '0.19', 'pr', 'pr71396688', '2023-02-19T07:20:25.660Z', 'Puerto Rico region', 'earthquake', '0.52', '0.57', '0.469607576383692', '10', 'reviewed', 'pr', 'pr']\n",
      "['2023-02-19T05:24:34.922Z', '43.4184', '-127.3272', '10', '3.2', 'ml', '20', '292', '1.765', '0.71', 'us', 'us6000jq1r', '2023-02-19T21:04:51.339Z', 'off the coast of Oregon', 'earthquake', '8.44', '2.026', '0.038', '91', 'reviewed', 'us', 'us']\n",
      "['2023-02-19T05:21:18.742Z', '56.1715', '-152.0829', '10', '3', 'ml', '30', '258', '1.639', '0.5', 'us', 'us6000jq1q', '2023-02-19T05:38:55.040Z', '137 km SSE of Old Harbor, Alaska', 'earthquake', '4.35', '2.013', '0.069', '28', 'reviewed', 'us', 'us']\n",
      "['2023-02-19T05:19:38.544Z', '52.7568', '-168.1233', '35', '3.8', 'mb', '7', '248', '0.493', '0.6', 'us', 'us6000jq1s', '2023-02-20T19:00:50.541Z', '53 km ESE of Nikolski, Alaska', 'earthquake', '4.9', '2', '0.12', '18', 'reviewed', 'us', 'us']\n",
      "['2023-02-19T05:05:02.470Z', '18.0595', '-67.9286', '109', '3.55', 'md', '14', '222', '0.0177', '0.1', 'pr', 'pr2023050000', '2023-02-19T07:08:10.402Z', '76 km SE of Punta Cana, Dominican Republic', 'earthquake', '1', '0.69', '0.1', '11', 'reviewed', 'pr', 'pr']\n",
      "['2023-02-19T04:47:17.731Z', '9.0937', '126.2015', '66.534', '4.9', 'mb', '86', '103', '2.103', '0.61', 'us', 'us6000jq1l', '2023-02-19T05:03:49.040Z', '1 km N of Tandag, Philippines', 'earthquake', '8.1', '6.395', '0.053', '113', 'reviewed', 'us', 'us']\n",
      "['2023-02-19T04:32:44.262Z', '-5.9728', '149.3342', '68.686', '4.3', 'mb', '22', '88', '3.328', '0.45', 'us', 'us6000jq1j', '2023-02-22T23:50:15.040Z', 'New Britain region, Papua New Guinea', 'earthquake', '9.99', '4.693', '0.148', '15', 'reviewed', 'us', 'us']\n",
      "['2023-02-19T04:22:03.022Z', '51.8652', '-177.932', '5', '3', 'ml', '16', '122', '0.047', '0.6', 'us', 'us6000jqw0', '2023-02-22T23:44:27.040Z', '89 km W of Adak, Alaska', 'earthquake', '1.1', '1.365', '0.105', '12', 'reviewed', 'us', 'us']\n",
      "['2023-02-19T04:07:41.082Z', '37.2988', '36.8648', '10.747', '4.3', 'mb', '59', '76', '0.208', '0.66', 'us', 'us6000jq1g', '2023-02-19T16:01:58.040Z', '18 km NE of Nurda??, Turkey', 'earthquake', '5.6', '2.119', '0.079', '46', 'reviewed', 'us', 'us']\n",
      "['2023-02-19T04:06:17.537Z', '37.2669', '36.7983', '10', '4.2', 'mb', '21', '195', '0.251', '0.72', 'us', 'us6000jq1h', '2023-02-22T23:41:35.040Z', '12 km NNE of Nurda??, Turkey', 'earthquake', '5.14', '1.893', '0.216', '7', 'reviewed', 'us', 'us']\n",
      "['2023-02-19T04:03:37.576Z', '-1.326', '28.1318', '14.108', '4.6', 'mb', '25', '96', '2.703', '1.07', 'us', 'us6000jq1e', '2023-02-19T04:32:15.040Z', '105 km WNW of Sake, Democratic Republic of the Congo', 'earthquake', '8.86', '2.898', '0.122', '20', 'reviewed', 'us', 'us']\n",
      "['2023-02-19T03:59:10.171Z', '37.0377', '36.8185', '12.873', '4.1', 'mb', '44', '144', '0.34', '0.89', 'us', 'us6000jq1d', '2023-02-19T16:04:20.040Z', '16 km SSE of Nurda??, Turkey', 'earthquake', '3.86', '5.425', '0.102', '26', 'reviewed', 'us', 'us']\n",
      "['2023-02-19T02:40:40.497Z', '-19.9665', '-71.1666', '7.154', '5.3', 'mww', '64', '148', '1.019', '1.07', 'us', 'us6000jq13', '2023-02-19T19:45:09.321Z', '109 km WNW of Iquique, Chile', 'earthquake', '5.13', '4.54', '0.055', '32', 'reviewed', 'us', 'us']\n",
      "['2023-02-19T02:24:23.390Z', '40.964', '-109.5098333', '8.87', '2.92', 'ml', '17', '154', '0.3954', '0.17', 'uu', 'uu60531596', '2023-02-19T04:12:07.490Z', '10 km WNW of Dutch John, Utah', 'earthquake', '0.61', '0.98', '0.184', '16', 'reviewed', 'uu', 'uu']\n",
      "['2023-02-19T01:48:38.869Z', '-1.1376', '-80.7573', '10', '4.3', 'mb', '18', '231', '1.199', '0.92', 'us', 'us6000jq0w', '2023-02-19T02:06:13.040Z', '14 km SW of Montecristi, Ecuador', 'earthquake', '6.97', '1.986', '0.306', '3', 'reviewed', 'us', 'us']\n",
      "['2023-02-19T01:46:57.197Z', '59.3918', '-153.0384', '81.9', '4', 'ml', '', '', '', '0.58', 'ak', 'ak0232apqri0', '2023-02-20T21:49:58.462Z', '63 km W of Nanwalek, Alaska', 'earthquake', '', '0.2', '', '', 'reviewed', 'ak', 'ak']\n",
      "['2023-02-19T00:56:36.035Z', '61.7014', '-150.2154', '18.5', '2.7', 'ml', '', '', '', '1.04', 'ak', 'ak0232ap7fkj', '2023-02-19T01:31:00.040Z', '10 km WSW of Willow, Alaska', 'earthquake', '', '0.5', '', '', 'automatic', 'ak', 'ak']\n",
      "['2023-02-19T00:56:11.260Z', '38.0472', '36.2387', '1.763', '4.1', 'mb', '58', '48', '0.386', '0.61', 'us', 'us6000jq0m', '2023-02-19T22:23:58.040Z', '14 km ENE of Saimbeyli, Turkey', 'earthquake', '2.97', '6.233', '0.105', '25', 'reviewed', 'us', 'us']\n",
      "['2023-02-19T00:49:15.302Z', '-19.467', '-176.8487', '343.749', '4.4', 'mb', '30', '93', '2.382', '0.68', 'us', 'us6000jq0j', '2023-02-19T01:03:13.040Z', '252 km NW of Nuku‘alofa, Tonga', 'earthquake', '11.12', '10.229', '0.089', '36', 'reviewed', 'us', 'us']\n",
      "['2023-02-18T23:03:05.158Z', '-17.534', '-178.699', '548.317', '5.4', 'mww', '106', '35', '3.104', '0.55', 'us', 'us6000jq07', '2023-02-19T23:05:48.699Z', '218 km ENE of Levuka, Fiji', 'earthquake', '10.3', '2.345', '0.093', '11', 'reviewed', 'us', 'us']\n",
      "['2023-02-18T22:48:35.600Z', '19.1398334503174', '-155.357162475586', '31.7199993133545', '2.59', 'ml', '42', '218', '', '0.119999997', 'hv', 'hv73327112', '2023-02-18T23:48:53.040Z', '14 km ESE of P?hala, Hawaii', 'earthquake', '0.69', '0.930000007', '2.2', '16', 'automatic', 'hv', 'hv']\n",
      "['2023-02-18T22:33:57.310Z', '38.7908325', '-122.7731705', '-0.23', '2.57', 'md', '47', '32', '0.01176', '0.08', 'nc', 'nc73848286', '2023-02-19T02:19:14.366Z', '2km NW of The Geysers, CA', 'earthquake', '0.14', '0.27', '0.23', '53', 'automatic', 'nc', 'nc']\n",
      "['2023-02-18T22:13:51.309Z', '-19.9759', '-70.9992', '35', '4.9', 'mwr', '60', '139', '0.867', '1.12', 'us', 'us6000jpzu', '2023-02-19T19:46:44.767Z', '92 km WNW of Iquique, Chile', 'earthquake', '3.79', '1.914', '', '', 'reviewed', 'us', 'guc']\n",
      "['2023-02-18T22:11:05.100Z', '17.9448333333333', '-67.009', '11.34', '2.59', 'md', '13', '227', '0.0415', '0.08', 'pr', 'pr71396653', '2023-02-18T22:27:28.320Z', 'Puerto Rico region', 'earthquake', '0.45', '0.29', '0.0724258185923108', '5', 'reviewed', 'pr', 'pr']\n",
      "['2023-02-18T21:28:00.175Z', '-55.4328', '-27.8877', '20.395', '5.7', 'mww', '104', '45', '5.101', '0.63', 'us', 'us6000jpzj', '2023-02-19T21:32:41.779Z', 'South Sandwich Islands region', 'earthquake', '10.65', '3.619', '0.071', '19', 'reviewed', 'us', 'us']\n",
      "['2023-02-18T20:43:06.790Z', '-8.6778', '123.679', '10', '4.4', 'mb', '20', '112', '1.218', '0.95', 'us', 'us6000jpz8', '2023-02-18T23:57:25.040Z', '96 km NW of Pante Makasar, Timor Leste', 'earthquake', '6.93', '1.822', '0.162', '11', 'reviewed', 'us', 'us']\n",
      "['2023-02-18T20:34:20.510Z', '19.137', '-66.3253333333333', '16.09', '3.14', 'md', '15', '275', '0.6843', '0.1', 'pr', 'pr71396643', '2023-02-18T21:05:47.180Z', '74 km N of Brenas, Puerto Rico', 'earthquake', '1.76', '3.42', '0.144200243969264', '5', 'reviewed', 'pr', 'pr']\n",
      "['2023-02-18T20:14:30.584Z', '37.2868', '20.8875', '10', '4.7', 'mb', '54', '129', '0.835', '1.12', 'us', 'us6000jpyy', '2023-02-18T23:02:43.040Z', '48 km S of Lithakiá, Greece', 'earthquake', '6.81', '1.918', '0.096', '33', 'reviewed', 'us', 'us']\n",
      "['2023-02-18T19:55:20.681Z', '-55.5794', '-28.1861', '35', '4.6', 'mb', '12', '98', '4.961', '0.66', 'us', 'us6000jpyx', '2023-02-18T22:49:21.040Z', 'South Sandwich Islands region', 'earthquake', '13.22', '1.949', '0.165', '11', 'reviewed', 'us', 'us']\n",
      "['2023-02-18T19:31:31.398Z', '38.0511', '36.6002', '10.148', '5', 'mww', '138', '28', '0.383', '0.75', 'us', 'us6000jpyq', '2023-02-18T21:30:17.290Z', '9 km ENE of Göksun, Turkey', 'earthquake', '5.24', '4.016', '0.058', '29', 'reviewed', 'us', 'us']\n",
      "['2023-02-18T19:31:14.699Z', '-14.9599', '-71.0825', '168.772', '4.5', 'mb', '30', '99', '3.034', '0.8', 'us', 'us6000jpyr', '2023-02-18T22:36:08.040Z', '11 km NNE of Ocoruro, Peru', 'earthquake', '12.45', '7.19', '0.053', '107', 'reviewed', 'us', 'us']\n",
      "['2023-02-18T18:53:06.669Z', '24.2873', '98.0834', '10', '4.2', 'mb', '21', '103', '3.634', '0.43', 'us', 'us6000jpyk', '2023-02-18T20:05:34.040Z', '', 'earthquake', '11.52', '1.9', '0.186', '11', 'reviewed', 'us', 'us']\n",
      "['2023-02-18T17:32:57.357Z', '35.8295', '25.5162', '10', '4.7', 'mwr', '111', '41', '2.146', '0.6', 'us', 'us6000jpy6', '2023-02-18T18:08:50.040Z', '57 km NNE of Limín Khersonísou, Greece', 'earthquake', '4.27', '1.826', '0.078', '16', 'reviewed', 'us', 'us']\n",
      "['2023-02-18T16:14:41.695Z', '37.9156', '38.1277', '10', '4', 'mb', '29', '94', '0.726', '0.74', 'us', 'us6000jpxx', '2023-02-19T00:24:03.872Z', '15 km SW of Çelikhan, Turkey', 'earthquake', '4.15', '1.823', '0.183', '8', 'reviewed', 'us', 'us']\n",
      "['2023-02-18T16:07:37.737Z', '62.2539', '-150.7915', '66.7', '2.7', 'ml', '', '', '', '0.7', 'ak', 'ak02329awist', '2023-02-18T17:22:38.040Z', '27 km S of Petersville, Alaska', 'earthquake', '', '0.7', '', '', 'automatic', 'ak', 'ak']\n",
      "['2023-02-18T15:49:09.064Z', '23.6764', '120.7249', '20.447', '4.5', 'mb', '34', '71', '0.237', '1.06', 'us', 'us6000jpxl', '2023-02-20T15:04:10.203Z', 'Taiwan', 'earthquake', '3.68', '4.239', '0.127', '18', 'reviewed', 'us', 'us']\n",
      "['2023-02-18T15:08:13.590Z', '51.8413333333333', '-177.999666666667', '3.62', '2.63', 'ml', '13', '109', '', '0.31', 'av', 'av91765821', '2023-02-20T21:57:40.340Z', '94 km W of Adak, Alaska', 'earthquake', '0.71', '0.45', '0.166105507588556', '13', 'reviewed', 'av', 'av']\n",
      "['2023-02-18T14:45:12.167Z', '-22.4205', '-176.3573', '189.209', '4.4', 'mb', '18', '140', '1.643', '0.54', 'us', 'us6000jpxh', '2023-02-18T17:09:25.040Z', '182 km SW of Vaini, Tonga', 'earthquake', '7.04', '13.244', '0.134', '16', 'reviewed', 'us', 'us']\n",
      "['2023-02-18T14:07:43.180Z', '7.3653', '-36.0365', '10', '4.7', 'mb', '27', '90', '14.339', '0.71', 'us', 'us6000jpxe', '2023-02-18T14:35:21.040Z', 'central Mid-Atlantic Ridge', 'earthquake', '13.08', '1.898', '0.086', '41', 'reviewed', 'us', 'us']\n",
      "['2023-02-18T12:32:08.910Z', '18.863', '-64.7483333333333', '4.86', '2.88', 'md', '6', '305', '0.5291', '0.18', 'pr', 'pr71396628', '2023-02-18T12:51:01.300Z', '59 km N of Cruz Bay, U.S. Virgin Islands', 'earthquake', '2.12', '2.45', '0.195883222155401', '5', 'reviewed', 'pr', 'pr']\n",
      "['2023-02-18T12:00:25.372Z', '62.8665', '-148.1895', '66.7', '3.8', 'ml', '', '', '', '0.69', 'ak', 'ak023298h9go', '2023-02-18T22:38:35.686Z', '', 'earthquake', '', '0.2', '', '', 'reviewed', 'ak', 'ak']\n",
      "['2023-02-18T11:38:42.863Z', '-19.1479', '-177.4407', '560.167', '4.4', 'mb', '44', '65', '2.909', '0.94', 'us', 'us6000jpx1', '2023-02-18T12:02:18.040Z', 'Fiji region', 'earthquake', '13.44', '8.969', '0.087', '39', 'reviewed', 'us', 'us']\n",
      "['2023-02-18T11:17:49.584Z', '-6.6963', '129.8764', '115.109', '4.1', 'mb', '23', '67', '4.435', '0.73', 'us', 'us6000jpww', '2023-02-18T11:44:41.040Z', 'Banda Sea', 'earthquake', '8.04', '6.687', '0.135', '15', 'reviewed', 'us', 'us']\n",
      "['2023-02-18T11:09:12.143Z', '-17.9261', '-178.5469', '549.779', '4.3', 'mb', '52', '50', '3.621', '0.87', 'us', 'us6000jpwu', '2023-02-18T11:27:47.040Z', '226 km E of Levuka, Fiji', 'earthquake', '13.38', '9.101', '0.05', '125', 'reviewed', 'us', 'us']\n",
      "['2023-02-18T10:31:35.420Z', '18.9485', '-65.8165', '20.05', '3.1', 'md', '10', '244', '0.6846', '0.21', 'pr', 'pr71396623', '2023-02-18T11:22:49.260Z', '57 km N of Suárez, Puerto Rico', 'earthquake', '1.13', '19.22', '0.111338314688887', '5', 'reviewed', 'pr', 'pr']\n",
      "['2023-02-18T10:25:22.130Z', '18.286', '-67.1655', '26.51', '3.12', 'md', '26', '116', '0.07134', '0.12', 'pr', 'pr71396613', '2023-02-18T11:08:15.380Z', '2 km WSW of Las Marias, Puerto Rico', 'earthquake', '0.3', '0.49', '0.170373318103356', '16', 'reviewed', 'pr', 'pr']\n",
      "['2023-02-18T09:02:54.296Z', '-13.2281', '167.1186', '198.551', '5.3', 'mww', '74', '55', '2.207', '0.52', 'us', 'us6000jpw7', '2023-02-21T14:11:42.040Z', '85 km NNW of Sola, Vanuatu', 'earthquake', '9.05', '6.553', '0.069', '20', 'reviewed', 'us', 'us']\n",
      "['2023-02-18T08:49:39.680Z', '19.2495002746582', '-155.442840576172', '30.9599990844727', '2.53999996', 'md', '22', '186', '', '0.200000003', 'hv', 'hv73326882', '2023-02-18T08:52:42.380Z', 'Island of Hawaii, Hawaii', 'earthquake', '1.17', '1.91999996', '1.26999998', '3', 'automatic', 'hv', 'hv']\n",
      "['2023-02-18T08:28:49.850Z', '51.8555', '-177.982666666667', '4.49', '2.95', 'ml', '12', '89', '', '0.23', 'av', 'av91765376', '2023-02-21T01:40:44.510Z', '92 km W of Adak, Alaska', 'earthquake', '0.46', '0.43', '0.257185856742975', '19', 'reviewed', 'av', 'av']\n",
      "['2023-02-18T08:24:12.348Z', '10.2201', '-84.1764', '10', '5.2', 'mb', '62', '108', '0.226', '0.59', 'us', 'us6000jpvz', '2023-02-19T23:38:51.336Z', '11 km ESE of Río Segundo, Costa Rica', 'earthquake', '4.86', '1.774', '0.056', '107', 'reviewed', 'us', 'us']\n",
      "['2023-02-18T08:12:09.148Z', '4.2244', '94.4627', '21.984', '4.3', 'mb', '30', '168', '2.67', '0.57', 'us', 'us6000jpw1', '2023-02-18T12:27:14.040Z', '174 km SSW of Banda Aceh, Indonesia', 'earthquake', '8.45', '5.373', '0.116', '21', 'reviewed', 'us', 'us']\n",
      "['2023-02-18T07:39:18.606Z', '36.529', '70.8441', '174.824', '4.2', 'mb', '56', '77', '2.468', '0.81', 'us', 'us6000jpvk', '2023-02-18T12:24:07.040Z', '37 km S of Jurm, Afghanistan', 'earthquake', '8.69', '9.737', '0.09', '34', 'reviewed', 'us', 'us']\n",
      "['2023-02-18T07:22:19.685Z', '53.6057', '160.3529', '89.628', '4.3', 'mb', '35', '158', '1.177', '0.87', 'us', 'us6000jpvh', '2023-02-18T07:59:54.040Z', '129 km ENE of Petropavlovsk-Kamchatsky, Russia', 'earthquake', '11.77', '9.014', '0.1', '28', 'reviewed', 'us', 'us']\n",
      "['2023-02-18T06:36:52.538Z', '-27.8899', '-176.8968', '35', '4.8', 'mb', '36', '98', '1.627', '0.83', 'us', 'us6000jpv9', '2023-02-18T07:05:15.040Z', 'Kermadec Islands region', 'earthquake', '10.3', '1.919', '0.107', '27', 'reviewed', 'us', 'us']\n",
      "['2023-02-18T06:04:29.144Z', '15.7543', '-97.2439', '10', '4.4', 'mb', '45', '216', '2.2', '0.65', 'us', 'us6000jpv2', '2023-02-18T15:32:11.562Z', '21 km SW of Puerto Escondido, Mexico', 'earthquake', '9.92', '1.989', '0.07', '58', 'reviewed', 'us', 'us']\n",
      "['2023-02-18T06:00:07.010Z', '19.4456666666667', '-155.485166666667', '8.59', '2.58', 'ml', '43', '55', '', '0.11', 'hv', 'hv73326857', '2023-02-22T04:42:13.810Z', 'Island of Hawaii, Hawaii', 'earthquake', '0.24', '0.33', '0.19364766143083', '23', 'reviewed', 'hv', 'hv']\n",
      "['2023-02-18T05:26:04.787Z', '38.0726', '37.1608', '4.308', '4', 'mb', '38', '62', '0.603', '0.79', 'us', 'us6000jpun', '2023-02-18T21:29:57.040Z', 'Central Turkey', 'earthquake', '2.62', '4.88', '0.212', '6', 'reviewed', 'us', 'us']\n",
      "['2023-02-18T04:51:54.618Z', '-31.1783', '-70.6232', '105.511', '4.5', 'mb', '27', '60', '0.324', '0.48', 'us', 'us6000jpuk', '2023-02-18T05:15:32.040Z', '62 km SSE of Monte Patria, Chile', 'earthquake', '5.17', '2.345', '0.241', '5', 'reviewed', 'us', 'us']\n",
      "['2023-02-18T04:47:15.435Z', '-2.8697', '130.3291', '19.086', '4.9', 'mb', '30', '82', '1.696', '0.86', 'us', 'us6000jpuj', '2023-02-18T05:06:39.040Z', '165 km ENE of Amahai, Indonesia', 'earthquake', '7.07', '4.808', '0.092', '37', 'reviewed', 'us', 'us']\n",
      "['2023-02-18T04:30:05.556Z', '52.6655', '-174.3929', '215.694', '4.3', 'mb', '40', '70', '0.313', '0.52', 'us', 'us6000jpuh', '2023-02-18T04:48:21.040Z', 'Andreanof Islands, Aleutian Islands, Alaska', 'earthquake', '11.65', '4.257', '0.097', '30', 'reviewed', 'us', 'us']\n",
      "['2023-02-18T03:21:09.730Z', '18.047', '-66.8768333333333', '16.44', '2.83', 'md', '23', '74', '0.07159', '0.23', 'pr', 'pr71396598', '2023-02-18T03:34:14.500Z', '3 km ENE of Lluveras, Puerto Rico', 'earthquake', '0.34', '0.75', '0.103417929394718', '8', 'reviewed', 'pr', 'pr']\n",
      "['2023-02-18T03:16:38.911Z', '-22.38', '-174.2422', '10', '4.9', 'mb', '20', '117', '1.5', '1.01', 'us', 'us6000jpu5', '2023-02-21T14:34:35.040Z', '137 km SSE of ‘Ohonua, Tonga', 'earthquake', '6.88', '1.935', '0.178', '13', 'reviewed', 'us', 'us']\n",
      "['2023-02-18T02:35:20.340Z', '36.0061667', '-117.364', '0.06', '2.9', 'ml', '30', '75', '0.1323', '0.17', 'ci', 'ci40415808', '2023-02-19T16:51:13.336Z', '27km N of Searles Valley, CA', 'earthquake', '0.24', '0.49', '0.13', '60', 'reviewed', 'ci', 'ci']\n",
      "['2023-02-18T02:26:26.980Z', '19.2533333333333', '-155.397166666667', '31.28', '2.86', 'ml', '45', '100', '', '0.14', 'hv', 'hv73326772', '2023-02-19T02:28:18.447Z', '10 km ENE of P?hala, Hawaii', 'earthquake', '0.42', '0.54', '0.211787304496618', '27', 'reviewed', 'hv', 'hv']\n",
      "['2023-02-18T02:07:19.277Z', '-20.1404', '168.4578', '41.147', '4.9', 'mb', '16', '83', '2.634', '1.1', 'us', 'us6000jptt', '2023-02-18T02:27:15.040Z', '108 km SW of Isangel, Vanuatu', 'earthquake', '6.05', '9.817', '0.14', '16', 'reviewed', 'us', 'us']\n",
      "['2023-02-18T01:57:02.644Z', '-19.7581', '-177.5958', '393.14', '4.2', 'mb', '22', '62', '2.646', '1', 'us', 'us6000jptq', '2023-02-18T02:12:56.040Z', '292 km WNW of Haveluloto, Tonga', 'earthquake', '10.87', '6.131', '0.115', '23', 'reviewed', 'us', 'us']\n",
      "['2023-02-18T00:59:11.757Z', '62.5161', '-150.987', '79', '3.1', 'ml', '', '', '', '0.62', 'ak', 'ak023291ooat', '2023-02-18T01:26:46.040Z', '11 km W of Petersville, Alaska', 'earthquake', '', '0.6', '', '', 'automatic', 'ak', 'ak']\n",
      "['2023-02-18T00:46:48.052Z', '60.2758', '-152.5124', '97.1', '3.7', 'ml', '', '', '', '0.86', 'ak', 'ak023291lyrn', '2023-02-18T07:00:28.303Z', '53 km WNW of Ninilchik, Alaska', 'earthquake', '', '0.2', '', '', 'reviewed', 'ak', 'ak']\n",
      "['2023-02-18T00:42:28.010Z', '34.686', '-80.4591666666667', '3.35', '2.53', 'md', '20', '53', '0.04095', '0.39', 'se', 'se60511381', '2023-02-20T19:35:23.138Z', '7 km WNW of Jefferson, South Carolina', 'earthquake', '0.63', '1.61', '0.134742453350776', '18', 'reviewed', 'se', 'se']\n",
      "['2023-02-18T00:10:17.961Z', '59.5778', '-138.7762', '5.1', '3', 'ml', '', '', '', '1.04', 'ak', 'ak023291e6qs', '2023-02-18T00:35:23.040Z', '53 km E of Yakutat, Alaska', 'earthquake', '', '2.7', '', '', 'automatic', 'ak', 'ak']\n",
      "['2023-02-18T00:03:49.110Z', '-8.1894', '115.9187', '122.241', '4.4', 'mb', '15', '129', '1.77', '1.09', 'us', 'us6000jpt7', '2023-02-18T15:06:11.377Z', '25 km NW of Gili Air, Indonesia', 'earthquake', '8.76', '18.705', '0.31', '3', 'reviewed', 'us', 'us']\n",
      "['2023-02-17T23:41:12.965Z', '56.8999', '-158.2099', '0', '3.1', 'ml', '', '', '', '0.94', 'ak', 'ak02327rqfz4', '2023-02-19T23:17:50.590Z', '25 km E of Port Heiden, Alaska', 'earthquake', '', '0.2', '', '', 'automatic', 'ak', 'ak']\n",
      "['2023-02-17T23:35:08.093Z', '70.1282', '-144.2441', '20.1', '3.5', 'ml', '', '', '', '0.91', 'ak', 'ak02327rp5fx', '2023-02-18T00:33:46.662Z', '23 km W of Kaktovik, Alaska', 'earthquake', '', '0.4', '', '', 'reviewed', 'ak', 'ak']\n",
      "['2023-02-17T22:54:48.407Z', '-11.4697', '118.2409', '10', '4.8', 'mb', '29', '67', '2.665', '0.68', 'us', 'us6000jpsx', '2023-02-18T00:18:01.912Z', '298 km SW of Waingapu, Indonesia', 'earthquake', '4.55', '1.914', '0.149', '14', 'reviewed', 'us', 'us']\n",
      "['2023-02-17T21:54:05.740Z', '38.903', '-82.0403333333333', '0.08', '2.61', 'md', '10', '122', '0.7717', '0.3', 'se', 'se60500438', '2023-02-20T00:33:33.016Z', '7 km SE of Cheshire, Ohio', 'earthquake', '0.72', '3.58', '0.0761926217546476', '7', 'reviewed', 'se', 'se']\n",
      "['2023-02-17T21:19:31.510Z', '19.1603333333333', '-155.485', '34.57', '2.77', 'md', '42', '121', '', '0.12', 'hv', 'hv73326717', '2023-02-17T22:34:33.950Z', 'Island of Hawaii, Hawaii', 'earthquake', '0.48', '0.65', '0.128516619445259', '15', 'reviewed', 'hv', 'hv']\n",
      "['2023-02-17T20:53:05.787Z', '37.9064', '32.5587', '10', '2.6', 'ml', '13', '98', '1.623', '0.63', 'us', 'us6000jput', '2023-02-23T06:05:38.939Z', 'Central Turkey', 'earthquake', '4.37', '1.86', '0.085', '18', 'reviewed', 'us', 'us']\n",
      "['2023-02-17T20:45:57.679Z', '36.38233333', '-97.64483333', '7.74', '3.11', 'ml', '98', '31', '0', '0.19', 'ok', 'ok2023djlr', '2023-02-18T03:48:05.837Z', '6 km ENE of Fairmont, Oklahoma', 'earthquake', '', '0.5', '0.22', '41', 'reviewed', 'ok', 'ok']\n",
      "['2023-02-17T20:23:05.165Z', '56.1128', '-161.4009', '182.34', '3.1', 'ml', '46', '138', '0.76', '0.72', 'us', 'us6000jps0', '2023-02-17T23:23:20.040Z', '17 km NW of Nelson Lagoon, Alaska', 'earthquake', '9.47', '5.987', '0.071', '26', 'reviewed', 'us', 'us']\n",
      "['2023-02-17T20:03:20.140Z', '19.162', '-155.494833333333', '34.8', '2.68', 'ml', '44', '121', '', '0.13', 'hv', 'hv73326712', '2023-02-17T23:14:04.040Z', '4 km SSW of P?hala, Hawaii', 'earthquake', '0.45', '0.59', '0.209936340857761', '17', 'reviewed', 'hv', 'hv']\n",
      "['2023-02-17T19:10:38.646Z', '38.0705', '38.1898', '15.288', '4.2', 'mb', '49', '79', '0.803', '0.94', 'us', 'us6000jpr3', '2023-02-18T21:35:59.040Z', '6 km NW of Çelikhan, Turkey', 'earthquake', '3.19', '4.814', '0.12', '21', 'reviewed', 'us', 'us']\n",
      "['2023-02-17T18:28:25.519Z', '-7.4592', '128.5851', '111.609', '4.7', 'mb', '98', '44', '3.199', '0.58', 'us', 'us6000jpr0', '2023-02-17T22:51:07.040Z', '210 km NE of Lospalos, Timor Leste', 'earthquake', '6.67', '6.424', '0.061', '91', 'reviewed', 'us', 'us']\n",
      "['2023-02-17T17:35:56.822Z', '-4.6924', '155.0502', '500.652', '4.8', 'mb', '132', '47', '2.921', '0.66', 'us', 'us6000jpqs', '2023-02-17T17:55:40.040Z', '179 km NNW of Arawa, Papua New Guinea', 'earthquake', '8.54', '6.988', '0.051', '123', 'reviewed', 'us', 'us']\n",
      "['2023-02-17T17:02:52.689Z', '19.2478', '-155.4141', '36.083', '2.9', 'ml', '27', '142', '0.08', '0.48', 'us', 'us6000jpqi', '2023-02-17T22:32:10.040Z', '8 km NE of P?hala, Hawaii', 'earthquake', '2.9', '2.405', '0.056', '42', 'reviewed', 'us', 'us']\n",
      "['2023-02-17T15:58:55.150Z', '39.7455', '-124.043', '5.64', '2.62', 'md', '33', '186', '0.176', '0.15', 'nc', 'nc73847776', '2023-02-22T19:55:13.832Z', '18km W of Cape Vizcaino, CA', 'earthquake', '0.46', '0.75', '0.168', '26', 'reviewed', 'nc', 'nc']\n",
      "['2023-02-17T15:58:27.550Z', '39.7516667', '-124.0443333', '4.41', '2.52', 'md', '38', '186', '0.1774', '0.2', 'nc', 'nc73847771', '2023-02-22T19:40:16.639Z', '18km W of Cape Vizcaino, CA', 'earthquake', '0.58', '1.07', '0.168', '30', 'reviewed', 'nc', 'nc']\n",
      "['2023-02-17T15:39:52.210Z', '19.2561666666667', '-155.4', '31.05', '2.8', 'ml', '46', '89', '', '0.12', 'hv', 'hv73326542', '2023-02-17T22:01:08.200Z', '10 km NE of P?hala, Hawaii', 'earthquake', '0.44', '0.51', '0.2401560895901', '24', 'reviewed', 'hv', 'hv']\n",
      "['2023-02-17T15:34:38.971Z', '38.5844', '39.6476', '10', '4.5', 'mb', '49', '50', '1.144', '0.94', 'us', 'us6000jppv', '2023-02-20T04:25:31.040Z', '23 km SW of Kovanc?lar, Turkey', 'earthquake', '4.13', '1.245', '0.106', '26', 'reviewed', 'us', 'us']\n",
      "['2023-02-17T14:58:56.320Z', '37.9449', '36.3279', '5.15', '4.4', 'mb', '45', '63', '0.364', '0.54', 'us', 'us6000jpnr', '2023-02-18T21:26:07.040Z', '17 km WSW of Göksun, Turkey', 'earthquake', '2.52', '4.932', '0.123', '19', 'reviewed', 'us', 'us']\n",
      "['2023-02-17T14:55:04.310Z', '56.8515', '-158.0714', '3.3', '2.6', 'ml', '', '', '', '0.5', 'ak', 'ak02327mgivz', '2023-02-19T02:57:30.750Z', '35 km ESE of Port Heiden, Alaska', 'earthquake', '', '0.5', '', '', 'automatic', 'ak', 'ak']\n",
      "['2023-02-17T14:36:10.870Z', '40.2818333', '-124.5003333', '19.77', '2.93', 'md', '32', '247', '0.1208', '0.13', 'nc', 'nc73847741', '2023-02-20T23:08:13.612Z', '19km WSW of Petrolia, CA', 'earthquake', '0.6', '0.26', '0.155', '61', 'reviewed', 'nc', 'nc']\n",
      "['2023-02-17T12:52:06.579Z', '-8.9542', '116.7792', '140.656', '4.1', 'mb', '22', '111', '0.993', '0.48', 'us', 'us6000jpng', '2023-02-18T00:25:50.111Z', '51 km SSE of Labuan Lombok, Indonesia', 'earthquake', '8.15', '7.559', '0.185', '8', 'reviewed', 'us', 'us']\n",
      "['2023-02-17T12:24:31.100Z', '18.0101666666667', '-66.7626666666667', '12.43', '2.53', 'md', '25', '135', '0.02915', '0.21', 'pr', 'pr71396578', '2023-02-17T12:55:25.030Z', '1 km SE of Magas Arriba, Puerto Rico', 'earthquake', '0.34', '0.36', '0.0683419440944539', '14', 'reviewed', 'pr', 'pr']\n",
      "['2023-02-17T11:38:21.710Z', '48.2715', '153.0581', '143.667', '4.8', 'mb', '85', '135', '5.669', '0.66', 'us', 'us6000jpma', '2023-02-17T11:57:01.040Z', 'Kuril Islands', 'earthquake', '8.32', '7.089', '0.027', '412', 'reviewed', 'us', 'us']\n",
      "['2023-02-17T11:29:21.881Z', '27.9503', '139.7835', '448.986', '4.2', 'mb', '47', '155', '6.845', '0.69', 'us', 'us6000jpmb', '2023-02-17T12:12:21.040Z', 'Bonin Islands, Japan region', 'earthquake', '13.42', '9.589', '0.085', '39', 'reviewed', 'us', 'us']\n",
      "['2023-02-17T10:38:45.840Z', '34.0095', '130.3316', '10', '4.4', 'mb', '67', '102', '0.931', '0.61', 'us', 'us6000jpm2', '2023-02-17T22:29:15.582Z', '30 km NNW of Nishifukuma, Japan', 'earthquake', '2.7', '1.858', '0.08', '45', 'reviewed', 'us', 'us']\n",
      "['2023-02-17T09:37:34.868Z', '-6.5986', '132.0763', '38.615', '6.1', 'mww', '119', '51', '2.988', '0.76', 'us', 'us6000jpl7', '2023-02-18T09:51:23.541Z', '130 km SW of Tual, Indonesia', 'earthquake', '6.41', '5.595', '0.065', '23', 'reviewed', 'us', 'us']\n",
      "['2023-02-17T09:26:09.414Z', '-5.619', '35.221', '10', '4.9', 'mb', '79', '61', '4.291', '0.74', 'us', 'us6000jpl6', '2023-02-17T12:47:41.234Z', '', 'earthquake', '6.52', '1.899', '0.07', '64', 'reviewed', 'us', 'us']\n",
      "['2023-02-17T09:17:01.191Z', '19.7544', '-62.3561', '10', '4.5', 'mb', '44', '99', '1.827', '0.8', 'us', 'us6000jpks', '2023-02-20T13:28:09.579Z', 'Leeward Islands', 'earthquake', '6.28', '1.787', '0.131', '17', 'reviewed', 'us', 'us']\n",
      "['2023-02-17T09:11:40.742Z', '45.086', '23.0675', '10', '4.5', 'mb', '25', '129', '1.139', '0.65', 'us', 'us6000jpju', '2023-02-23T00:31:58.763Z', '3 km SSW of Valea Mare, Romania', 'earthquake', '2.53', '1.903', '0.156', '12', 'reviewed', 'us', 'us']\n",
      "['2023-02-17T08:43:54.529Z', '51.8365', '-177.9553', '6.027', '2.8', 'ml', '19', '99', '0.051', '0.53', 'us', 'us6000jpud', '2023-02-18T13:14:51.040Z', 'Andreanof Islands, Aleutian Islands, Alaska', 'earthquake', '1.47', '1.756', '0.105', '12', 'reviewed', 'us', 'us']\n",
      "['2023-02-17T08:35:23.240Z', '18.9906666666667', '-65.8915', '15.38', '3.43', 'md', '35', '232', '0.5552', '0.23', 'pr', 'pr71396548', '2023-02-17T09:10:00.070Z', '61 km N of Loíza, Puerto Rico', 'earthquake', '0.59', '1.37', '0.0669942212061811', '19', 'reviewed', 'pr', 'pr']\n",
      "['2023-02-17T08:34:42.721Z', '-7.5605', '155.8915', '105.366', '4.5', 'mb', '34', '88', '4.425', '0.6', 'us', 'us6000jpjp', '2023-02-17T09:00:29.040Z', '120 km WNW of Gizo, Solomon Islands', 'earthquake', '10.42', '8.953', '0.106', '26', 'reviewed', 'us', 'us']\n",
      "['2023-02-17T08:14:58.552Z', '51.8717', '-177.945', '8.852', '3.5', 'ml', '25', '120', '0.037', '0.69', 'us', 'us6000jpug', '2023-02-18T13:15:57.040Z', 'Andreanof Islands, Aleutian Islands, Alaska', 'earthquake', '1.23', '2.214', '0.097', '14', 'reviewed', 'us', 'us']\n",
      "['2023-02-17T07:58:02.110Z', '17.9346666666667', '-66.8951666666667', '11.4', '2.55', 'md', '7', '219', '0.04293', '0.11', 'pr', 'pr71396543', '2023-02-17T08:17:04.200Z', '4 km SSE of Guánica, Puerto Rico', 'earthquake', '0.76', '0.58', '0.0846826215433902', '4', 'reviewed', 'pr', 'pr']\n",
      "['2023-02-17T07:41:03.403Z', '-29.8404', '-177.1224', '10', '4.5', 'mb', '14', '195', '0.903', '1.09', 'us', 'us6000jpje', '2023-02-17T09:08:47.040Z', 'Kermadec Islands, New Zealand', 'earthquake', '6.66', '1.978', '0.18', '9', 'reviewed', 'us', 'us']\n",
      "['2023-02-17T06:55:48.840Z', '50.4455', '-129.6254', '10', '4.6', 'mb', '65', '159', '1.983', '0.73', 'us', 'us6000jpja', '2023-02-17T09:11:58.811Z', '180 km W of Port McNeill, Canada', 'earthquake', '7.47', '1.804', '0.036', '235', 'reviewed', 'us', 'us']\n",
      "['2023-02-17T05:24:42.983Z', '56.3507', '-156.5554', '11.2', '2.5', 'ml', '', '', '', '0.43', 'ak', 'ak02327gx32w', '2023-02-17T09:14:30.040Z', '114 km E of Chignik, Alaska', 'earthquake', '', '0.3', '', '', 'reviewed', 'ak', 'ak']\n",
      "['2023-02-17T05:15:34.876Z', '-15.5014', '-72.4304', '139.158', '4.5', 'mb', '17', '161', '3.484', '0.73', 'us', 'us6000jpiz', '2023-02-17T06:00:39.040Z', '25 km N of Uñon, Peru', 'earthquake', '12.17', '14.746', '0.242', '5', 'reviewed', 'us', 'us']\n",
      "['2023-02-17T05:08:08.340Z', '17.9476666666667', '-66.9011666666667', '11.53', '2.54', 'md', '7', '213', '0.0343', '0.1', 'pr', 'pr71396528', '2023-02-17T05:28:40.500Z', 'Puerto Rico region', 'earthquake', '0.64', '0.48', '0.109571391972239', '5', 'reviewed', 'pr', 'pr']\n",
      "['2023-02-17T04:45:51.760Z', '-5.4598', '34.9596', '10', '4.3', 'mb', '11', '155', '4.353', '1.06', 'us', 'us6000jpiy', '2023-02-17T05:02:39.040Z', '41 km SSE of Ikungi, Tanzania', 'earthquake', '11.72', '1.962', '0.218', '6', 'reviewed', 'us', 'us']\n",
      "['2023-02-17T02:28:59.550Z', '19.2566666666667', '-155.3945', '31.26', '2.59', 'ml', '40', '106', '', '0.13', 'hv', 'hv73326277', '2023-02-17T05:45:07.065Z', '10 km NE of P?hala, Hawaii', 'earthquake', '0.46', '0.5', '0.229670832201346', '18', 'reviewed', 'hv', 'hv']\n",
      "['2023-02-17T02:26:34.460Z', '18.0993333333333', '-67.035', '21.66', '2.91', 'md', '18', '42', '0.007403', '0.2', 'pr', 'pr71396508', '2023-02-17T02:47:26.960Z', '2 km NNE of San Germán, Puerto Rico', 'earthquake', '0.43', '0.64', '0.117715736976231', '6', 'reviewed', 'pr', 'pr']\n",
      "['2023-02-17T02:11:31.829Z', '1.0793', '-28.0809', '10', '5.3', 'mww', '32', '88', '14.492', '1.02', 'us', 'us6000jpib', '2023-02-18T02:14:07.801Z', 'central Mid-Atlantic Ridge', 'earthquake', '12.42', '1.901', '0.06', '27', 'reviewed', 'us', 'us']\n",
      "['2023-02-17T01:47:27.552Z', '52.2245', '-173.9248', '161.212', '4', 'mb', '16', '172', '0.118', '0.91', 'us', 'us6000jpi6', '2023-02-17T02:52:23.040Z', '19 km E of Atka, Alaska', 'earthquake', '12.92', '6.087', '0.09', '33', 'reviewed', 'us', 'us']\n",
      "['2023-02-17T01:46:31.312Z', '26.4738', '128.7992', '13.336', '5.2', 'mww', '85', '50', '0.594', '0.97', 'us', 'us6000jpi5', '2023-02-17T10:09:56.656Z', '82 km E of Nago, Japan', 'earthquake', '6.69', '3.944', '0.071', '19', 'reviewed', 'us', 'us']\n",
      "['2023-02-17T01:29:24.699Z', '26.0429', '123.5068', '271.161', '4.3', 'mb', '41', '82', '1.632', '0.65', 'us', 'us6000jpi3', '2023-02-17T02:55:04.040Z', 'northeast of Taiwan', 'earthquake', '8.78', '7.666', '0.098', '29', 'reviewed', 'us', 'us']\n",
      "['2023-02-17T01:22:50.098Z', '23.9297', '121.5086', '16.822', '4.7', 'mb', '28', '96', '0.255', '0.66', 'us', 'us6000jpi1', '2023-02-17T08:49:24.344Z', '11 km WSW of Hualien City, Taiwan', 'earthquake', '2.54', '1.251', '0.099', '31', 'reviewed', 'us', 'us']\n",
      "['2023-02-17T00:52:26.851Z', '51.7892', '-177.7355', '89.2', '3', 'ml', '', '', '', '0.7', 'ak', 'ak02327e3wcv', '2023-02-17T03:27:48.189Z', '76 km W of Adak, Alaska', 'earthquake', '', '0.6', '', '', 'reviewed', 'ak', 'ak']\n",
      "['2023-02-17T00:35:57.301Z', '39.1579', '40.1603', '2.075', '4.4', 'mb', '59', '46', '0.898', '1.14', 'us', 'us6000jphu', '2023-02-20T04:29:48.040Z', '10 km SE of Yayladere, Turkey', 'earthquake', '1.99', '5.371', '0.075', '52', 'reviewed', 'us', 'us']\n",
      "['2023-02-16T23:32:34.097Z', '61.5342', '-150.5551', '61.5', '3.9', 'ml', '', '', '', '0.64', 'ak', 'ak02326457m5', '2023-02-19T22:04:44.046Z', '2 km WSW of Susitna, Alaska', 'earthquake', '', '0.3', '', '', 'reviewed', 'ak', 'ak']\n",
      "['2023-02-16T23:16:12.398Z', '-5.6491', '128.6764', '335.02', '4.9', 'mb', '75', '45', '1.658', '0.53', 'us', 'us6000jpgt', '2023-02-16T23:35:11.040Z', 'Banda Sea', 'earthquake', '8.38', '7.31', '0.06', '88', 'reviewed', 'us', 'us']\n",
      "['2023-02-16T22:02:52.310Z', '61.7035', '-150.8105', '3.1', '3', 'ml', '', '', '', '0.91', 'ak', 'ak023263ddv3', '2023-02-17T22:05:57.063Z', '23 km NW of Susitna, Alaska', 'earthquake', '', '0.5', '', '', 'automatic', 'ak', 'ak']\n",
      "['2023-02-16T20:56:35.288Z', '-30.8604', '-177.5043', '10', '4.8', 'mb', '19', '185', '1.633', '0.97', 'us', 'us6000jpfx', '2023-02-17T14:38:49.040Z', 'Kermadec Islands, New Zealand', 'earthquake', '6.08', '1.964', '0.143', '19', 'reviewed', 'us', 'us']\n",
      "['2023-02-16T19:47:49.648Z', '36.1764', '35.7911', '10', '5.2', 'mww', '136', '59', '1.47', '0.93', 'us', 'us6000jpff', '2023-02-20T21:19:01.900Z', '22 km W of Uzunba?, Turkey', 'earthquake', '5.93', '0.861', '0.052', '35', 'reviewed', 'us', 'us']\n",
      "['2023-02-16T19:13:53.450Z', '38.8388329', '-122.8191681', '1.95', '2.62', 'md', '51', '38', '0.01275', '0.06', 'nc', 'nc73847376', '2023-02-22T02:13:20.500Z', '8km WNW of Cobb, CA', 'earthquake', '0.16', '0.24', '0.15', '56', 'automatic', 'nc', 'nc']\n",
      "['2023-02-16T18:17:20.595Z', '37.3127', '70.5308', '56.238', '4.7', 'mb', '120', '28', '1.803', '0.64', 'us', 'us6000jpex', '2023-02-17T14:31:03.856Z', '22 km NNW of Fayzabad, Afghanistan', 'earthquake', '4.92', '6.406', '0.055', '105', 'reviewed', 'us', 'us']\n",
      "['2023-02-16T17:56:13.497Z', '-21.623', '-177.0853', '200.944', '4.8', 'mb', '59', '79', '1.811', '0.96', 'us', 'us6000jper', '2023-02-17T14:31:49.040Z', '200 km WSW of Haveluloto, Tonga', 'earthquake', '12.32', '7.63', '0.067', '73', 'reviewed', 'us', 'us']\n",
      "['2023-02-16T16:40:54.385Z', '57.0823', '-157.3581', '2.3', '2.5', 'ml', '', '', '', '0.52', 'ak', 'ak0232600xq6', '2023-02-16T18:52:46.040Z', '48 km S of Ugashik, Alaska', 'earthquake', '', '0.3', '', '', 'automatic', 'ak', 'ak']\n",
      "['2023-02-16T16:38:32.216Z', '37.9225', '37.5073', '10', '4.1', 'mb', '34', '83', '0.637', '0.48', 'us', 'us6000jpee', '2023-02-16T18:19:48.040Z', '7 km SE of Nurhak, Turkey', 'earthquake', '1.7', '1.928', '0.302', '3', 'reviewed', 'us', 'us']\n",
      "['2023-02-16T15:55:33.940Z', '-21.8635', '-11.6516', '10', '5.4', 'mww', '212', '34', '8.106', '0.48', 'us', 'us6000jpe7', '2023-02-17T15:59:57.769Z', 'southern Mid-Atlantic Ridge', 'earthquake', '9.97', '1.766', '0.083', '14', 'reviewed', 'us', 'us']\n",
      "['2023-02-16T15:13:54.976Z', '-5.427', '34.961', '10', '4.9', 'mb', '85', '39', '4.329', '0.49', 'us', 'us6000jpe3', '2023-02-16T16:06:24.040Z', 'Tanzania', 'earthquake', '9.06', '1.868', '0.067', '74', 'reviewed', 'us', 'us']\n",
      "['2023-02-16T14:45:42.064Z', '38.2035', '37.8096', '10', '4.5', 'mb', '31', '71', '0.979', '1.15', 'us', 'us6000jpdx', '2023-02-20T04:35:31.040Z', '14 km NNW of Do?an?ehir, Turkey', 'earthquake', '2.9', '1.91', '0.108', '25', 'reviewed', 'us', 'us']\n",
      "['2023-02-16T14:44:14.663Z', '62.0682', '-149.7443', '30.3', '2.7', 'ml', '', '', '', '0.52', 'ak', 'ak02325yuub3', '2023-02-16T23:51:37.531Z', '11 km SSE of Susitna North, Alaska', 'earthquake', '', '0.3', '', '', 'automatic', 'ak', 'ak']\n",
      "['2023-02-16T13:28:56.229Z', '62.0369', '-149.8747', '34.9', '2.5', 'ml', '', '', '', '0.65', 'ak', 'ak02325y62gm', '2023-02-16T15:11:08.040Z', '', 'earthquake', '', '0.3', '', '', 'automatic', 'ak', 'ak']\n",
      "['2023-02-16T12:37:25.607Z', '31.3667', '-115.7109', '21.518', '2.8', 'ml', '29', '177', '0.067', '1.56', 'us', 'us6000jpdm', '2023-02-17T06:18:52.040Z', '51 km E of San Vicente, Mexico', 'earthquake', '3.14', '7.023', '0.094', '15', 'reviewed', 'us', 'us']\n",
      "['2023-02-16T12:25:28.086Z', '32.75665283', '-100.6508432', '8.192342122', '2.5', 'ml', '16', '94', '0.07266699627', '0.1', 'tx', 'tx2023dgzt', '2023-02-17T06:16:03.040Z', '16 km NE of Hermleigh, Texas', 'earthquake', '0.7606245569', '1.131137105', '0.1', '13', 'reviewed', 'tx', 'tx']\n",
      "['2023-02-16T12:02:40.103Z', '13.1899', '-91.2837', '10', '5.1', 'mww', '152', '75', '1.537', '0.8', 'us', 'us6000jpdh', '2023-02-21T08:48:28.040Z', '95 km SSW of Puerto San José, Guatemala', 'earthquake', '5.56', '1.524', '0.089', '12', 'reviewed', 'us', 'us']\n",
      "['2023-02-16T11:16:23.422Z', '35.9277', '35.768', '10', '4.8', 'mww', '187', '46', '1.7', '0.79', 'us', 'us6000jpd5', '2023-02-20T04:41:23.040Z', '26 km W of Yaylada??, Turkey', 'earthquake', '3.58', '1.771', '0.098', '10', 'reviewed', 'us', 'us']\n",
      "['2023-02-16T10:42:32.399Z', '32.74932861', '-100.6594179', '9.121622721', '2.6', 'ml', '18', '70', '0.08288434074', '0.1', 'tx', 'tx2023dgwi', '2023-02-17T06:13:57.040Z', '15 km NE of Hermleigh, Texas', 'earthquake', '0.5881133163', '0.737318453', '0.1', '14', 'reviewed', 'tx', 'tx']\n",
      "['2023-02-16T10:33:58.690Z', '14.9791', '119.8273', '50.602', '5.1', 'mww', '137', '92', '7.887', '0.62', 'us', 'us6000jpc7', '2023-02-18T22:53:18.477Z', '27 km W of San Nicolas, Philippines', 'earthquake', '2.03', '6.921', '0.073', '18', 'reviewed', 'us', 'us']\n",
      "['2023-02-16T10:29:04.966Z', '32.7456665', '-100.6594179', '7.849975586', '4.7', 'ml', '33', '48', '0.08525345248', '0.3', 'tx', 'tx2023dgvx', '2023-02-22T17:37:50.630Z', '15 km NE of Hermleigh, Texas', 'earthquake', '1.270893694', '2.612447472', '0.1', '16', 'reviewed', 'tx', 'tx']\n",
      "['2023-02-16T09:47:45.901Z', '44.9868', '14.706', '10', '4.8', 'mb', '109', '14', '0.981', '0.57', 'us', 'us6000jpbt', '2023-02-17T07:16:41.548Z', '4 km WNW of Baška, Croatia', 'earthquake', '2.9', '1.825', '0.047', '139', 'reviewed', 'us', 'us']\n",
      "['2023-02-16T09:07:35.320Z', '41.507', '-112.1761667', '7.26', '3.17', 'ml', '43', '72', '0.1001', '0.21', 'uu', 'uu60531356', '2023-02-22T23:36:31.912Z', '7 km SW of Corinne, Utah', 'earthquake', '0.32', '0.63', '0.104', '24', 'reviewed', 'uu', 'uu']\n",
      "['2023-02-16T06:50:46.602Z', '19.6104', '-73.7376', '14.244', '5.4', 'mww', '93', '33', '0.729', '0.77', 'us', 'us6000jpbd', '2023-02-17T06:54:41.588Z', '42 km WSW of Bombardopolis, Haiti', 'earthquake', '3.64', '3.149', '0.036', '73', 'reviewed', 'us', 'us']\n",
      "['2023-02-16T06:44:49.640Z', '18.5573', '-68.8106', '115', '3.87', 'md', '13', '158', '0.4314', '0.41', 'pr', 'pr2023047000', '2023-02-16T07:57:36.618Z', '12 km WSW of Salvaleón de Higüey, Dominican Republic', 'earthquake', '1.77', '1.51', '0.08', '6', 'reviewed', 'pr', 'pr']\n",
      "['2023-02-16T06:32:44.139Z', '54.9047', '-157.0819', '77.8', '3', 'ml', '', '', '', '0.78', 'ak', 'ak02325u0vbo', '2023-02-23T07:57:08.391Z', '172 km SE of Perryville, Alaska', 'earthquake', '', '6', '', '', 'reviewed', 'ak', 'ak']\n",
      "['2023-02-16T05:38:02.274Z', '22.0668', '-106.3329', '14.96', '4.1', 'mb', '48', '176', '3.553', '0.73', 'us', 'us6000jpb0', '2023-02-16T21:57:42.061Z', 'Near the coast of Sinaloa, Mexico', 'earthquake', '9', '7.2', '0.083', '40', 'reviewed', 'us', 'us']\n",
      "['2023-02-16T05:37:05.138Z', '-15.0912', '167.0294', '36.029', '5.6', 'mww', '81', '26', '0.392', '0.94', 'us', 'us6000jpb1', '2023-02-17T05:41:32.448Z', '7 km SW of Port-Olry, Vanuatu', 'earthquake', '5.99', '6.08', '0.073', '18', 'reviewed', 'us', 'us']\n",
      "['2023-02-16T05:18:57.585Z', '38.0947', '38.5702', '16.14', '4.3', 'mb', '53', '66', '0.682', '0.99', 'us', 'us6000jpaw', '2023-02-16T06:07:15.040Z', '7 km NNW of Sincik, Turkey', 'earthquake', '3.69', '5.566', '0.101', '28', 'reviewed', 'us', 'us']\n",
      "['2023-02-16T05:03:36.271Z', '31.63543031', '-104.4026236', '6.671435547', '3', 'ml', '16', '81', '0.03258274775', '0.3', 'tx', 'tx2023dgle', '2023-02-16T05:20:43.144Z', '59 km S of Whites City, New Mexico', 'earthquake', '1.551879285', '1.369219398', '0.1', '13', 'reviewed', 'tx', 'tx']\n",
      "['2023-02-16T04:51:10.445Z', '-30.1842', '-177.5829', '35', '4.6', 'mb', '23', '197', '0.965', '0.88', 'us', 'us6000jpax', '2023-02-16T20:25:09.040Z', 'Kermadec Islands, New Zealand', 'earthquake', '10.12', '1.993', '0.119', '21', 'reviewed', 'us', 'us']\n",
      "['2023-02-16T03:56:28.849Z', '25.0868', '91.743', '61.857', '4.3', 'mb', '25', '166', '5.262', '0.63', 'us', 'us6000jpaj', '2023-02-17T05:48:45.091Z', '9 km NE of Chh?tak, Bangladesh', 'earthquake', '10.49', '10.546', '0.142', '15', 'reviewed', 'us', 'us']\n",
      "['2023-02-16T03:41:59.942Z', '-24.1796', '-176.5866', '83.062', '4.9', 'mb', '22', '89', '3.257', '0.68', 'us', 'us6000jpag', '2023-02-16T18:56:44.040Z', '', 'earthquake', '11.09', '4.421', '0.177', '10', 'reviewed', 'us', 'us']\n",
      "['2023-02-16T03:30:14.353Z', '-24.7798', '179.4605', '530.252', '4.5', 'mb', '32', '90', '5.02', '0.47', 'us', 'us6000jpaf', '2023-02-16T19:29:25.040Z', 'south of the Fiji Islands', 'earthquake', '14.1', '4.127', '0.135', '17', 'reviewed', 'us', 'us']\n",
      "['2023-02-16T03:05:49.850Z', '-22.9414', '-66.2611', '256.097', '4.5', 'mwr', '31', '65', '1.768', '0.5', 'us', 'us6000jpab', '2023-02-16T18:17:06.689Z', '62 km WSW of Abra Pampa, Argentina', 'earthquake', '9.78', '7.935', '', '', 'reviewed', 'us', 'guc']\n",
      "['2023-02-16T02:46:47.340Z', '38.8303337', '-122.8181686', '1.86', '2.55', 'md', '55', '36', '0.00938', '0.06', 'nc', 'nc73847056', '2023-02-16T18:10:19.040Z', '8km NW of The Geysers, CA', 'earthquake', '0.13', '0.2', '0.16', '66', 'automatic', 'nc', 'nc']\n",
      "['2023-02-16T02:35:55.680Z', '62.7393', '-150.5538', '87.8', '3.5', 'ml', '', '', '', '0.82', 'ak', 'ak02325rnssk', '2023-02-23T07:57:05.437Z', '29 km NNE of Petersville, Alaska', 'earthquake', '', '0.2', '', '', 'reviewed', 'ak', 'ak']\n",
      "['2023-02-16T02:35:41.476Z', '51.8265', '105.3127', '10', '4.6', 'mb', '21', '90', '1.048', '0.55', 'us', 'us6000jpa8', '2023-02-16T17:37:56.032Z', '30 km E of Listvyanka, Russia', 'earthquake', '6.29', '1.921', '0.172', '10', 'reviewed', 'us', 'us']\n",
      "['2023-02-16T02:26:33.890Z', '31.5968333', '-116.0198333', '9', '2.8', 'ml', '13', '188', '0.2873', '0.12', 'ci', 'ci40415072', '2023-02-16T17:08:49.040Z', '53km ESE of Maneadero, B.C., MX', 'earthquake', '0.42', '1.16', '0.163', '44', 'reviewed', 'ci', 'ci']\n",
      "['2023-02-16T01:07:04.795Z', '45.0736', '23.0978', '10', '4.4', 'mb', '30', '84', '1.164', '1.03', 'us', 'us6000jp9t', '2023-02-17T09:11:38.793Z', '2 km WSW of Arcani, Romania', 'earthquake', '4.62', '1.938', '0.203', '7', 'reviewed', 'us', 'us']\n",
      "['2023-02-16T00:43:22.236Z', '13.7229', '144.9041', '128.277', '4.6', 'mb', '31', '93', '0.137', '0.51', 'us', 'us6000jp9n', '2023-02-16T01:01:27.040Z', '20 km N of Yigo Village, Guam', 'earthquake', '13.54', '4.803', '0.111', '24', 'reviewed', 'us', 'us']\n"
     ]
    }
   ],
   "source": [
    "# Code comes in this cell\n",
    "    \n",
    "import csv\n",
    "with open(\"data/latest_earthquake_world.csv\", \"r\") as csvfile:\n",
    "    reader = csv.reader(csvfile)\n",
    "    for row in reader:\n",
    "        print(row)"
   ]
  },
  {
   "cell_type": "markdown",
   "id": "18dc76aa",
   "metadata": {},
   "source": [
    "## Well done!\n",
    "\n",
    "If you have finished **Python_Basics_Part 1, 2 and the Exercises**, make sure you commit and push all changes to your cloned repository in GutHub. That will ensure all your practice is secure in the cloud. Now you are ready to work with Tabular Data in Python during week 6."
   ]
  },
  {
   "cell_type": "markdown",
   "id": "cf5d461b",
   "metadata": {},
   "source": [
    "## Having some trouble?\n",
    "\n",
    "Check the solutions of these exercises in the **Solutions_PythonBasics.ipynb**"
   ]
  }
 ],
 "metadata": {
  "kernelspec": {
   "display_name": "Python 3 (ipykernel)",
   "language": "python",
   "name": "python3"
  },
  "language_info": {
   "codemirror_mode": {
    "name": "ipython",
    "version": 3
   },
   "file_extension": ".py",
   "mimetype": "text/x-python",
   "name": "python",
   "nbconvert_exporter": "python",
   "pygments_lexer": "ipython3",
   "version": "3.10.9"
  },
  "vscode": {
   "interpreter": {
    "hash": "cb790d26adefd25b1df2c204a2fba72095097c2a9b0d8e87b4649a8ce32b8fe4"
   }
  }
 },
 "nbformat": 4,
 "nbformat_minor": 5
}
