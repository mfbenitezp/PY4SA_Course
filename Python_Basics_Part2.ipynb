{
 "cells": [
  {
   "cell_type": "markdown",
   "metadata": {},
   "source": [
    "# Python for Spatial Analysis\n",
    "## Second part of the module of GG3209 Spatial Analysis with GIS.\n",
    "### Notebook to learn and practice the python Basics - Part 2\n",
    "\n",
    "---\n",
    "Dr Fernando Benitez -  University of St Andrews - School of Geography and Sustainable Development - First Iteration 2023 v.1.0 "
   ]
  },
  {
   "attachments": {},
   "cell_type": "markdown",
   "metadata": {},
   "source": [
    "### Introduction \n",
    "\n",
    "We will now discuss additional components of the Python language including **functions**, **flow control**, **loops**, **modules**, and **reading/writing** data from disk. It is important you learn effective ways to make your code efficient, as python can be memory-consuming, but at the same time learn how to create Loops, and flow control will help to run tasks in an automatic ways making your scripts a powerful tool. \n",
    "\n",
    "If you have some experience with this type of conditions or components from your previous courses with R, you will see that the logic is the same. Reading and writing files using python is also a key skill to learn, as in most of the cases you will need to access files, or folders where your spatial data is located. \n",
    "\n",
    "Please go through every cell, reading carefully all descriptions and run the code cell to see the examples, you later might want to use this notebook to recall how to create the following components:\n",
    "\n",
    "### Content\n",
    "\n",
    "1. Define and use **functions**.\n",
    "2. Use **If...Else** statements, **While Loops**, and **For Loops**.\n",
    "3. Describe and interpret **classes** and **methods**.\n",
    "4. Access and use **modules** and **libraries**.\n",
    "5. Work with local files and directories.\n",
    "6. Use **f-strings** and **list comprehension**. \n",
    "\n",
    "If you need more information, examples there is a great resource in [w3school.com](https://www.w3schools.com/python/)."
   ]
  },
  {
   "attachments": {},
   "cell_type": "markdown",
   "metadata": {},
   "source": [
    "## 2. Functions"
   ]
  },
  {
   "attachments": {},
   "cell_type": "markdown",
   "metadata": {},
   "source": [
    "Functions are probably one of the key components in any programming language, **Functions** do something when called. You can think of those as tools. **Methods**, which we will discuss in more detail later in this notebook, are like functions except that they are tied to a specific **object**. \n",
    "\n",
    "When creating a new **class**, you can define methods specific to the new class. Functions generally have the following generic syntax:\n",
    "\n",
    "```\n",
    "output = function(Parameter1, Parameter2). #Think of parameters as Inputs., so you have output = function(Input1, Input2)\n",
    "```\n",
    "\n",
    "In contrast, methods will have the following generic syntax:\n",
    "\n",
    "```\n",
    "output = object.method(Parameter1, Parameter2).  \n",
    "```\n",
    "\n",
    "Below, You are generating a simple function that multiplies two numbers together.\n",
    "\n",
    "The *def* keyword is used when defining a function. Within the parenthesis, a list of **parameters**, which are often specific inputs or required settings, can be provided.\n",
    "\n",
    "    In the below example, the function accepts two parameters: *a* and *b*. On the next line, indented, and after the colon, what the function does is defined. In this case, the function simply returns the product of the two values. The **return** keyword is used to define the output of the function (or what is returned), in this case the product of the two provided values.\n",
    "\n",
    "Once a function is created, it can be used. In **Example 1**, You will see two **arguments**, or values assigned to the parameters, and save the result to a variable *x*.\n",
    "\n",
    "Then when using a function, it is also possible to provide the arguments as *key* and *value* pairs, as in **Example 2**. \n",
    "\n",
    "When creating a function, default arguments can be provided for parameters when the function is defined. If arguments are not provided when the function is used, then the default values will be used, as demonstrated in **Example 3**."
   ]
  },
  {
   "attachments": {},
   "cell_type": "markdown",
   "metadata": {},
   "source": [
    "### 2.1 Indentation\n",
    "\n",
    "**This is a good time to stop and describe indentation.** \n",
    "\n",
    "Python makes use of **whitespace**, indentations, or tabs to denote or interpret units of code. This is uncommon, as most other languages use brackets or punctuation of some kind. So, it is important to properly use indentations or your code will fail to execute correctly or at all."
   ]
  },
  {
   "cell_type": "code",
   "execution_count": null,
   "metadata": {},
   "outputs": [],
   "source": [
    "#Example 1\n",
    "def multab(a,b):\n",
    "    return a*b\n",
    "\n",
    "x = multab(3,6)\n",
    "print(x)\n",
    "\n",
    "#Example 2\n",
    "x = multab(a=5, b=3)\n",
    "print(x)\n",
    "\n",
    "#Example 3\n",
    "def multab(a=1,b=1):\n",
    "    return a*b\n",
    "x = multab()\n",
    "print(x)"
   ]
  },
  {
   "attachments": {},
   "cell_type": "markdown",
   "metadata": {},
   "source": [
    "### Challenge 2.1 \n",
    "___________\n",
    "\n",
    "In the next code cell, create a function that computes the distance between London and Edinburgh\n"
   ]
  },
  {
   "cell_type": "code",
   "execution_count": null,
   "metadata": {},
   "outputs": [],
   "source": []
  },
  {
   "attachments": {},
   "cell_type": "markdown",
   "metadata": {},
   "source": [
    "### 2.2 Options \\*args and \\*\\*kwargs for functions"
   ]
  },
  {
   "attachments": {},
   "cell_type": "markdown",
   "metadata": {},
   "source": [
    "There are a few other options when defining functions that increase flexibility. For example, what if you wanted to edit the function created above so that it can accept more than two arguments and so that the number of arguments can vary? This can be accomplished using either **\\*args** or **\\*\\*kwargs**.  \n",
    "\n",
    "**\\*args**:\n",
    "\n",
    "A single asterisk (\\*) is used to unpack an iterable, such as a list, whereas two asterisks (\\*\\*) are used to unpack a dictionary. Using \\*args allows you to to provide a variable number of non-keyword arguments (or, each argument does not need to be assigned a key). In contrast, \\*\\*kwargs is used to provide a variable number of keyword arguments (or, each argument must have a key).\n",
    "\n",
    "In the **first example** below, You altered the function from above to accept two or more arguments. \n",
    "\n",
    "Within the function, later you define a variable *x1* that initially assigned a value of 1. Then, inside of a **for loop**, which will be discussed later, you iteratively multiply *x1* by the next provided value. To test the function, a feed it the values 1 through 5 as non-keyword arguments. \n",
    "\n",
    "**The result is calculated as 1x1 --> 1x2 --> 2x3 --> 6x4 --> 24x5 --> 120.** \n",
    "\n",
    "Note that the single asterisk is key here. The work \"args\" could be replaced with another term, as the second part of the example demonstrates. What is important is that \\* is used to unpack an iterable. "
   ]
  },
  {
   "cell_type": "code",
   "execution_count": null,
   "metadata": {},
   "outputs": [],
   "source": [
    "# Example 1\n",
    "\n",
    "def multab(*args):\n",
    "    x1 = 1\n",
    "    for a in args:\n",
    "        x1 *= a\n",
    "    return x1\n",
    "\n",
    "x = multab(1, 2, 3, 4, 5)\n",
    "print(x) \n",
    "\n",
    "#Example 2\n",
    "\n",
    "def multab(*nums):\n",
    "    x1 = 1\n",
    "    for a in nums:\n",
    "        x1 *= a\n",
    "    return x1\n",
    "\n",
    "x = multab(1, 2, 3, 4, 5)\n",
    "print(x) "
   ]
  },
  {
   "attachments": {},
   "cell_type": "markdown",
   "metadata": {},
   "source": [
    "**\\*\\*kwargs**:\n",
    "\n",
    "The next example demonstrates the use of \\*\\*kwargs. Here, the arguments must have keys. Again, what is important here is the use of \\*\\* to unpack a dictionary: \"kwargs\" can be replaced with another term. Note the use of the *.values()* method for a dictionary. This allows access to the values as opposed to the associated keys."
   ]
  },
  {
   "cell_type": "code",
   "execution_count": null,
   "metadata": {},
   "outputs": [],
   "source": [
    "def multab(**kwargs):\n",
    "    x1 = 1\n",
    "    for a in kwargs.values():\n",
    "        x1 *= a\n",
    "    return x1\n",
    "\n",
    "x = multab(a=1, b=2, c=3, d=4, e=5)\n",
    "print(x)\n",
    "\n",
    "def multab(**nums):\n",
    "    x1 = 1\n",
    "    for a in nums.values():\n",
    "        x1 *= a\n",
    "    return x1\n",
    "\n",
    "x = multab(a=1, b=2, c=3, d=4, e=5)\n",
    "print(x)\n"
   ]
  },
  {
   "attachments": {},
   "cell_type": "markdown",
   "metadata": {},
   "source": [
    "#### Stop for a moment\n",
    "\n",
    "I reckon this part is giving you trouble. Is Ok, Let's try the following challenge to practice, and if you need further assistance, please ask the TA."
   ]
  },
  {
   "attachments": {},
   "cell_type": "markdown",
   "metadata": {},
   "source": [
    "### Challenge 2.2 \n",
    "___________\n",
    "\n",
    "In the next code cell, create a function that computes the distance between London and Edinburgh\n"
   ]
  },
  {
   "cell_type": "code",
   "execution_count": null,
   "metadata": {},
   "outputs": [],
   "source": []
  },
  {
   "cell_type": "code",
   "execution_count": null,
   "metadata": {},
   "outputs": [
    {
     "data": {
      "text/html": [
       "<div>\n",
       "<style scoped>\n",
       "    .dataframe tbody tr th:only-of-type {\n",
       "        vertical-align: middle;\n",
       "    }\n",
       "\n",
       "    .dataframe tbody tr th {\n",
       "        vertical-align: top;\n",
       "    }\n",
       "\n",
       "    .dataframe thead th {\n",
       "        text-align: right;\n",
       "    }\n",
       "</style>\n",
       "<table border=\"1\" class=\"dataframe\">\n",
       "  <thead>\n",
       "    <tr style=\"text-align: right;\">\n",
       "      <th></th>\n",
       "      <th>apples</th>\n",
       "      <th>oranges</th>\n",
       "    </tr>\n",
       "  </thead>\n",
       "  <tbody>\n",
       "    <tr>\n",
       "      <th>Dundee</th>\n",
       "      <td>3</td>\n",
       "      <td>0</td>\n",
       "    </tr>\n",
       "    <tr>\n",
       "      <th>St Andrews</th>\n",
       "      <td>2</td>\n",
       "      <td>3</td>\n",
       "    </tr>\n",
       "    <tr>\n",
       "      <th>Cupar</th>\n",
       "      <td>0</td>\n",
       "      <td>7</td>\n",
       "    </tr>\n",
       "    <tr>\n",
       "      <th>Leven</th>\n",
       "      <td>1</td>\n",
       "      <td>3</td>\n",
       "    </tr>\n",
       "  </tbody>\n",
       "</table>\n",
       "</div>"
      ],
      "text/plain": [
       "            apples  oranges\n",
       "Dundee           3        0\n",
       "St Andrews       2        3\n",
       "Cupar            0        7\n",
       "Leven            1        3"
      ]
     },
     "metadata": {},
     "output_type": "display_data"
    }
   ],
   "source": [
    "data={'apples':[3,2,0,1],'oranges':[0,3,7,3]}\n",
    "df = pd.DataFrame(data, index=['Dundee','St Andrews','Cupar', 'Leven'])\n",
    "df"
   ]
  },
  {
   "cell_type": "markdown",
   "metadata": {},
   "source": [
    "The next cell demonstrates the use of the single asterisk to unpack an iterable, in this case a list. Each element in the list is returned separately as opposed to as a single list object. This is the same functionality implemented by \\*args."
   ]
  },
  {
   "cell_type": "code",
   "execution_count": null,
   "metadata": {},
   "outputs": [],
   "source": [
    "x = [2,3,4,5]\n",
    "print(*x)"
   ]
  },
  {
   "attachments": {},
   "cell_type": "markdown",
   "metadata": {},
   "source": [
    "Lastly, it is possible to use both **\\*args** and **\\*\\*kwargs** in the same function.#\n",
    "\n",
    "However, **\\*args** must be provided before **\\*\\*kwargs**. In the example below, the parameter *a* is provided an argument of 1 while the parameter *b* is provided an argument of 2. 3 would be associated with \\*args, since it is not assigned a key, while 4 and 5 would be associated with \\*\\*kwargs since they are assigned a key. "
   ]
  },
  {
   "cell_type": "code",
   "execution_count": null,
   "metadata": {},
   "outputs": [],
   "source": [
    "\n",
    "# Create a function\n",
    "def multab(a=2, b=2, *args, **kwargs):\n",
    "    x1 = 1 #Define variables\n",
    "    x1 *= a\n",
    "    x1 *= b\n",
    "    if args: # Conditional\n",
    "        for arg in args: #Loop\n",
    "            x1 *= arg\n",
    "    if kwargs:\n",
    "        for kwarg in kwargs.values():\n",
    "            x1 *= kwarg\n",
    "    return x1\n",
    "\n",
    "x = multab(1, 2, 3, c=3, d=4)\n",
    "print(x)\n",
    "# Read description below to understand how this function works, looks more complicated than actually it is."
   ]
  },
  {
   "cell_type": "markdown",
   "metadata": {},
   "source": [
    "As the examples above demonstrate, \\*args and \\*\\*kwargs increase the flexibility of functions in Python by allowing for variable numbers of arguments. Even if you do not make use of these options, they are important to understand, as many functions that you encounter will make use of them. So, knowledge of this functionality will aid you in understanding how to implement specific functions and interpret the associated documentation. "
   ]
  },
  {
   "attachments": {},
   "cell_type": "markdown",
   "metadata": {},
   "source": [
    "#### NOTE:\n",
    "\n",
    "The following options will you give an additional level of skill in Python. Although they are rarely included in python basics, we consider that if you can master those, you will have an extra level of expertise and will definitely help you to make more efficient programs using python. "
   ]
  },
  {
   "attachments": {},
   "cell_type": "markdown",
   "metadata": {},
   "source": [
    "### 2.3 Lambda"
   ]
  },
  {
   "cell_type": "markdown",
   "metadata": {},
   "source": [
    "A **lambda function** is a special function case that is generally used for simple functions that can be anonymous or not named. They can accepted multiple arguments but can only include one expression. Lambda functions are commonly used inside of other functions. "
   ]
  },
  {
   "cell_type": "code",
   "execution_count": null,
   "metadata": {},
   "outputs": [],
   "source": [
    "lam1 = lambda a, b, c: str(a) + \" \" + str(b) + \" \" + str(c)\n",
    "print(lam1(\"Geospatial\", \"Data\", \"Science\"))\n",
    "\n",
    "a = \"Geospatial\"\n",
    "b = \"Dasta\"\n",
    "c = \"Science\""
   ]
  },
  {
   "attachments": {},
   "cell_type": "markdown",
   "metadata": {},
   "source": [
    "### 2. Scope"
   ]
  },
  {
   "attachments": {},
   "cell_type": "markdown",
   "metadata": {},
   "source": [
    "Variables are said to have **global scope** if they can be accessed anywhere in the code. \n",
    "\n",
    "In contrast, **local scope** implies that variables are only accessible in portions of the code. \n",
    "\n",
    "For example, by default new variables defined within a function cannot be called or used outside of the function. If you need to specify a variable within a function as having global scope, the *global* keyword can be used. \n",
    "\n",
    "In the first example below, the variables *xG*, *yG*, and *z* have global scope, so can be called and used outside of the function. In contrast, variables *xL* and *yL* have local scope and are not available outside of the function. If you attempt to run the last line of code, which is commented out, you will get an error. "
   ]
  },
  {
   "cell_type": "code",
   "execution_count": null,
   "metadata": {},
   "outputs": [],
   "source": [
    "xG = 2\n",
    "yG = 3\n",
    "def Func1(a, b):\n",
    "    xL = a*a\n",
    "    yL = b*b\n",
    "    return xL + yL\n",
    "\n",
    "z = Func1(xG, yG)\n",
    "print(xG)\n",
    "print(z)\n",
    "#print(xL+3) will not work due to local scope"
   ]
  },
  {
   "cell_type": "markdown",
   "metadata": {},
   "source": [
    "If you need a variable declared inside of a function to have global scope, you can use the *global* keyword as demonstrated below. "
   ]
  },
  {
   "cell_type": "code",
   "execution_count": null,
   "metadata": {},
   "outputs": [],
   "source": [
    "xG = 2\n",
    "yG = 3\n",
    "def Func1(a, b):\n",
    "    global xL \n",
    "    xL = a*a\n",
    "    global yL \n",
    "    yL = b*b\n",
    "    return xL + yL\n",
    "\n",
    "z = Func1(xG, yG)\n",
    "print(xG)\n",
    "print(z)\n",
    "print(xL+3)"
   ]
  },
  {
   "attachments": {},
   "cell_type": "markdown",
   "metadata": {},
   "source": [
    "### 3. Pass"
   ]
  },
  {
   "cell_type": "markdown",
   "metadata": {},
   "source": [
    "It is not possible to leave a function empty when it is defined. As you develop code, you can make use of the *pass* keyword as a placeholder before adding content to a function. This will allow you to work with your code without errors until you complete the content within the function. *pass* can also be used within incomplete class definitions and loops. "
   ]
  },
  {
   "cell_type": "code",
   "execution_count": null,
   "metadata": {},
   "outputs": [],
   "source": [
    "def multab(x, y):\n",
    "    pass"
   ]
  },
  {
   "attachments": {},
   "cell_type": "markdown",
   "metadata": {},
   "source": [
    "## Conditionals - Control Flow"
   ]
  },
  {
   "attachments": {},
   "cell_type": "markdown",
   "metadata": {},
   "source": [
    "### 1. If...Else"
   ]
  },
  {
   "attachments": {},
   "cell_type": "markdown",
   "metadata": {},
   "source": [
    "All coding languages allow for **control flow** in which different code is executed depending on a condition. \n",
    "\n",
    "**If...Else** statements are a key component of how this is implemented. Using logical conditions that evaluate to **True** or *False*, it is possible to program different outcomes. Think about this as the rules, if something is **True**, then **do this**, but if something is **False**, then **do that**.\n",
    "\n",
    "The first example uses only **if**. So, if the condition evaluates to **True**, the remaining code will be executed. If it evaluates to **False** then nothing is executed or returned. In this case, the condition evaluates to **True**, so the text is printed.\n",
    "\n",
    "Again, remember that indentation is very important in Python. The content of the *if* statement must be indented or the code will fail. "
   ]
  },
  {
   "cell_type": "code",
   "execution_count": null,
   "metadata": {},
   "outputs": [],
   "source": [
    "x = 7\n",
    "if x > 6:\n",
    "    print(str(x) + \" is greater than 6.\")"
   ]
  },
  {
   "cell_type": "markdown",
   "metadata": {},
   "source": [
    "It is common to have a default statement that is executed if the condition evaluates to *False* as opposed to simply doing nothing. This is the use of an *else* statement. No condition is required for the *else* statement since it will be executed for any case where the *if* condition evaluates to *False*. Again, note the required indentation. "
   ]
  },
  {
   "cell_type": "code",
   "execution_count": null,
   "metadata": {},
   "outputs": [],
   "source": [
    "x = 3\n",
    "if x > 6:\n",
    "    print(str(x) + \" is greater than 6.\")\n",
    "else:\n",
    "    print(str(x) + \" is less than or equal to 6.\")"
   ]
  },
  {
   "cell_type": "markdown",
   "metadata": {},
   "source": [
    "What if you want to evaluate against more than one condition? This can be accomplished by incorporating one or multiple *elif* statements. The code associated with the *else* statement will only be executed if the *if* and all *elif* statements evaluate to *False*. \n",
    "\n",
    "All statements should be mutually exclusive or non-overlapping so that the logic is clear. In the second example, I have changed the first condition to *x >= 6*, so now the condition in the *if* and *elif* statements overlap. When the code is executed, the result from the *if* statement is returned. Since the first condition evaluated to *True*, the associated code was executed and the *elif* and *else* statements were ignored. If I swap the *if* and *elif* conditions, a different result is obtained. So, the order matters. In short, this ambiguity can be avoided by using conditions that are mutually exclusive and non-overlapping. "
   ]
  },
  {
   "cell_type": "code",
   "execution_count": null,
   "metadata": {},
   "outputs": [],
   "source": [
    "x = 6\n",
    "if x > 6:\n",
    "    print(str(x) + \" is greater than 6.\")\n",
    "elif x == 6:\n",
    "     print(str(x) + \" is equal to 6.\")\n",
    "else:\n",
    "    print(str(x) + \" is less than 6.\")"
   ]
  },
  {
   "cell_type": "code",
   "execution_count": null,
   "metadata": {},
   "outputs": [],
   "source": [
    "x = 6\n",
    "if x >= 6:\n",
    "    print(str(x) + \" is greater than 6.\")\n",
    "elif x == 6:\n",
    "     print(str(x) + \" is equal to 6.\")\n",
    "else:\n",
    "    print(str(x) + \" is less than 6.\")\n",
    "\n",
    "\n",
    "x = 6\n",
    "if x == 6:\n",
    "     print(str(x) + \" is equal to 6.\")\n",
    "elif x >= 6:\n",
    "     print(str(x) + \" is greater than 6.\")\n",
    "else:\n",
    "    print(str(x) + \" is less than 6.\")"
   ]
  },
  {
   "attachments": {},
   "cell_type": "markdown",
   "metadata": {},
   "source": [
    "### 2. While Loop"
   ]
  },
  {
   "attachments": {},
   "cell_type": "markdown",
   "metadata": {},
   "source": [
    "**While loops** are used to loop code as long as a condition evaluates to *True*. In the example below, a variable *i* is initially set to 14.\n",
    "\n",
    "The loop executes as long as *i* remains larger than 7. At the end of each loop the *-=* **assignment operator** is used to subtract 1 from *i*. Also, *i* is simply a variable, so you do not need to use *i* specifically. For example, *i* could be replaced with *x*.\n",
    "\n",
    "Please consider the following, **One potential issue with a while loop** is the possibility of an **infinite loop** in which the loop never stops because the condition never evaluates to *False*. For example, if I change the assignment operator to *+=*, the condition will continue to evaluate to *True* indefinitely."
   ]
  },
  {
   "cell_type": "code",
   "execution_count": null,
   "metadata": {},
   "outputs": [],
   "source": [
    "i = 14\n",
    "while i > 7:\n",
    "    print(i)\n",
    "    i -= 1"
   ]
  },
  {
   "attachments": {},
   "cell_type": "markdown",
   "metadata": {},
   "source": [
    "###  3. For Loop"
   ]
  },
  {
   "cell_type": "markdown",
   "metadata": {},
   "source": [
    "**For Loops** will execute code for all items in a sequence. For loops make use of data types that are **iterable**, or that can return each individual element in the data object sequentially (for example, each string element in a list). Data types that are iterable include **lists**, **tuples**, **strings**, **dictionaries**, and **sets**. \n",
    " \n",
    "In the first example below, a for loop is being used to print every value in a list. In the next example, each character in a string is printed sequentially. Both lists and strings are iterable, so can be looped over.  "
   ]
  },
  {
   "cell_type": "code",
   "execution_count": null,
   "metadata": {},
   "outputs": [],
   "source": [
    "lst1 = [3, 6, 8, 9, 11, 13]\n",
    "for i in lst1:\n",
    "    print(\"Value is: \" + str(i))"
   ]
  },
  {
   "cell_type": "code",
   "execution_count": null,
   "metadata": {},
   "outputs": [],
   "source": [
    "str1 = \"Remote Sensing\"\n",
    "for c in str1:\n",
    "    print(c)"
   ]
  },
  {
   "cell_type": "markdown",
   "metadata": {},
   "source": [
    "Combining a for loop and If...Else statements allows for different code to be executed for each element in a sequence or iterable, such as a list, based on conditions, as demonstrated in the code below. In later modules, you will see example use cases for working with and analyzing spatial data. Note the levels of indentation used, which, again, are very important and required when coding in Python. The content in the for loop is indented with one tab while the content within the *if*, *elif*, and *else* statements, which are include in the for loop, are indented with two tabs. "
   ]
  },
  {
   "cell_type": "code",
   "execution_count": null,
   "metadata": {},
   "outputs": [],
   "source": [
    "lst1 = [3, 6, 8, 9, 11, 13]\n",
    "for i in lst1:\n",
    "    if i < 8:\n",
    "        print(str(i) + \" is less than 8.\")\n",
    "    elif i == 8:\n",
    "        print(str(i) + \" is equal to 8.\")\n",
    "    else:\n",
    "        print(str(i) + \" is greater than 8.\")"
   ]
  },
  {
   "cell_type": "markdown",
   "metadata": {},
   "source": [
    "The *range()* function is commonly used in combination with for loops. Specifically, it is used to define an index for each element in an iterable that can then be used within the loop. \n",
    "\n",
    "In the example below, *range()* is used to define indices for all elements in a list. The *len()* function returns the length, so the returned indices will be 0 through the length of the list, in this case 4. The for loop will iterate over indices 0 through 3 (the last index is not included). This allows for the index to be used within the loop. In the example, the index is used to extract each element from the list and save it to a new local variable (*country*), which is then provided to a print statement. "
   ]
  },
  {
   "cell_type": "code",
   "execution_count": null,
   "metadata": {},
   "outputs": [],
   "source": [
    "countries = [\"Belgium\", \"Mexico\", \"Italy\", \"India\"]\n",
    "for i in range(len(countries)):\n",
    "    country = countries[i]\n",
    "    print(\"I would like to visit \" + country + \".\")"
   ]
  },
  {
   "cell_type": "markdown",
   "metadata": {},
   "source": [
    "Another function that is commonly used in combination with for loops is *enumerate()*. For each element in the iterable, *enumerate()* will return an index and the element. Both can then be used within the loop. \n",
    "\n",
    "In the first example below, *enumerate()* is used to create an index and extract each element in the list sequentially. In this case, the enumeration is not necessary, since the index is not needed. However, in the next example, the index is used to print different results depending on whether the index is even or odd. So, *enumerate()* is needed because I need access to both the index and the data element within the loop. "
   ]
  },
  {
   "cell_type": "code",
   "execution_count": null,
   "metadata": {},
   "outputs": [],
   "source": [
    "countries = [\"Belgium\", \"Mexico\", \"Italy\", \"India\"]\n",
    "for index, country in enumerate(countries):\n",
    "    print(\"I would like to visit \" + country + \".\")"
   ]
  },
  {
   "cell_type": "code",
   "execution_count": null,
   "metadata": {},
   "outputs": [],
   "source": [
    "countries = [\"Belgium\", \"Mexico\", \"Italy\", \"India\"]\n",
    "for index, country in enumerate(countries):\n",
    "    if index%2 == 0:\n",
    "        print(\"I would like to visit \" + country + \".\")\n",
    "    else:\n",
    "        print(\"I would not like to visit \" + country + \".\")\n"
   ]
  },
  {
   "cell_type": "markdown",
   "metadata": {},
   "source": [
    "There are some other useful techniques for flow control, code development, and error handling that we will not discuss in detail here. For example, **try**, **except**, and **finally** can be used to to handle errors and provide error messages. **break** is used to terminate a for loop based on a condition. **continue** can be used to skip the remaining steps in an iteration and move on to the next iteration in a loop."
   ]
  },
  {
   "attachments": {},
   "cell_type": "markdown",
   "metadata": {},
   "source": [
    "## List Comprehension - Great Feature from Python!"
   ]
  },
  {
   "attachments": {},
   "cell_type": "markdown",
   "metadata": {},
   "source": [
    "**List comprehension** is a nice feature in Python.\n",
    "\n",
    "This technique allows you to create a new list from elements in an existing list and offers more concise syntax than accomplishing the same task using a for loop. \n",
    "\n",
    "In the first example, You will see that we use a list comprehension to return each element (*c*) in *lst1* to a new lst, *lst2*, if the string starts with the letter \"B\". Here is how you would read the syntax within the square brackets:\n",
    "\n",
    "* \"Return the element (*c*) from the list (*lst1*) if its first character is \"B\".\n",
    "\n",
    "In the second example, no condition is used. Instead, you are concatenating \"I would like to visit \" to each country and returning each result as an element in a new list. \n",
    "\n",
    "You will see examples of list comprehension in later modules. It is a very handy technique. \n"
   ]
  },
  {
   "cell_type": "code",
   "execution_count": null,
   "metadata": {},
   "outputs": [],
   "source": [
    "# Example 1\n",
    "\n",
    "lst1 = [\"Belgium\", \"Mexico\", \"Italy\", \"India\", \"Bulgaria\", \"Belarus\"]\n",
    "lst2 = [c for c in lst1 if c[0] == \"B\"]\n",
    "print(lst2)"
   ]
  },
  {
   "cell_type": "code",
   "execution_count": null,
   "metadata": {},
   "outputs": [],
   "source": [
    "# Example 2\n",
    "\n",
    "lst1 = [\"Belgium\", \"Mexico\", \"Italy\", \"India\", \"Bulgaria\", \"Belarus\"]\n",
    "lst2 = [\"I would like to visit \" + c for c in lst1]\n",
    "print(lst2)"
   ]
  },
  {
   "cell_type": "markdown",
   "metadata": {},
   "source": [
    "## Classes"
   ]
  },
  {
   "attachments": {},
   "cell_type": "markdown",
   "metadata": {},
   "source": [
    "We briefly covered  **classes** in the previous notebook. Here, we will provide a more in-depth discussion. \n",
    "\n",
    "Since Python is an object-based language, it is important to be able to define different types of objects.\n",
    "Classes serve as blueprints for creating new types of objects. Thus, the concept, use, and application of classes is very important in Python. \n",
    "\n",
    "To create a new class, you must use the *class* keyword. In the following example, you are generating a new class called *Course*. To construct a class, you must use the *\\_\\_init\\_\\_()* function. Within this function, you can assign values to object properties, and *\\_\\_init\\_\\_()*  will be executed any time a new instance of the class is created. When You create an instance of my *Course* class, three properties will be initiated: **the subject code**, **course number**, and **course name*.\n",
    "\n",
    "*self* references the current instance of the class. Although you can use a term other than *self*, *self* is the standard term used. Regardless of the term used, it must be the first parameter in *\\_\\_init\\_\\_()*. \n",
    "\n",
    "After the *\\_\\_init\\_\\_()* function, you  then define a **method** that will be associated with the class. This method, **printCourse()**, will print the course name. Again, methods are functions that are associated with an object or class.\n",
    "\n",
    "In order to use the method, You must first create an instance of the class and provide arguments for the required parameters. \n",
    "You can then apply the method to the instance to print the course info. \n",
    "\n",
    "Once an instance of a class is created, the arguments assigned to properties can be changed using the following generic syntax: instance.property = new argument. Here you are changing the *number* parameter of the *x* instance of the *Course* class to 350. and then use my *printCourse()* method again. "
   ]
  },
  {
   "cell_type": "code",
   "execution_count": null,
   "metadata": {},
   "outputs": [],
   "source": [
    "class Course:\n",
    "    def __init__(self, subject, number, name):\n",
    "        self.subject = subject\n",
    "        self.number = number\n",
    "        self.name = name\n",
    "    def printCourse(self):\n",
    "        print(\"Course is \" + self.subject + \": \" + self.name + \" with the code: \" + str(self.number))\n",
    "\n",
    "x = Course(\"Spatial Analysys\", 33209, \"Using Python\")\n",
    "x.printCourse()\n",
    "type(x)\n",
    "\n",
    "x.number = 350\n",
    "x.printCourse()\n"
   ]
  },
  {
   "cell_type": "markdown",
   "metadata": {},
   "source": [
    "Once a class is created, **subclassess** can be derived from it. By default, subclasses will take on the properties and methods of the parent or superclass. However, you can alter or add properties and methods. This allows you to start with a more generic blueprint and refine it for a specific use case, as opposed to building a new class from scratch. \n",
    "\n",
    "In the example below, I have redefined the *Course* class then subclassed it to create the *Undergrad* class. I have added a parameter, which requires redefining the *\\_\\_init\\_\\_()* function. The *super()* function returns all of the parameters and methods of the parent class. The use of *super()* provides control over what is inherited by the child class from the parent. We will not explore all possible use cases here. I then define a new method called *printCourse2()*.\n",
    "\n",
    "Once an instance of the *Undergrad* class is created, I can use both methods, since the *printCourse()* method was inherited from the parent class. "
   ]
  },
  {
   "cell_type": "code",
   "execution_count": null,
   "metadata": {},
   "outputs": [],
   "source": [
    "class Course:\n",
    "    def __init__(self, subject, number, name):\n",
    "        self.subject = subject\n",
    "        self.number = number\n",
    "        self.name = name\n",
    "    def printCourse(self):\n",
    "        print(\"Course is \" + self.subject + \" \" + self.name + \", Code:  \"+ str(self.number))\n",
    "\n",
    "class Undergrad(Course):\n",
    "    def __init__(self, subject, number, name, level):\n",
    "        super().__init__(subject, number, name)\n",
    "        self.level = level\n",
    "    def printCourse2(self):\n",
    "       print(\"Undergrad Course is \" + self.subject + \" \"  + self.name + \". \" + \"Must be a \" + self.level + \" to take this course.\") \n",
    "\n",
    "x = Undergrad(\"Spatial Analysys\", 3209, \"With Python\", \"for New students\")\n",
    "x.printCourse()\n",
    "x.printCourse2()\n"
   ]
  },
  {
   "cell_type": "markdown",
   "metadata": {},
   "source": [
    "You will not be required to created classes and subclasses in this course. However, it is important to understand this functionality of Python for making use of modules and libraries, as this is used extensively. For example, the [PyTorch](https://pytorch.org/) library, which is used for deep learning, makes extensive use of classes, and using it will require subclassing available classes. "
   ]
  },
  {
   "cell_type": "markdown",
   "metadata": {},
   "source": [
    "## Math Module"
   ]
  },
  {
   "cell_type": "markdown",
   "metadata": {},
   "source": [
    "The functionality of Python is expanded using **modules**. Modules represent sets of code and tools and are combined into **libraries**. In this class, we will explore several modules or libraries used for data science including **NumPy**, **Pandas**, **matplotlib**, and **scikit-learn**. We will also explore libraries for geospatial data analysis including **GeoPandas** and **Rasterio**.\n",
    "\n",
    "As an introduction to modules and libraries, we will now explore the **math module**. To use a module, it first needs to be **imported**. You can then use the methods provided by the module. When using a method from the math module, you must include the module name as demonstrated below."
   ]
  },
  {
   "cell_type": "code",
   "execution_count": null,
   "metadata": {},
   "outputs": [],
   "source": [
    "import math\n",
    "\n",
    "x = 4.318\n",
    "print(math.cos(x))\n",
    "print(math.sin(x))\n",
    "print(math.tan(x))\n",
    "print(math.sqrt(x))\n",
    "print(math.log10(x))\n",
    "print(math.floor(x))"
   ]
  },
  {
   "cell_type": "markdown",
   "metadata": {},
   "source": [
    "You can also provide an alias or shorthand name for the module when importing it by using the *as* keyword. This can be used to simplify code."
   ]
  },
  {
   "cell_type": "code",
   "execution_count": null,
   "metadata": {},
   "outputs": [],
   "source": [
    "import math as m\n",
    "\n",
    "x = 4.318\n",
    "print(m.cos(x))\n",
    "print(m.sin(x))\n",
    "print(m.tan(x))\n",
    "print(m.sqrt(x))\n",
    "print(m.log10(x))\n",
    "print(m.floor(x))"
   ]
  },
  {
   "cell_type": "markdown",
   "metadata": {},
   "source": [
    "If you want to import each individual function from a module and not need to use the module name or alias name in your code, you can use the import syntax demonstrated below. This is generally best to avoid, especially if the module is large and/or has many functions. "
   ]
  },
  {
   "cell_type": "code",
   "execution_count": null,
   "metadata": {},
   "outputs": [],
   "source": [
    "from math import *\n",
    "\n",
    "x = 4.318\n",
    "print(cos(x))\n",
    "print(sin(x))\n",
    "print(tan(x))\n",
    "print(sqrt(x))\n",
    "print(log10(x))\n",
    "print(floor(x))"
   ]
  },
  {
   "cell_type": "markdown",
   "metadata": {},
   "source": [
    "You can also import individual functions or subsets of functions as opposed to the entire module. "
   ]
  },
  {
   "cell_type": "code",
   "execution_count": null,
   "metadata": {},
   "outputs": [],
   "source": [
    "from math import cos, sin\n",
    "x = 4.318\n",
    "print(cos(x))\n",
    "print(sin(x))"
   ]
  },
  {
   "cell_type": "markdown",
   "metadata": {},
   "source": [
    "## Working with Files"
   ]
  },
  {
   "attachments": {},
   "cell_type": "markdown",
   "metadata": {},
   "source": [
    "### 1. Read Files"
   ]
  },
  {
   "attachments": {},
   "cell_type": "markdown",
   "metadata": {},
   "source": [
    "As a **data scientist** or **geospatial data scientist**, you need to use Python to work with and analyze files on your local machine.\n",
    "\n",
    "First, a file or folder path can be assigned to a variable. On a Windows machine, you will need to either:\n",
    "\n",
    "* Change the backslashes to forward slashes or \n",
    "* Use the backslash escape character ahead of any backslash.\n",
    "\n",
    "This is tricky depending of the operating system."
   ]
  },
  {
   "cell_type": "code",
   "execution_count": null,
   "metadata": {},
   "outputs": [],
   "source": [
    "txt1 = \"D:/data/text_files/t1.txt\" #Must change backslash to forward slash\n",
    "txt1 = \"D:\\\\data\\\\text_files\\\\t1.txt\" #Or, use the backslash escape character"
   ]
  },
  {
   "attachments": {},
   "cell_type": "markdown",
   "metadata": {},
   "source": [
    "To read a text file you can just use the module with, like this:"
   ]
  },
  {
   "cell_type": "code",
   "execution_count": null,
   "metadata": {},
   "outputs": [],
   "source": [
    "with open(\"data/cities.txt\", \"r\") as f:\n",
    "    contents = f.read()\n",
    "    print(contents)"
   ]
  },
  {
   "attachments": {},
   "cell_type": "markdown",
   "metadata": {},
   "source": [
    "In the following example, we first import the **csv module**, which provides functionality for working with CSV files.\n",
    "\n",
    "We then use the **with** statement to open the file \"world_cities.csv\" in read mode (r) and assign the file object to the variable csvfile. \n",
    "\n",
    "We pass this file object to the csv.reader function to create a reader object that can be used to iterate over the rows of the CSV file.\n",
    "\n",
    "Inside the with block, we loop over each row in the CSV file using a for loop, and print out each row using the print function. \n",
    "\n",
    "Note that each row is represented as a list of strings.\n"
   ]
  },
  {
   "cell_type": "code",
   "execution_count": null,
   "metadata": {},
   "outputs": [],
   "source": [
    "import csv\n",
    "\n",
    "with open(\"data/world_cities.csv\", \"r\") as csvfile:\n",
    "    reader = csv.reader(csvfile)\n",
    "    for row in reader:\n",
    "        print(row)"
   ]
  },
  {
   "attachments": {},
   "cell_type": "markdown",
   "metadata": {},
   "source": [
    "Specific modules or libraries will allow you to read in and work with specific types of data. For example, in the code below you are using **Pandas** to read in a comma-separated values (CSV) file as a Pandas DataFrame. We will discuss **Pandas** in a later part of this module.\n",
    "\n",
    "In case you did not notice we use the keyword **import** to literally import the functionally of an external package that requires previous installation, but we did all installations  at once when we installed the **py4sa.yml** file. \n",
    "\n",
    "So now we can import it without any issue. In case you need to import a new module that has not been included in your initial setup, you can still install it first, then make the import."
   ]
  },
  {
   "cell_type": "code",
   "execution_count": null,
   "metadata": {},
   "outputs": [],
   "source": [
    "import numpy as np #Import numpy package, but then we said as np just for quick reference later in the code.\n",
    "import pandas as pd #Import pandas package, but then we said as pd just for quick reference later in the code.\n",
    "# Sometime get the rigth path is tricky, so before entering to the function, you can add a previous cell and make sure the path is correctly called.\n",
    "cities_df = pd.read_csv(\"data/world_cities.csv\", sep=\",\", header=0, encoding=\"ISO-8859-1\")\n",
    "cities_df.head(10)"
   ]
  },
  {
   "attachments": {},
   "cell_type": "markdown",
   "metadata": {},
   "source": [
    "You can also use other modules like **matplotlib** to read and plot external files like an image, like this:"
   ]
  },
  {
   "cell_type": "code",
   "execution_count": null,
   "metadata": {},
   "outputs": [],
   "source": [
    "# importing required libraries\n",
    "import matplotlib.pyplot as plt\n",
    "import matplotlib.image as img\n",
    "  \n",
    "# reading the image\n",
    "testImage = img.imread('data/sentinel_img.png')\n",
    "  \n",
    "# displaying the image\n",
    "plt.imshow(testImage)"
   ]
  },
  {
   "cell_type": "markdown",
   "metadata": {},
   "source": [
    "### Working with Directories"
   ]
  },
  {
   "cell_type": "markdown",
   "metadata": {},
   "source": [
    "Instead of reading in individual files, you may want to access entire lists of files in a directory. The example below demonstrates one method for accomplishing this using the **os** module and **list comprehension**. Specifically, it will find all TXT files in a directory and write their names to a list. \n",
    "\n",
    "Only the file name is included in the generated list, so I use additional list comprehension to add the full file path and generate a new list."
   ]
  },
  {
   "cell_type": "code",
   "execution_count": null,
   "metadata": {},
   "outputs": [],
   "source": [
    "import os\n",
    "\n",
    "direct = \"data/text_files\"\n",
    "\n",
    "files = os.listdir(direct)\n",
    "files_txt = [i for i in files if i.endswith('.txt')]\n",
    "print(files_txt)\n",
    "\n",
    "txtlst = [direct + s for s in files_txt]\n",
    "print(txtlst)"
   ]
  },
  {
   "cell_type": "markdown",
   "metadata": {},
   "source": [
    "The code below demonstrates three other methods for reading in a list of TXT files from a directory. The first method uses the *listdir()* method from the **os** module, the second uses the *walk()* method form the **os** module (which allows for recursive searching within subdirectories), and the last method uses the **glob** module. \n",
    "\n",
    "You will see many other examples in this course of how to read files and lists of file names. "
   ]
  },
  {
   "cell_type": "code",
   "execution_count": null,
   "metadata": {},
   "outputs": [],
   "source": [
    "from os import listdir\n",
    " \n",
    "def list_files1(directory, extension):\n",
    "    return (f for f in listdir(directory) if f.endswith('.' + extension))\n",
    "\n",
    "from os import walk\n",
    " \n",
    "def list_files2(directory, extension):\n",
    "    for (dirpath, dirnames, filenames) in walk(directory):\n",
    "        return (f for f in filenames if f.endswith('.' + extension))\n",
    "    \n",
    "from glob import glob\n",
    "from os import getcwd, chdir\n",
    " \n",
    "def list_files3(directory, extension):\n",
    "    saved = getcwd()\n",
    "    chdir(directory)\n",
    "    it = glob('*.' + extension)\n",
    "    chdir(saved)\n",
    "    return it\n",
    "\n",
    "direct = \"data/text_files\"\n",
    "method1 = list(list_files1(direct, \"txt\"))\n",
    "method2 = list(list_files2(direct, \"txt\"))\n",
    "method3 = list_files3(direct, \"txt\")\n",
    "print(method1)\n",
    "print(method2)\n",
    "print(method3)"
   ]
  },
  {
   "cell_type": "markdown",
   "metadata": {},
   "source": [
    "## f-Strings"
   ]
  },
  {
   "cell_type": "markdown",
   "metadata": {},
   "source": [
    "In Python, **f-strings** can be used to format printed strings or include variables within strings. This technique can be useful for generating well-formatted and useful print statements or dynamically using variables in printed strings. \n",
    "\n",
    "In the first example, I am printing *x* but with formatting defined to round to two decimal places. In the next example, I multiply *x* by itself in the printed string. Note that f-strings will begin with *f* followed by the statement in parenthesis. Variables or code will be placed in curly brackets, and formatting can be defined using syntax after a colon. In the first example, \":2f\" indicates to round to two decimal places.\n",
    "\n",
    "In the third example, I am calling *x* in a statement while in the fourth example I am using the *.upper()* method to convert the string to all uppercase in the printed statement. Lastly, I have edited the *enumerate()* example above with an f-string to print the country name and assigned index in the for loop. \n",
    "\n",
    "Throughout this course, you will see examples of f-strings for providing better formatted and/or more interpretable print output. "
   ]
  },
  {
   "cell_type": "code",
   "execution_count": null,
   "metadata": {},
   "outputs": [],
   "source": [
    "x = 0.123456789\n",
    "print(f'The value is {x:.2f}')\n",
    "x = 6\n",
    "x = \"blue\"\n",
    "print(f'My favorite color is {x}.')\n",
    "x = \"blue\"\n",
    "print(f'My favorite color is {x.upper()}.')\n",
    "\n",
    "countries = [\"Belgium\", \"Mexico\", \"Italy\", \"India\"]\n",
    "for index, country in enumerate(countries):\n",
    "    print(f'The index for {country} is {index}.')"
   ]
  },
  {
   "attachments": {},
   "cell_type": "markdown",
   "metadata": {},
   "source": [
    "## What's next"
   ]
  },
  {
   "attachments": {},
   "cell_type": "markdown",
   "metadata": {},
   "source": [
    "With these two notebooks you got a comprehensive list of components that you can use, to construct you future python scripts. Now it is just a matter of practice and more practice.\n",
    "\n",
    "Initially you will think this is extremely complicated, but with the exercises you will realised that is actually pretty simple. \n",
    "\n",
    "Like we said before, if you have any particular question aks the available TA in the room.\n",
    "\n",
    "Well done, now you have the basics for python is time to PRACTICE a bit.\n",
    "\n",
    "Open the **Exercises Notebook** and complete the challenges there. "
   ]
  }
 ],
 "metadata": {
  "celltoolbar": "Raw Cell Format",
  "kernelspec": {
   "display_name": "py4sa",
   "language": "python",
   "name": "python3"
  },
  "language_info": {
   "codemirror_mode": {
    "name": "ipython",
    "version": 3
   },
   "file_extension": ".py",
   "mimetype": "text/x-python",
   "name": "python",
   "nbconvert_exporter": "python",
   "pygments_lexer": "ipython3",
   "version": "3.10.9"
  },
  "vscode": {
   "interpreter": {
    "hash": "a62a218f45948969006c944db2ca1c519af623da5e08f864ae6aafcacb945df1"
   }
  }
 },
 "nbformat": 4,
 "nbformat_minor": 4
}
