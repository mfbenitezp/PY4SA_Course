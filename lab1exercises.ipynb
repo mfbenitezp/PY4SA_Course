{
 "cells": [
  {
   "cell_type": "code",
   "execution_count": 1,
   "id": "0870e0c2-14cd-4d7a-909b-4f8e8af95f97",
   "metadata": {},
   "outputs": [
    {
     "name": "stdout",
     "output_type": "stream",
     "text": [
      "15\n"
     ]
    }
   ],
   "source": [
    "x=10\n",
    "y=5\n",
    "print(x+y)"
   ]
  },
  {
   "cell_type": "code",
   "execution_count": 2,
   "id": "be97bd1b-27fd-431f-91fa-28e7137848b7",
   "metadata": {},
   "outputs": [
    {
     "name": "stdout",
     "output_type": "stream",
     "text": [
      "50\n"
     ]
    }
   ],
   "source": [
    "x=10\n",
    "y=5\n",
    "print(x*y)"
   ]
  },
  {
   "cell_type": "markdown",
   "id": "de503105-c168-4a13-9332-8c2ba64e343d",
   "metadata": {},
   "source": [
    "# Trying out markdowns"
   ]
  },
  {
   "cell_type": "markdown",
   "id": "ea1949be-7f79-46e5-bc76-8279e0b2f9fa",
   "metadata": {},
   "source": [
    "## markdown subheading "
   ]
  },
  {
   "cell_type": "markdown",
   "id": "35f86cf7-3836-4773-9765-23cf55248046",
   "metadata": {},
   "source": [
    "### markdown list "
   ]
  },
  {
   "cell_type": "markdown",
   "id": "a621be29-4053-42f5-8df7-947b079b3ed2",
   "metadata": {},
   "source": [
    "1. python \n",
    "2. conda\n",
    "3. jupyter"
   ]
  },
  {
   "cell_type": "code",
   "execution_count": 8,
   "id": "2808eab6-908b-4d2a-b435-c68cce37fae7",
   "metadata": {},
   "outputs": [
    {
     "name": "stdout",
     "output_type": "stream",
     "text": [
      "16.833333333333332\n"
     ]
    }
   ],
   "source": [
    "lst1=[5, 7, 9, 15, 22, 43]\n",
    "print(sum(lst1)/len(lst1))"
   ]
  }
 ],
 "metadata": {
  "kernelspec": {
   "display_name": "Python 3 (ipykernel)",
   "language": "python",
   "name": "python3"
  },
  "language_info": {
   "codemirror_mode": {
    "name": "ipython",
    "version": 3
   },
   "file_extension": ".py",
   "mimetype": "text/x-python",
   "name": "python",
   "nbconvert_exporter": "python",
   "pygments_lexer": "ipython3",
   "version": "3.10.9"
  }
 },
 "nbformat": 4,
 "nbformat_minor": 5
}
