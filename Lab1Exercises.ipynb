{
 "cells": [
  {
   "cell_type": "markdown",
   "id": "38a112e4-f6a8-48fa-b5f3-faef7ca78550",
   "metadata": {},
   "source": [
    "## Python Lab 1 Exercises"
   ]
  },
  {
   "cell_type": "markdown",
   "id": "17e14aef-bee3-482f-98d3-260efe82f23d",
   "metadata": {},
   "source": [
    "### 1.1 Testing Jupyter Notebooks"
   ]
  },
  {
   "cell_type": "code",
   "execution_count": 1,
   "id": "78c973c9-86c2-43d6-a6b1-8d0507e23101",
   "metadata": {},
   "outputs": [
    {
     "data": {
      "text/plain": [
       "15"
      ]
     },
     "execution_count": 1,
     "metadata": {},
     "output_type": "execute_result"
    }
   ],
   "source": [
    "10 + 5"
   ]
  },
  {
   "cell_type": "markdown",
   "id": "5280c7fa-7e60-4116-8d76-9503544896bc",
   "metadata": {},
   "source": [
    "### 1.2 Average of a list of numbers"
   ]
  },
  {
   "cell_type": "code",
   "execution_count": 10,
   "id": "7fb23a6d-d198-411d-8d1b-7a519accfa73",
   "metadata": {},
   "outputs": [
    {
     "name": "stdout",
     "output_type": "stream",
     "text": [
      "86.8\n"
     ]
    }
   ],
   "source": [
    "x = [80, 90, 95, 87, 82]\n",
    "\n",
    "# define a function which calculates an average\n",
    "def avg(*args):\n",
    "    sum = 0\n",
    "    for a in args:\n",
    "        sum += a\n",
    "    average = sum/(len(args))\n",
    "    return average\n",
    "\n",
    "print(avg(*x))\n",
    "        "
   ]
  },
  {
   "cell_type": "markdown",
   "id": "6cccf5aa-79ed-4142-bf9a-20722a240ac3",
   "metadata": {},
   "source": [
    "### 1.3 Importing packages\n",
    "In order to use fuctions and other properties in a package you need to import it first."
   ]
  },
  {
   "cell_type": "markdown",
   "id": "0c3d8192-a69b-4b33-8a58-cd6f5d81afb2",
   "metadata": {},
   "source": [
    "### 1.4 Indentation"
   ]
  },
  {
   "cell_type": "code",
   "execution_count": 11,
   "id": "fae64b54-d34f-45a4-bdf0-b75b425bee6c",
   "metadata": {},
   "outputs": [
    {
     "name": "stdout",
     "output_type": "stream",
     "text": [
      "My name is Dave and I own 0 dogs.\n"
     ]
    }
   ],
   "source": [
    "name = 'Dave'\n",
    "dogs = 0 \n",
    "print('My name is', name, 'and I own', dogs, 'dogs.')"
   ]
  },
  {
   "cell_type": "markdown",
   "id": "5ca43aaf-0331-4b58-afb8-781d6fb41d0d",
   "metadata": {},
   "source": [
    "### 1.4 Strings"
   ]
  },
  {
   "cell_type": "code",
   "execution_count": 15,
   "id": "a82cc74a-c2bc-47ef-b640-35024b2191f9",
   "metadata": {},
   "outputs": [
    {
     "name": "stdout",
     "output_type": "stream",
     "text": [
      "Taco time\n",
      "Taco time\n",
      "5\n",
      "Taco 5\n"
     ]
    }
   ],
   "source": [
    "a = \"Taco \"\n",
    "b = \"time\"\n",
    "c = a + b\n",
    "print(c)\n",
    "print(a + b) \n",
    "\n",
    "d = \"5\"\n",
    "e = int(d)\n",
    "print(e)\n",
    "print(a + d)"
   ]
  },
  {
   "cell_type": "markdown",
   "id": "9294846f-a5b4-4f5b-86a6-3f0b5a4912cc",
   "metadata": {},
   "source": [
    "### 1.5 Nested If Statements"
   ]
  },
  {
   "cell_type": "code",
   "execution_count": null,
   "id": "c222f8db-59b5-45b6-84e5-65d98ed03c7e",
   "metadata": {},
   "outputs": [],
   "source": [
    "season = \"Winter\"\n",
    "temperature = 10\n",
    "\n",
    "if season == \"Winter\":\n",
    "    if temperature > 7:\n",
    "         print(\"No need for winter jacket!\")\n",
    "    else:\n",
    "         print(\"It might be cold! Wear a proper jacket!\")\n",
    "elif season == \"Summer\":\n",
    "    if temperature > 20:\n",
    "         print(\"It's warm! Time to wear shorts!\")\n",
    "    else:\n",
    "         print(\"Well this is Finland, better wear long trousers!\")\n",
    "else:\n",
    "     print(\"Check the weather forecast!\")"
   ]
  },
  {
   "cell_type": "markdown",
   "id": "23a8dd70-ee35-4632-951e-6543e3103026",
   "metadata": {},
   "source": [
    "### 1.7 Functions"
   ]
  },
  {
   "cell_type": "code",
   "execution_count": 29,
   "id": "b3b5f76c-f751-4f30-b508-ea460d152174",
   "metadata": {},
   "outputs": [
    {
     "name": "stdout",
     "output_type": "stream",
     "text": [
      "20\n",
      "No. of Upper case characters: 12\n",
      "No. of Lower case characters: 3\n",
      "Original string: The quick Brow Fox\n",
      "No of Upper case characters: 12\n",
      "No of Lower case characters: 3\n"
     ]
    }
   ],
   "source": [
    "# sum of all numbers in a list\n",
    "def add(*args):\n",
    "    sum = 0\n",
    "    for a in args:\n",
    "        sum += a\n",
    "    return sum\n",
    "\n",
    "a = [8, 2, 3, 0, 7]\n",
    "print(add(*a))\n",
    "\n",
    "# multiply all numbers in a list\n",
    "def multi(*args):\n",
    "    prod = 1\n",
    "    for a in args:\n",
    "        prod *= a\n",
    "    return prod\n",
    "\n",
    "b = [8, 2, 3, -1, 7]\n",
    "\n",
    "\n",
    "# check if x<a<y\n",
    "def in_range(a, x, y):\n",
    "    if a > x:\n",
    "        return True \n",
    "    else:\n",
    "        return False\n",
    "    if a < y:\n",
    "        return True\n",
    "    else:\n",
    "        return False\n",
    "\n",
    "# \n",
    "def upper_lower(string):\n",
    "    lower =0\n",
    "    upper =0\n",
    "    for i in string:\n",
    "        if i.islower():\n",
    "            lower += 1\n",
    "        elif i.isupper():\n",
    "            upper += 1\n",
    "        else:\n",
    "            pass\n",
    "    print(\"No. of Upper case characters:\", str(lower))\n",
    "    print(\"No. of Lower case characters:\", str(upper))\n",
    "\n",
    "s = \"The quick Brow Fox\"\n",
    "upper_lower(s)\n",
    "\n",
    "def string_test(string):\n",
    "    #the same thing as above just with dictionary\n",
    "    d={\"UPPER\":0,\"LOWER\":0}\n",
    "    for i in string:\n",
    "        if i.islower():\n",
    "            d[\"UPPER\"]+=1\n",
    "        elif i.isupper():\n",
    "            d[\"LOWER\"]+=1\n",
    "        else:\n",
    "            pass\n",
    "    print(\"Original string:\", string)\n",
    "    print(\"No of Upper case characters:\", d[\"UPPER\"])\n",
    "    print(\"No of Lower case characters:\", d[\"LOWER\"])\n",
    "\n",
    "string_test(s)    "
   ]
  },
  {
   "cell_type": "code",
   "execution_count": 42,
   "id": "10a24baf-599c-48fe-a2d0-ec5b5dbe7747",
   "metadata": {},
   "outputs": [
    {
     "name": "stdout",
     "output_type": "stream",
     "text": [
      "[2, 4, 6, 8]\n",
      "[1, 4, 9, 16, 25, 36, 49, 64, 81]\n"
     ]
    },
    {
     "ename": "IndexError",
     "evalue": "list index out of range",
     "output_type": "error",
     "traceback": [
      "\u001b[1;31m---------------------------------------------------------------------------\u001b[0m",
      "\u001b[1;31mIndexError\u001b[0m                                Traceback (most recent call last)",
      "Cell \u001b[1;32mIn[42], line 30\u001b[0m\n\u001b[0;32m     28\u001b[0m         x[i] \u001b[38;5;241m+\u001b[39m\u001b[38;5;241m=\u001b[39m x[i\u001b[38;5;241m+\u001b[39m\u001b[38;5;241m1\u001b[39m]\n\u001b[0;32m     29\u001b[0m     \u001b[38;5;28;01mreturn\u001b[39;00m x\n\u001b[1;32m---> 30\u001b[0m \u001b[38;5;28mprint\u001b[39m(\u001b[43mfibo\u001b[49m\u001b[43m(\u001b[49m\u001b[38;5;241;43m4\u001b[39;49m\u001b[43m)\u001b[49m)\n",
      "Cell \u001b[1;32mIn[42], line 28\u001b[0m, in \u001b[0;36mfibo\u001b[1;34m(n)\u001b[0m\n\u001b[0;32m     26\u001b[0m x \u001b[38;5;241m=\u001b[39m []\n\u001b[0;32m     27\u001b[0m \u001b[38;5;28;01mfor\u001b[39;00m i \u001b[38;5;129;01min\u001b[39;00m \u001b[38;5;28mrange\u001b[39m(n):\n\u001b[1;32m---> 28\u001b[0m     x[i] \u001b[38;5;241m+\u001b[39m\u001b[38;5;241m=\u001b[39m x[i\u001b[38;5;241m+\u001b[39m\u001b[38;5;241m1\u001b[39m]\n\u001b[0;32m     29\u001b[0m \u001b[38;5;28;01mreturn\u001b[39;00m x\n",
      "\u001b[1;31mIndexError\u001b[0m: list index out of range"
     ]
    }
   ],
   "source": [
    "# print even numbers\n",
    "def is_even(*args):\n",
    "    even = []\n",
    "    for a in args:\n",
    "        if (a % 2) == 0:\n",
    "            even.append(a)\n",
    "        else:\n",
    "            pass\n",
    "    return even\n",
    "\n",
    "l = [1, 2, 3, 4, 5, 6, 7, 8, 9]\n",
    "print(is_even(*l))\n",
    "\n",
    "# calculate and print a list of squares of numbers\n",
    "def list_squares(*args):\n",
    "    squares = []\n",
    "    for a in args:\n",
    "        sq = a ** 2 \n",
    "        squares.append(sq)\n",
    "    print(squares)\n",
    "\n",
    "list_squares(*l)\n",
    "\n",
    "# calculates first n terms in fibonacci sequence\n",
    "def fibo(n):\n",
    "    x = []\n",
    "    for i in range(n):\n",
    "        x[i+1] += x[i]\n",
    "    return x\n",
    "print(fibo(4))"
   ]
  }
 ],
 "metadata": {
  "kernelspec": {
   "display_name": "Python 3 (ipykernel)",
   "language": "python",
   "name": "python3"
  },
  "language_info": {
   "codemirror_mode": {
    "name": "ipython",
    "version": 3
   },
   "file_extension": ".py",
   "mimetype": "text/x-python",
   "name": "python",
   "nbconvert_exporter": "python",
   "pygments_lexer": "ipython3",
   "version": "3.10.9"
  }
 },
 "nbformat": 4,
 "nbformat_minor": 5
}
